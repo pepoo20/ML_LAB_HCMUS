{
 "cells": [
  {
   "cell_type": "markdown",
   "metadata": {
    "id": "Y4HLpTHnzICF"
   },
   "source": [
    "#Gaussian Naive Bayes"
   ]
  },
  {
   "cell_type": "code",
   "execution_count": null,
   "metadata": {
    "colab": {
     "base_uri": "https://localhost:8080/"
    },
    "executionInfo": {
     "elapsed": 19612,
     "status": "ok",
     "timestamp": 1681549969203,
     "user": {
      "displayName": "Dac Nguyen",
      "userId": "01275678335241040197"
     },
     "user_tz": -420
    },
    "id": "bIAWEz_ZavyA",
    "outputId": "5b2c2711-222b-420d-a889-fba767ab0013"
   },
   "outputs": [
    {
     "name": "stdout",
     "output_type": "stream",
     "text": [
      "Mounted at /content/drive\n"
     ]
    }
   ],
   "source": [
    "import pandas as pd\n",
    "import numpy as np\n",
    "import matplotlib.pyplot as plt\n",
    "import seaborn as sns\n",
    "from google.colab import drive\n",
    "drive.mount(\"/content/drive\")"
   ]
  },
  {
   "cell_type": "code",
   "execution_count": null,
   "metadata": {
    "colab": {
     "base_uri": "https://localhost:8080/",
     "height": 204
    },
    "executionInfo": {
     "elapsed": 433,
     "status": "ok",
     "timestamp": 1681551387502,
     "user": {
      "displayName": "Dac Nguyen",
      "userId": "01275678335241040197"
     },
     "user_tz": -420
    },
    "id": "c3Gz39jHMylz",
    "outputId": "59082332-4804-4d67-f254-c46e2aebe292"
   },
   "outputs": [
    {
     "data": {
      "text/html": [
       "\n",
       "  <div id=\"df-82974334-2083-439e-ad3c-fd4c6bb83a33\">\n",
       "    <div class=\"colab-df-container\">\n",
       "      <div>\n",
       "<style scoped>\n",
       "    .dataframe tbody tr th:only-of-type {\n",
       "        vertical-align: middle;\n",
       "    }\n",
       "\n",
       "    .dataframe tbody tr th {\n",
       "        vertical-align: top;\n",
       "    }\n",
       "\n",
       "    .dataframe thead th {\n",
       "        text-align: right;\n",
       "    }\n",
       "</style>\n",
       "<table border=\"1\" class=\"dataframe\">\n",
       "  <thead>\n",
       "    <tr style=\"text-align: right;\">\n",
       "      <th></th>\n",
       "      <th>User ID</th>\n",
       "      <th>Gender</th>\n",
       "      <th>Age</th>\n",
       "      <th>EstimatedSalary</th>\n",
       "      <th>Purchased</th>\n",
       "    </tr>\n",
       "  </thead>\n",
       "  <tbody>\n",
       "    <tr>\n",
       "      <th>0</th>\n",
       "      <td>15624510</td>\n",
       "      <td>Male</td>\n",
       "      <td>19</td>\n",
       "      <td>19000</td>\n",
       "      <td>0</td>\n",
       "    </tr>\n",
       "    <tr>\n",
       "      <th>1</th>\n",
       "      <td>15810944</td>\n",
       "      <td>Male</td>\n",
       "      <td>35</td>\n",
       "      <td>20000</td>\n",
       "      <td>0</td>\n",
       "    </tr>\n",
       "    <tr>\n",
       "      <th>2</th>\n",
       "      <td>15668575</td>\n",
       "      <td>Female</td>\n",
       "      <td>26</td>\n",
       "      <td>43000</td>\n",
       "      <td>0</td>\n",
       "    </tr>\n",
       "    <tr>\n",
       "      <th>3</th>\n",
       "      <td>15603246</td>\n",
       "      <td>Female</td>\n",
       "      <td>27</td>\n",
       "      <td>57000</td>\n",
       "      <td>0</td>\n",
       "    </tr>\n",
       "    <tr>\n",
       "      <th>4</th>\n",
       "      <td>15804002</td>\n",
       "      <td>Male</td>\n",
       "      <td>19</td>\n",
       "      <td>76000</td>\n",
       "      <td>0</td>\n",
       "    </tr>\n",
       "  </tbody>\n",
       "</table>\n",
       "</div>\n",
       "      <button class=\"colab-df-convert\" onclick=\"convertToInteractive('df-82974334-2083-439e-ad3c-fd4c6bb83a33')\"\n",
       "              title=\"Convert this dataframe to an interactive table.\"\n",
       "              style=\"display:none;\">\n",
       "        \n",
       "  <svg xmlns=\"http://www.w3.org/2000/svg\" height=\"24px\"viewBox=\"0 0 24 24\"\n",
       "       width=\"24px\">\n",
       "    <path d=\"M0 0h24v24H0V0z\" fill=\"none\"/>\n",
       "    <path d=\"M18.56 5.44l.94 2.06.94-2.06 2.06-.94-2.06-.94-.94-2.06-.94 2.06-2.06.94zm-11 1L8.5 8.5l.94-2.06 2.06-.94-2.06-.94L8.5 2.5l-.94 2.06-2.06.94zm10 10l.94 2.06.94-2.06 2.06-.94-2.06-.94-.94-2.06-.94 2.06-2.06.94z\"/><path d=\"M17.41 7.96l-1.37-1.37c-.4-.4-.92-.59-1.43-.59-.52 0-1.04.2-1.43.59L10.3 9.45l-7.72 7.72c-.78.78-.78 2.05 0 2.83L4 21.41c.39.39.9.59 1.41.59.51 0 1.02-.2 1.41-.59l7.78-7.78 2.81-2.81c.8-.78.8-2.07 0-2.86zM5.41 20L4 18.59l7.72-7.72 1.47 1.35L5.41 20z\"/>\n",
       "  </svg>\n",
       "      </button>\n",
       "      \n",
       "  <style>\n",
       "    .colab-df-container {\n",
       "      display:flex;\n",
       "      flex-wrap:wrap;\n",
       "      gap: 12px;\n",
       "    }\n",
       "\n",
       "    .colab-df-convert {\n",
       "      background-color: #E8F0FE;\n",
       "      border: none;\n",
       "      border-radius: 50%;\n",
       "      cursor: pointer;\n",
       "      display: none;\n",
       "      fill: #1967D2;\n",
       "      height: 32px;\n",
       "      padding: 0 0 0 0;\n",
       "      width: 32px;\n",
       "    }\n",
       "\n",
       "    .colab-df-convert:hover {\n",
       "      background-color: #E2EBFA;\n",
       "      box-shadow: 0px 1px 2px rgba(60, 64, 67, 0.3), 0px 1px 3px 1px rgba(60, 64, 67, 0.15);\n",
       "      fill: #174EA6;\n",
       "    }\n",
       "\n",
       "    [theme=dark] .colab-df-convert {\n",
       "      background-color: #3B4455;\n",
       "      fill: #D2E3FC;\n",
       "    }\n",
       "\n",
       "    [theme=dark] .colab-df-convert:hover {\n",
       "      background-color: #434B5C;\n",
       "      box-shadow: 0px 1px 3px 1px rgba(0, 0, 0, 0.15);\n",
       "      filter: drop-shadow(0px 1px 2px rgba(0, 0, 0, 0.3));\n",
       "      fill: #FFFFFF;\n",
       "    }\n",
       "  </style>\n",
       "\n",
       "      <script>\n",
       "        const buttonEl =\n",
       "          document.querySelector('#df-82974334-2083-439e-ad3c-fd4c6bb83a33 button.colab-df-convert');\n",
       "        buttonEl.style.display =\n",
       "          google.colab.kernel.accessAllowed ? 'block' : 'none';\n",
       "\n",
       "        async function convertToInteractive(key) {\n",
       "          const element = document.querySelector('#df-82974334-2083-439e-ad3c-fd4c6bb83a33');\n",
       "          const dataTable =\n",
       "            await google.colab.kernel.invokeFunction('convertToInteractive',\n",
       "                                                     [key], {});\n",
       "          if (!dataTable) return;\n",
       "\n",
       "          const docLinkHtml = 'Like what you see? Visit the ' +\n",
       "            '<a target=\"_blank\" href=https://colab.research.google.com/notebooks/data_table.ipynb>data table notebook</a>'\n",
       "            + ' to learn more about interactive tables.';\n",
       "          element.innerHTML = '';\n",
       "          dataTable['output_type'] = 'display_data';\n",
       "          await google.colab.output.renderOutput(dataTable, element);\n",
       "          const docLink = document.createElement('div');\n",
       "          docLink.innerHTML = docLinkHtml;\n",
       "          element.appendChild(docLink);\n",
       "        }\n",
       "      </script>\n",
       "    </div>\n",
       "  </div>\n",
       "  "
      ],
      "text/plain": [
       "    User ID  Gender  Age  EstimatedSalary  Purchased\n",
       "0  15624510    Male   19            19000          0\n",
       "1  15810944    Male   35            20000          0\n",
       "2  15668575  Female   26            43000          0\n",
       "3  15603246  Female   27            57000          0\n",
       "4  15804002    Male   19            76000          0"
      ]
     },
     "execution_count": 60,
     "metadata": {},
     "output_type": "execute_result"
    }
   ],
   "source": [
    "df = pd.read_csv(\"/content/drive/MyDrive/KHTN/Machine Learning (Nhập môn)/my excercise/Week 03/Week 03/Customer_Behaviour.csv\")\n",
    "df.head()"
   ]
  },
  {
   "cell_type": "code",
   "execution_count": null,
   "metadata": {
    "colab": {
     "base_uri": "https://localhost:8080/"
    },
    "executionInfo": {
     "elapsed": 15,
     "status": "ok",
     "timestamp": 1681549971465,
     "user": {
      "displayName": "Dac Nguyen",
      "userId": "01275678335241040197"
     },
     "user_tz": -420
    },
    "id": "tVBqXvCbfDPC",
    "outputId": "23955194-fffe-4f45-97b0-bcfaa01357ed"
   },
   "outputs": [
    {
     "name": "stdout",
     "output_type": "stream",
     "text": [
      "<class 'pandas.core.frame.DataFrame'>\n",
      "RangeIndex: 400 entries, 0 to 399\n",
      "Data columns (total 5 columns):\n",
      " #   Column           Non-Null Count  Dtype \n",
      "---  ------           --------------  ----- \n",
      " 0   User ID          400 non-null    int64 \n",
      " 1   Gender           400 non-null    object\n",
      " 2   Age              400 non-null    int64 \n",
      " 3   EstimatedSalary  400 non-null    int64 \n",
      " 4   Purchased        400 non-null    int64 \n",
      "dtypes: int64(4), object(1)\n",
      "memory usage: 15.8+ KB\n"
     ]
    }
   ],
   "source": [
    "df.info()"
   ]
  },
  {
   "cell_type": "markdown",
   "metadata": {
    "id": "YHqOU_RcemF5"
   },
   "source": [
    "## Data Analysis"
   ]
  },
  {
   "cell_type": "code",
   "execution_count": null,
   "metadata": {
    "id": "tWnKkLonRNWY"
   },
   "outputs": [],
   "source": [
    "# Get categorical columns and numerical columns\n",
    "categorical_cols = [feature for feature in df.columns if df[feature].dtype == \"O\"]\n",
    "numerical_cols = [feature for feature in df.columns if df[feature].dtype != \"O\"]"
   ]
  },
  {
   "cell_type": "code",
   "execution_count": null,
   "metadata": {
    "colab": {
     "base_uri": "https://localhost:8080/"
    },
    "executionInfo": {
     "elapsed": 3,
     "status": "ok",
     "timestamp": 1681551389763,
     "user": {
      "displayName": "Dac Nguyen",
      "userId": "01275678335241040197"
     },
     "user_tz": -420
    },
    "id": "xt_CoPXdRW0r",
    "outputId": "2c4eb1a2-6105-49d0-9b8b-480c7ad98775"
   },
   "outputs": [
    {
     "data": {
      "text/plain": [
       "Gender    0\n",
       "dtype: int64"
      ]
     },
     "execution_count": 62,
     "metadata": {},
     "output_type": "execute_result"
    }
   ],
   "source": [
    "# Check Missing values\n",
    "df[categorical_cols].isnull().sum()"
   ]
  },
  {
   "cell_type": "code",
   "execution_count": null,
   "metadata": {
    "colab": {
     "base_uri": "https://localhost:8080/",
     "height": 781
    },
    "executionInfo": {
     "elapsed": 2913,
     "status": "ok",
     "timestamp": 1681549974372,
     "user": {
      "displayName": "Dac Nguyen",
      "userId": "01275678335241040197"
     },
     "user_tz": -420
    },
    "id": "AanP3ZsDOxt_",
    "outputId": "72ef46bb-e9d9-4ebf-bc38-2fa994ea6783"
   },
   "outputs": [
    {
     "data": {
      "image/png": "[encoded data removed]",
      "text/plain": [
       "<Figure size 1400x800 with 4 Axes>"
      ]
     },
     "metadata": {},
     "output_type": "display_data"
    }
   ],
   "source": [
    "fig, axes=plt.subplots(len(numerical_cols), 1, figsize=(14, 2*len(numerical_cols)),sharex=False,sharey=False)\n",
    "\n",
    "for i, column in enumerate(numerical_cols):\n",
    "    sns.boxplot(x=column,data=df,palette='crest',ax=axes[i])\n",
    "plt.tight_layout(pad=2.0)"
   ]
  },
  {
   "cell_type": "code",
   "execution_count": null,
   "metadata": {
    "colab": {
     "base_uri": "https://localhost:8080/",
     "height": 466
    },
    "executionInfo": {
     "elapsed": 872,
     "status": "ok",
     "timestamp": 1681549975239,
     "user": {
      "displayName": "Dac Nguyen",
      "userId": "01275678335241040197"
     },
     "user_tz": -420
    },
    "id": "vKFMpI3QerLv",
    "outputId": "e488afda-e6fd-4d3e-c1a3-cc61fa6edab0"
   },
   "outputs": [
    {
     "data": {
      "text/plain": [
       "<Axes: xlabel='Purchased', ylabel='Count'>"
      ]
     },
     "execution_count": 8,
     "metadata": {},
     "output_type": "execute_result"
    },
    {
     "data": {
      "image/png": "[encoded data removed]",
      "text/plain": [
       "<Figure size 640x480 with 1 Axes>"
      ]
     },
     "metadata": {},
     "output_type": "display_data"
    }
   ],
   "source": [
    "#Xem phân phối của EstimatedSalary\n",
    "sns.histplot(x=\"Purchased\", data=df)"
   ]
  },
  {
   "cell_type": "code",
   "execution_count": null,
   "metadata": {
    "colab": {
     "base_uri": "https://localhost:8080/",
     "height": 522
    },
    "executionInfo": {
     "elapsed": 1143,
     "status": "ok",
     "timestamp": 1681549976370,
     "user": {
      "displayName": "Dac Nguyen",
      "userId": "01275678335241040197"
     },
     "user_tz": -420
    },
    "id": "VqUV1OCReyXz",
    "outputId": "cb7d78b2-de55-4910-bf47-6bec100cb2fb"
   },
   "outputs": [
    {
     "name": "stderr",
     "output_type": "stream",
     "text": [
      "<ipython-input-9-3857f0723db1>:2: FutureWarning: The default value of numeric_only in DataFrame.corr is deprecated. In a future version, it will default to False. Select only valid columns or specify the value of numeric_only to silence this warning.\n",
      "  sns.heatmap(df.corr())\n"
     ]
    },
    {
     "data": {
      "text/plain": [
       "<Axes: >"
      ]
     },
     "execution_count": 9,
     "metadata": {},
     "output_type": "execute_result"
    },
    {
     "data": {
      "image/png": "[encoded data removed]",
      "text/plain": [
       "<Figure size 1000x500 with 2 Axes>"
      ]
     },
     "metadata": {},
     "output_type": "display_data"
    }
   ],
   "source": [
    "plt.figure(figsize=(10, 5))\n",
    "sns.heatmap(df.corr())"
   ]
  },
  {
   "cell_type": "markdown",
   "metadata": {
    "id": "p3Q6hy7YUc3y"
   },
   "source": [
    "## Preprocessing"
   ]
  },
  {
   "cell_type": "code",
   "execution_count": null,
   "metadata": {
    "id": "7IyGCQCzUcgs"
   },
   "outputs": [],
   "source": [
    "def preprocessing_data(df):\n",
    "    \"\"\"\n",
    "    Preprocess your data (eg. Drop null datapoints or fill missing data)\n",
    "    :param df: pandas DataFrame\n",
    "    :return: pandas DataFrame\n",
    "    \"\"\"\n",
    "    df.drop(\"User ID\", axis=1, inplace=True)\n",
    "    return df"
   ]
  },
  {
   "cell_type": "code",
   "execution_count": null,
   "metadata": {
    "colab": {
     "base_uri": "https://localhost:8080/",
     "height": 204
    },
    "executionInfo": {
     "elapsed": 571,
     "status": "ok",
     "timestamp": 1681551398806,
     "user": {
      "displayName": "Dac Nguyen",
      "userId": "01275678335241040197"
     },
     "user_tz": -420
    },
    "id": "LJv3QwcQUoer",
    "outputId": "4ab96fd1-0238-4d6d-869e-41d5c049a9a6"
   },
   "outputs": [
    {
     "data": {
      "text/html": [
       "\n",
       "  <div id=\"df-e81a1334-64c8-4738-9daf-c99411af1341\">\n",
       "    <div class=\"colab-df-container\">\n",
       "      <div>\n",
       "<style scoped>\n",
       "    .dataframe tbody tr th:only-of-type {\n",
       "        vertical-align: middle;\n",
       "    }\n",
       "\n",
       "    .dataframe tbody tr th {\n",
       "        vertical-align: top;\n",
       "    }\n",
       "\n",
       "    .dataframe thead th {\n",
       "        text-align: right;\n",
       "    }\n",
       "</style>\n",
       "<table border=\"1\" class=\"dataframe\">\n",
       "  <thead>\n",
       "    <tr style=\"text-align: right;\">\n",
       "      <th></th>\n",
       "      <th>Gender</th>\n",
       "      <th>Age</th>\n",
       "      <th>EstimatedSalary</th>\n",
       "      <th>Purchased</th>\n",
       "    </tr>\n",
       "  </thead>\n",
       "  <tbody>\n",
       "    <tr>\n",
       "      <th>0</th>\n",
       "      <td>Male</td>\n",
       "      <td>19</td>\n",
       "      <td>19000</td>\n",
       "      <td>0</td>\n",
       "    </tr>\n",
       "    <tr>\n",
       "      <th>1</th>\n",
       "      <td>Male</td>\n",
       "      <td>35</td>\n",
       "      <td>20000</td>\n",
       "      <td>0</td>\n",
       "    </tr>\n",
       "    <tr>\n",
       "      <th>2</th>\n",
       "      <td>Female</td>\n",
       "      <td>26</td>\n",
       "      <td>43000</td>\n",
       "      <td>0</td>\n",
       "    </tr>\n",
       "    <tr>\n",
       "      <th>3</th>\n",
       "      <td>Female</td>\n",
       "      <td>27</td>\n",
       "      <td>57000</td>\n",
       "      <td>0</td>\n",
       "    </tr>\n",
       "    <tr>\n",
       "      <th>4</th>\n",
       "      <td>Male</td>\n",
       "      <td>19</td>\n",
       "      <td>76000</td>\n",
       "      <td>0</td>\n",
       "    </tr>\n",
       "  </tbody>\n",
       "</table>\n",
       "</div>\n",
       "      <button class=\"colab-df-convert\" onclick=\"convertToInteractive('df-e81a1334-64c8-4738-9daf-c99411af1341')\"\n",
       "              title=\"Convert this dataframe to an interactive table.\"\n",
       "              style=\"display:none;\">\n",
       "        \n",
       "  <svg xmlns=\"http://www.w3.org/2000/svg\" height=\"24px\"viewBox=\"0 0 24 24\"\n",
       "       width=\"24px\">\n",
       "    <path d=\"M0 0h24v24H0V0z\" fill=\"none\"/>\n",
       "    <path d=\"M18.56 5.44l.94 2.06.94-2.06 2.06-.94-2.06-.94-.94-2.06-.94 2.06-2.06.94zm-11 1L8.5 8.5l.94-2.06 2.06-.94-2.06-.94L8.5 2.5l-.94 2.06-2.06.94zm10 10l.94 2.06.94-2.06 2.06-.94-2.06-.94-.94-2.06-.94 2.06-2.06.94z\"/><path d=\"M17.41 7.96l-1.37-1.37c-.4-.4-.92-.59-1.43-.59-.52 0-1.04.2-1.43.59L10.3 9.45l-7.72 7.72c-.78.78-.78 2.05 0 2.83L4 21.41c.39.39.9.59 1.41.59.51 0 1.02-.2 1.41-.59l7.78-7.78 2.81-2.81c.8-.78.8-2.07 0-2.86zM5.41 20L4 18.59l7.72-7.72 1.47 1.35L5.41 20z\"/>\n",
       "  </svg>\n",
       "      </button>\n",
       "      \n",
       "  <style>\n",
       "    .colab-df-container {\n",
       "      display:flex;\n",
       "      flex-wrap:wrap;\n",
       "      gap: 12px;\n",
       "    }\n",
       "\n",
       "    .colab-df-convert {\n",
       "      background-color: #E8F0FE;\n",
       "      border: none;\n",
       "      border-radius: 50%;\n",
       "      cursor: pointer;\n",
       "      display: none;\n",
       "      fill: #1967D2;\n",
       "      height: 32px;\n",
       "      padding: 0 0 0 0;\n",
       "      width: 32px;\n",
       "    }\n",
       "\n",
       "    .colab-df-convert:hover {\n",
       "      background-color: #E2EBFA;\n",
       "      box-shadow: 0px 1px 2px rgba(60, 64, 67, 0.3), 0px 1px 3px 1px rgba(60, 64, 67, 0.15);\n",
       "      fill: #174EA6;\n",
       "    }\n",
       "\n",
       "    [theme=dark] .colab-df-convert {\n",
       "      background-color: #3B4455;\n",
       "      fill: #D2E3FC;\n",
       "    }\n",
       "\n",
       "    [theme=dark] .colab-df-convert:hover {\n",
       "      background-color: #434B5C;\n",
       "      box-shadow: 0px 1px 3px 1px rgba(0, 0, 0, 0.15);\n",
       "      filter: drop-shadow(0px 1px 2px rgba(0, 0, 0, 0.3));\n",
       "      fill: #FFFFFF;\n",
       "    }\n",
       "  </style>\n",
       "\n",
       "      <script>\n",
       "        const buttonEl =\n",
       "          document.querySelector('#df-e81a1334-64c8-4738-9daf-c99411af1341 button.colab-df-convert');\n",
       "        buttonEl.style.display =\n",
       "          google.colab.kernel.accessAllowed ? 'block' : 'none';\n",
       "\n",
       "        async function convertToInteractive(key) {\n",
       "          const element = document.querySelector('#df-e81a1334-64c8-4738-9daf-c99411af1341');\n",
       "          const dataTable =\n",
       "            await google.colab.kernel.invokeFunction('convertToInteractive',\n",
       "                                                     [key], {});\n",
       "          if (!dataTable) return;\n",
       "\n",
       "          const docLinkHtml = 'Like what you see? Visit the ' +\n",
       "            '<a target=\"_blank\" href=https://colab.research.google.com/notebooks/data_table.ipynb>data table notebook</a>'\n",
       "            + ' to learn more about interactive tables.';\n",
       "          element.innerHTML = '';\n",
       "          dataTable['output_type'] = 'display_data';\n",
       "          await google.colab.output.renderOutput(dataTable, element);\n",
       "          const docLink = document.createElement('div');\n",
       "          docLink.innerHTML = docLinkHtml;\n",
       "          element.appendChild(docLink);\n",
       "        }\n",
       "      </script>\n",
       "    </div>\n",
       "  </div>\n",
       "  "
      ],
      "text/plain": [
       "   Gender  Age  EstimatedSalary  Purchased\n",
       "0    Male   19            19000          0\n",
       "1    Male   35            20000          0\n",
       "2  Female   26            43000          0\n",
       "3  Female   27            57000          0\n",
       "4    Male   19            76000          0"
      ]
     },
     "execution_count": 64,
     "metadata": {},
     "output_type": "execute_result"
    }
   ],
   "source": [
    "df = preprocessing_data(df)\n",
    "df.head()"
   ]
  },
  {
   "cell_type": "markdown",
   "metadata": {
    "id": "kLmOuuVsU-mI"
   },
   "source": [
    "## Feature Engineering"
   ]
  },
  {
   "cell_type": "code",
   "execution_count": null,
   "metadata": {
    "colab": {
     "base_uri": "https://localhost:8080/",
     "height": 452
    },
    "executionInfo": {
     "elapsed": 769,
     "status": "ok",
     "timestamp": 1681551399563,
     "user": {
      "displayName": "Dac Nguyen",
      "userId": "01275678335241040197"
     },
     "user_tz": -420
    },
    "id": "lBdNf2rQVAjL",
    "outputId": "f666a314-6f05-49ff-a2c7-e2cca6dc8cdc"
   },
   "outputs": [
    {
     "data": {
      "text/plain": [
       "<Axes: >"
      ]
     },
     "execution_count": 65,
     "metadata": {},
     "output_type": "execute_result"
    },
    {
     "data": {
      "image/png": "[encoded data removed]",
      "text/plain": [
       "<Figure size 640x480 with 2 Axes>"
      ]
     },
     "metadata": {},
     "output_type": "display_data"
    }
   ],
   "source": [
    "# Heatmap\n",
    "import seaborn as sns\n",
    "\n",
    "def apply_feature_engineering(df):\n",
    "    \"\"\"\n",
    "    Apply all feature engineering to transform your data into number\n",
    "    :param df: pandas DataFrame\n",
    "    :return: pandas DataFrame\n",
    "    \"\"\"\n",
    "    df[\"Gender\"] = df[\"Gender\"].astype(\"category\").cat.codes\n",
    "    return df\n",
    "\n",
    "df = apply_feature_engineering(df)\n",
    "sns.heatmap(df.corr()) # Show heatmap after normalized data"
   ]
  },
  {
   "cell_type": "markdown",
   "metadata": {
    "id": "I7smcRMJf_8U"
   },
   "source": [
    "##Model Training"
   ]
  },
  {
   "cell_type": "code",
   "execution_count": null,
   "metadata": {
    "id": "U16jxvU_e7rU"
   },
   "outputs": [],
   "source": [
    "def prepare_X_y(df):\n",
    "    \"\"\"\n",
    "    Feature engineering and create X and y\n",
    "    :param df: pandas dataframe\n",
    "    :return: (X, y) output feature matrix (dataframe), target (series)\n",
    "    \"\"\"\n",
    "    feature_names = df.columns.tolist()\n",
    "    feature_names.remove(\"Purchased\")\n",
    "\n",
    "    X = df[feature_names].values\n",
    "    y = df.Purchased.values\n",
    "    return X, y\n",
    "\n",
    "X, y = prepare_X_y(df)"
   ]
  },
  {
   "cell_type": "code",
   "execution_count": null,
   "metadata": {
    "id": "pKqHeN5fgQdl"
   },
   "outputs": [],
   "source": [
    "from sklearn.model_selection import train_test_split\n",
    "\n",
    "X_train, X_test, y_train, y_test = train_test_split(X, y, test_size=0.3, random_state=1)"
   ]
  },
  {
   "cell_type": "code",
   "execution_count": null,
   "metadata": {
    "colab": {
     "base_uri": "https://localhost:8080/"
    },
    "executionInfo": {
     "elapsed": 3,
     "status": "ok",
     "timestamp": 1681551504645,
     "user": {
      "displayName": "Dac Nguyen",
      "userId": "01275678335241040197"
     },
     "user_tz": -420
    },
    "id": "NOZUtDoc9BY6",
    "outputId": "105bc63b-d499-472d-c3f1-b5578f917e45"
   },
   "outputs": [
    {
     "name": "stdout",
     "output_type": "stream",
     "text": [
      "              precision    recall  f1-score   support\n",
      "\n",
      "           0       0.86      0.86      0.86        72\n",
      "           1       0.79      0.79      0.79        48\n",
      "\n",
      "    accuracy                           0.83       120\n",
      "   macro avg       0.83      0.83      0.83       120\n",
      "weighted avg       0.83      0.83      0.83       120\n",
      "\n"
     ]
    }
   ],
   "source": [
    "# --- Without Scaler\n",
    "from sklearn.naive_bayes import GaussianNB\n",
    "\n",
    "# Model training\n",
    "naive_model = GaussianNB()\n",
    "naive_model.fit(X_train, y_train.ravel())\n",
    "\n",
    "from sklearn.metrics import precision_score, recall_score, f1_score, classification_report\n",
    "predicted_label = naive_model.predict(X_test)\n",
    "print(classification_report(y_test, predicted_label))\n"
   ]
  },
  {
   "cell_type": "code",
   "execution_count": null,
   "metadata": {
    "colab": {
     "base_uri": "https://localhost:8080/"
    },
    "executionInfo": {
     "elapsed": 311,
     "status": "ok",
     "timestamp": 1681551529308,
     "user": {
      "displayName": "Dac Nguyen",
      "userId": "01275678335241040197"
     },
     "user_tz": -420
    },
    "id": "iyzF_ZXqhcBB",
    "outputId": "7f10536c-f04e-42e1-90c3-68c921ab8fbf"
   },
   "outputs": [
    {
     "name": "stdout",
     "output_type": "stream",
     "text": [
      "              precision    recall  f1-score   support\n",
      "\n",
      "           0       0.87      0.86      0.87        72\n",
      "           1       0.80      0.81      0.80        48\n",
      "\n",
      "    accuracy                           0.84       120\n",
      "   macro avg       0.83      0.84      0.84       120\n",
      "weighted avg       0.84      0.84      0.84       120\n",
      "\n"
     ]
    }
   ],
   "source": [
    "from sklearn.preprocessing import MinMaxScaler\n",
    "from sklearn.naive_bayes import GaussianNB\n",
    "\n",
    "# Scaler\n",
    "normalizer = MinMaxScaler()\n",
    "X_normal_train = normalizer.fit_transform(X_train)\n",
    "X_normal_test = normalizer.transform(X_test)\n",
    "\n",
    "# Model training\n",
    "naive_model = GaussianNB()\n",
    "naive_model.fit(X_normal_train, y_train.ravel())\n",
    "\n",
    "from sklearn.metrics import precision_score, recall_score, f1_score, classification_report\n",
    "predicted_label = naive_model.predict(X_normal_test)\n",
    "print(classification_report(y_test, predicted_label))\n"
   ]
  },
  {
   "cell_type": "code",
   "execution_count": null,
   "metadata": {
    "colab": {
     "base_uri": "https://localhost:8080/"
    },
    "executionInfo": {
     "elapsed": 3130,
     "status": "ok",
     "timestamp": 1681551547581,
     "user": {
      "displayName": "Dac Nguyen",
      "userId": "01275678335241040197"
     },
     "user_tz": -420
    },
    "id": "cMze-CyydjIr",
    "outputId": "e2563327-7e78-495f-9e4d-ef2de74440ad"
   },
   "outputs": [
    {
     "name": "stdout",
     "output_type": "stream",
     "text": [
      "Best parameter (CV score=0.896):\n",
      "{'gau_nb__var_smoothing': 0.0001, 'scaler__feature_range': (-1, 1)}\n",
      "              precision    recall  f1-score   support\n",
      "\n",
      "           0       0.87      0.86      0.87        72\n",
      "           1       0.80      0.81      0.80        48\n",
      "\n",
      "    accuracy                           0.84       120\n",
      "   macro avg       0.83      0.84      0.84       120\n",
      "weighted avg       0.84      0.84      0.84       120\n",
      "\n"
     ]
    }
   ],
   "source": [
    "# -- Build a full pipeline\n",
    "from sklearn.preprocessing import MinMaxScaler\n",
    "from sklearn.naive_bayes import GaussianNB\n",
    "from sklearn.pipeline import Pipeline\n",
    "from sklearn.model_selection import GridSearchCV\n",
    "\n",
    "# Define a Standard Scaler to normalize inputs\n",
    "scaler = MinMaxScaler()\n",
    "\n",
    "# set the tolerance to a large value to make the example faster\n",
    "gau_nb = GaussianNB()\n",
    "pipe = Pipeline(steps=[(\"scaler\", scaler), (\"gau_nb\", gau_nb)]) #Build a pipeline with a scaler and a model\n",
    "\n",
    "# Parameters of pipelines can be set using '__' separated parameter names:\n",
    "var_smoothing_values = np.logspace(-4, -9, num=100)\n",
    "param_grid = {\n",
    "    \"scaler__feature_range\": [(-1, 1), (0, 1)],\n",
    "    'gau_nb__var_smoothing': var_smoothing_values\n",
    "    }\n",
    "\n",
    "search = GridSearchCV(pipe, param_grid, n_jobs=2)\n",
    "search.fit(X_train, y_train)\n",
    "print(\"Best parameter (CV score=%0.3f):\" % search.best_score_)\n",
    "print(search.best_params_)\n",
    "\n",
    "\n",
    "\n",
    "from sklearn.metrics import precision_score, recall_score, f1_score, classification_report\n",
    "predicted_label = search.predict(X_test)\n",
    "print(classification_report(y_test, predicted_label))"
   ]
  },
  {
   "cell_type": "code",
   "execution_count": null,
   "metadata": {
    "colab": {
     "base_uri": "https://localhost:8080/"
    },
    "executionInfo": {
     "elapsed": 4435,
     "status": "ok",
     "timestamp": 1681550002015,
     "user": {
      "displayName": "Dac Nguyen",
      "userId": "01275678335241040197"
     },
     "user_tz": -420
    },
    "id": "tVCGYb5K8bOr",
    "outputId": "3bc880c5-1d54-4535-ec57-8035d5ee4bf8"
   },
   "outputs": [
    {
     "name": "stderr",
     "output_type": "stream",
     "text": [
      "/usr/local/lib/python3.9/dist-packages/sklearn/utils/validation.py:1143: DataConversionWarning: A column-vector y was passed when a 1d array was expected. Please change the shape of y to (n_samples, ), for example using ravel().\n",
      "  y = column_or_1d(y, warn=True)\n"
     ]
    }
   ],
   "source": [
    "def build_model(X, y):\n",
    "    # Define a Standard Scaler to normalize inputs\n",
    "    scaler = MinMaxScaler()\n",
    "\n",
    "    # set the tolerance to a large value to make the example faster\n",
    "    gau_nb = GaussianNB()\n",
    "    pipe = Pipeline(steps=[(\"scaler\", scaler), (\"gau_nb\", gau_nb)]) #Build a pipeline with a scaler and a model\n",
    "\n",
    "    # Parameters of pipelines can be set using '__' separated parameter names:\n",
    "    var_smoothing_values = np.logspace(-4, -9, num=100)\n",
    "    param_grid = {\n",
    "        \"scaler__feature_range\": [(-1, 1), (0, 1)],\n",
    "        'gau_nb__var_smoothing': var_smoothing_values\n",
    "        }\n",
    "\n",
    "    search = GridSearchCV(pipe, param_grid, n_jobs=2)\n",
    "    search.fit(X, y)\n",
    "\n",
    "    return search\n",
    "\n",
    "naive_model = build_model(X, y) # Why?"
   ]
  },
  {
   "cell_type": "markdown",
   "metadata": {
    "id": "pkerWSFx0R5s"
   },
   "source": [
    "#Categorical Naive Bayes"
   ]
  },
  {
   "cell_type": "code",
   "execution_count": null,
   "metadata": {
    "colab": {
     "base_uri": "https://localhost:8080/",
     "height": 328
    },
    "executionInfo": {
     "elapsed": 611,
     "status": "ok",
     "timestamp": 1681550002621,
     "user": {
      "displayName": "Dac Nguyen",
      "userId": "01275678335241040197"
     },
     "user_tz": -420
    },
    "id": "9a_EYimJzWp5",
    "outputId": "a2a4d3b8-de91-4e6a-d7ce-9f693d6f28f7"
   },
   "outputs": [
    {
     "data": {
      "text/html": [
       "\n",
       "  <div id=\"df-86a5260b-7d05-4508-a50c-cf001e69c723\">\n",
       "    <div class=\"colab-df-container\">\n",
       "      <div>\n",
       "<style scoped>\n",
       "    .dataframe tbody tr th:only-of-type {\n",
       "        vertical-align: middle;\n",
       "    }\n",
       "\n",
       "    .dataframe tbody tr th {\n",
       "        vertical-align: top;\n",
       "    }\n",
       "\n",
       "    .dataframe thead th {\n",
       "        text-align: right;\n",
       "    }\n",
       "</style>\n",
       "<table border=\"1\" class=\"dataframe\">\n",
       "  <thead>\n",
       "    <tr style=\"text-align: right;\">\n",
       "      <th></th>\n",
       "      <th>Breathing Problem</th>\n",
       "      <th>Fever</th>\n",
       "      <th>Dry Cough</th>\n",
       "      <th>Sore throat</th>\n",
       "      <th>Running Nose</th>\n",
       "      <th>Asthma</th>\n",
       "      <th>Chronic Lung Disease</th>\n",
       "      <th>Headache</th>\n",
       "      <th>Heart Disease</th>\n",
       "      <th>Diabetes</th>\n",
       "      <th>...</th>\n",
       "      <th>Fatigue</th>\n",
       "      <th>Gastrointestinal</th>\n",
       "      <th>Abroad travel</th>\n",
       "      <th>Contact with COVID Patient</th>\n",
       "      <th>Attended Large Gathering</th>\n",
       "      <th>Visited Public Exposed Places</th>\n",
       "      <th>Family working in Public Exposed Places</th>\n",
       "      <th>Wearing Masks</th>\n",
       "      <th>Sanitization from Market</th>\n",
       "      <th>COVID-19</th>\n",
       "    </tr>\n",
       "  </thead>\n",
       "  <tbody>\n",
       "    <tr>\n",
       "      <th>0</th>\n",
       "      <td>Yes</td>\n",
       "      <td>Yes</td>\n",
       "      <td>Yes</td>\n",
       "      <td>Yes</td>\n",
       "      <td>Yes</td>\n",
       "      <td>No</td>\n",
       "      <td>No</td>\n",
       "      <td>No</td>\n",
       "      <td>No</td>\n",
       "      <td>Yes</td>\n",
       "      <td>...</td>\n",
       "      <td>Yes</td>\n",
       "      <td>Yes</td>\n",
       "      <td>No</td>\n",
       "      <td>Yes</td>\n",
       "      <td>No</td>\n",
       "      <td>Yes</td>\n",
       "      <td>Yes</td>\n",
       "      <td>No</td>\n",
       "      <td>No</td>\n",
       "      <td>Yes</td>\n",
       "    </tr>\n",
       "    <tr>\n",
       "      <th>1</th>\n",
       "      <td>Yes</td>\n",
       "      <td>Yes</td>\n",
       "      <td>Yes</td>\n",
       "      <td>Yes</td>\n",
       "      <td>No</td>\n",
       "      <td>Yes</td>\n",
       "      <td>Yes</td>\n",
       "      <td>Yes</td>\n",
       "      <td>No</td>\n",
       "      <td>No</td>\n",
       "      <td>...</td>\n",
       "      <td>Yes</td>\n",
       "      <td>No</td>\n",
       "      <td>No</td>\n",
       "      <td>No</td>\n",
       "      <td>Yes</td>\n",
       "      <td>Yes</td>\n",
       "      <td>No</td>\n",
       "      <td>No</td>\n",
       "      <td>No</td>\n",
       "      <td>Yes</td>\n",
       "    </tr>\n",
       "    <tr>\n",
       "      <th>2</th>\n",
       "      <td>Yes</td>\n",
       "      <td>Yes</td>\n",
       "      <td>Yes</td>\n",
       "      <td>Yes</td>\n",
       "      <td>Yes</td>\n",
       "      <td>Yes</td>\n",
       "      <td>Yes</td>\n",
       "      <td>Yes</td>\n",
       "      <td>No</td>\n",
       "      <td>Yes</td>\n",
       "      <td>...</td>\n",
       "      <td>Yes</td>\n",
       "      <td>Yes</td>\n",
       "      <td>Yes</td>\n",
       "      <td>No</td>\n",
       "      <td>No</td>\n",
       "      <td>No</td>\n",
       "      <td>No</td>\n",
       "      <td>No</td>\n",
       "      <td>No</td>\n",
       "      <td>Yes</td>\n",
       "    </tr>\n",
       "    <tr>\n",
       "      <th>3</th>\n",
       "      <td>Yes</td>\n",
       "      <td>Yes</td>\n",
       "      <td>Yes</td>\n",
       "      <td>No</td>\n",
       "      <td>No</td>\n",
       "      <td>Yes</td>\n",
       "      <td>No</td>\n",
       "      <td>No</td>\n",
       "      <td>Yes</td>\n",
       "      <td>Yes</td>\n",
       "      <td>...</td>\n",
       "      <td>No</td>\n",
       "      <td>No</td>\n",
       "      <td>Yes</td>\n",
       "      <td>No</td>\n",
       "      <td>Yes</td>\n",
       "      <td>Yes</td>\n",
       "      <td>No</td>\n",
       "      <td>No</td>\n",
       "      <td>No</td>\n",
       "      <td>Yes</td>\n",
       "    </tr>\n",
       "    <tr>\n",
       "      <th>4</th>\n",
       "      <td>Yes</td>\n",
       "      <td>Yes</td>\n",
       "      <td>Yes</td>\n",
       "      <td>Yes</td>\n",
       "      <td>Yes</td>\n",
       "      <td>No</td>\n",
       "      <td>Yes</td>\n",
       "      <td>Yes</td>\n",
       "      <td>Yes</td>\n",
       "      <td>Yes</td>\n",
       "      <td>...</td>\n",
       "      <td>No</td>\n",
       "      <td>Yes</td>\n",
       "      <td>No</td>\n",
       "      <td>Yes</td>\n",
       "      <td>No</td>\n",
       "      <td>Yes</td>\n",
       "      <td>No</td>\n",
       "      <td>No</td>\n",
       "      <td>No</td>\n",
       "      <td>Yes</td>\n",
       "    </tr>\n",
       "  </tbody>\n",
       "</table>\n",
       "<p>5 rows × 21 columns</p>\n",
       "</div>\n",
       "      <button class=\"colab-df-convert\" onclick=\"convertToInteractive('df-86a5260b-7d05-4508-a50c-cf001e69c723')\"\n",
       "              title=\"Convert this dataframe to an interactive table.\"\n",
       "              style=\"display:none;\">\n",
       "        \n",
       "  <svg xmlns=\"http://www.w3.org/2000/svg\" height=\"24px\"viewBox=\"0 0 24 24\"\n",
       "       width=\"24px\">\n",
       "    <path d=\"M0 0h24v24H0V0z\" fill=\"none\"/>\n",
       "    <path d=\"M18.56 5.44l.94 2.06.94-2.06 2.06-.94-2.06-.94-.94-2.06-.94 2.06-2.06.94zm-11 1L8.5 8.5l.94-2.06 2.06-.94-2.06-.94L8.5 2.5l-.94 2.06-2.06.94zm10 10l.94 2.06.94-2.06 2.06-.94-2.06-.94-.94-2.06-.94 2.06-2.06.94z\"/><path d=\"M17.41 7.96l-1.37-1.37c-.4-.4-.92-.59-1.43-.59-.52 0-1.04.2-1.43.59L10.3 9.45l-7.72 7.72c-.78.78-.78 2.05 0 2.83L4 21.41c.39.39.9.59 1.41.59.51 0 1.02-.2 1.41-.59l7.78-7.78 2.81-2.81c.8-.78.8-2.07 0-2.86zM5.41 20L4 18.59l7.72-7.72 1.47 1.35L5.41 20z\"/>\n",
       "  </svg>\n",
       "      </button>\n",
       "      \n",
       "  <style>\n",
       "    .colab-df-container {\n",
       "      display:flex;\n",
       "      flex-wrap:wrap;\n",
       "      gap: 12px;\n",
       "    }\n",
       "\n",
       "    .colab-df-convert {\n",
       "      background-color: #E8F0FE;\n",
       "      border: none;\n",
       "      border-radius: 50%;\n",
       "      cursor: pointer;\n",
       "      display: none;\n",
       "      fill: #1967D2;\n",
       "      height: 32px;\n",
       "      padding: 0 0 0 0;\n",
       "      width: 32px;\n",
       "    }\n",
       "\n",
       "    .colab-df-convert:hover {\n",
       "      background-color: #E2EBFA;\n",
       "      box-shadow: 0px 1px 2px rgba(60, 64, 67, 0.3), 0px 1px 3px 1px rgba(60, 64, 67, 0.15);\n",
       "      fill: #174EA6;\n",
       "    }\n",
       "\n",
       "    [theme=dark] .colab-df-convert {\n",
       "      background-color: #3B4455;\n",
       "      fill: #D2E3FC;\n",
       "    }\n",
       "\n",
       "    [theme=dark] .colab-df-convert:hover {\n",
       "      background-color: #434B5C;\n",
       "      box-shadow: 0px 1px 3px 1px rgba(0, 0, 0, 0.15);\n",
       "      filter: drop-shadow(0px 1px 2px rgba(0, 0, 0, 0.3));\n",
       "      fill: #FFFFFF;\n",
       "    }\n",
       "  </style>\n",
       "\n",
       "      <script>\n",
       "        const buttonEl =\n",
       "          document.querySelector('#df-86a5260b-7d05-4508-a50c-cf001e69c723 button.colab-df-convert');\n",
       "        buttonEl.style.display =\n",
       "          google.colab.kernel.accessAllowed ? 'block' : 'none';\n",
       "\n",
       "        async function convertToInteractive(key) {\n",
       "          const element = document.querySelector('#df-86a5260b-7d05-4508-a50c-cf001e69c723');\n",
       "          const dataTable =\n",
       "            await google.colab.kernel.invokeFunction('convertToInteractive',\n",
       "                                                     [key], {});\n",
       "          if (!dataTable) return;\n",
       "\n",
       "          const docLinkHtml = 'Like what you see? Visit the ' +\n",
       "            '<a target=\"_blank\" href=https://colab.research.google.com/notebooks/data_table.ipynb>data table notebook</a>'\n",
       "            + ' to learn more about interactive tables.';\n",
       "          element.innerHTML = '';\n",
       "          dataTable['output_type'] = 'display_data';\n",
       "          await google.colab.output.renderOutput(dataTable, element);\n",
       "          const docLink = document.createElement('div');\n",
       "          docLink.innerHTML = docLinkHtml;\n",
       "          element.appendChild(docLink);\n",
       "        }\n",
       "      </script>\n",
       "    </div>\n",
       "  </div>\n",
       "  "
      ],
      "text/plain": [
       "  Breathing Problem Fever Dry Cough Sore throat Running Nose Asthma  \\\n",
       "0               Yes   Yes       Yes         Yes          Yes     No   \n",
       "1               Yes   Yes       Yes         Yes           No    Yes   \n",
       "2               Yes   Yes       Yes         Yes          Yes    Yes   \n",
       "3               Yes   Yes       Yes          No           No    Yes   \n",
       "4               Yes   Yes       Yes         Yes          Yes     No   \n",
       "\n",
       "  Chronic Lung Disease Headache Heart Disease Diabetes  ... Fatigue   \\\n",
       "0                   No       No            No      Yes  ...      Yes   \n",
       "1                  Yes      Yes            No       No  ...      Yes   \n",
       "2                  Yes      Yes            No      Yes  ...      Yes   \n",
       "3                   No       No           Yes      Yes  ...       No   \n",
       "4                  Yes      Yes           Yes      Yes  ...       No   \n",
       "\n",
       "  Gastrointestinal  Abroad travel Contact with COVID Patient  \\\n",
       "0               Yes            No                        Yes   \n",
       "1                No            No                         No   \n",
       "2               Yes           Yes                         No   \n",
       "3                No           Yes                         No   \n",
       "4               Yes            No                        Yes   \n",
       "\n",
       "  Attended Large Gathering Visited Public Exposed Places  \\\n",
       "0                       No                           Yes   \n",
       "1                      Yes                           Yes   \n",
       "2                       No                            No   \n",
       "3                      Yes                           Yes   \n",
       "4                       No                           Yes   \n",
       "\n",
       "  Family working in Public Exposed Places Wearing Masks  \\\n",
       "0                                     Yes            No   \n",
       "1                                      No            No   \n",
       "2                                      No            No   \n",
       "3                                      No            No   \n",
       "4                                      No            No   \n",
       "\n",
       "  Sanitization from Market COVID-19  \n",
       "0                       No      Yes  \n",
       "1                       No      Yes  \n",
       "2                       No      Yes  \n",
       "3                       No      Yes  \n",
       "4                       No      Yes  \n",
       "\n",
       "[5 rows x 21 columns]"
      ]
     },
     "metadata": {},
     "output_type": "display_data"
    },
    {
     "data": {
      "text/plain": [
       "21"
      ]
     },
     "execution_count": 22,
     "metadata": {},
     "output_type": "execute_result"
    }
   ],
   "source": [
    "df = pd.read_csv(\"/content/drive/MyDrive/KHTN/Machine Learning (Nhập môn)/my excercise/Week 03/Week 03/Covid Dataset.csv\")\n",
    "display(df.head())\n",
    "len(df.columns)"
   ]
  },
  {
   "cell_type": "markdown",
   "metadata": {
    "id": "4mG3BYfP9M1j"
   },
   "source": [
    "Đây là dataset để giải quyết việc phân biệt cảm cúm và Covid19, bao gồm:\n",
    "- 'Breathing Problem': yes or no\n",
    "- 'Fever': yes or no\n",
    "- 'Dry Cough': yes or no\n",
    "- 'Sore throat': yes or no\n",
    "- 'Running Nose': yes or no\n",
    "- 'Asthma': yes or no \n",
    "- 'Chronic Lung Disease': yes or no\n",
    "- 'Headache': yes or no\n",
    "- 'Heart Disease': yes or no \n",
    "- 'Diabetes': yes or no\n",
    "- 'Hyper Tension': yes or no\n",
    "- 'Fatigue ': yes or no\n",
    "- 'Gastrointestinal ': yes or no\n",
    "- 'Abroad travel': yes or no\n",
    "- 'Contact with COVID Patient': yes or no\n",
    "- 'Attended Large Gathering': yes or no\n",
    "- 'Visited Public Exposed Places': yes or no\n",
    "- 'Family working in Public Exposed Places': yes or no\n",
    "- 'Wearing Masks': yes or no\n",
    "- 'Sanitization from Market': yes or no\n",
    "- 'COVID-19': yes or no (Label)\n",
    "\n",
    "\n"
   ]
  },
  {
   "cell_type": "code",
   "execution_count": null,
   "metadata": {
    "id": "I6zGivhhQMEo"
   },
   "outputs": [],
   "source": [
    "cat_cols = [col for col in df.columns if df[col].dtypes == \"O\"] # Lấy các features có dạng categorical (string) \n",
    "cat_cols.remove(\"COVID-19\")\n",
    "X = pd.get_dummies(df, columns=cat_cols)\n",
    "X = X.drop([\"COVID-19\"], axis=1)\n",
    "y = df[df.columns[-1]].values\n",
    "y = [0 if i==\"Yes\" else 1 for i in y] "
   ]
  },
  {
   "cell_type": "code",
   "execution_count": null,
   "metadata": {
    "id": "KPZDEqn35TB3"
   },
   "outputs": [],
   "source": [
    "#Chia dataset\n",
    "from sklearn.model_selection import train_test_split\n",
    "X_train, X_test, y_train, y_test = train_test_split(X, y, train_size=0.7, random_state=0)"
   ]
  },
  {
   "cell_type": "code",
   "execution_count": 1,
   "metadata": {
    "colab": {
     "base_uri": "https://localhost:8080/"
    },
    "executionInfo": {
     "elapsed": 29,
     "status": "ok",
     "timestamp": 1681550002622,
     "user": {
      "displayName": "Dac Nguyen",
      "userId": "01275678335241040197"
     },
     "user_tz": -420
    },
    "id": "W_9KzZgW5D2b",
    "outputId": "a2cbfbda-21b9-438f-c86f-caf7c4560a2f"
   },
   "outputs": [
    {
     "ename": "NameError",
     "evalue": "name 'X_train' is not defined",
     "output_type": "error",
     "traceback": [
      "\u001b[1;31m---------------------------------------------------------------------------\u001b[0m",
      "\u001b[1;31mNameError\u001b[0m                                 Traceback (most recent call last)",
      "\u001b[1;32m~\\AppData\\Local\\Temp\\ipykernel_4120\\1938413504.py\u001b[0m in \u001b[0;36m<module>\u001b[1;34m\u001b[0m\n\u001b[0;32m      7\u001b[0m \u001b[0mmục\u001b[0m \u001b[0mđích\u001b[0m \u001b[0mcủa\u001b[0m \u001b[0mviệc\u001b[0m \u001b[0mnày\u001b[0m \u001b[0mgiúp\u001b[0m \u001b[0mcho\u001b[0m \u001b[0mP\u001b[0m\u001b[1;33m(\u001b[0m\u001b[0mx\u001b[0m\u001b[1;33m|\u001b[0m\u001b[0mc\u001b[0m\u001b[1;33m)\u001b[0m \u001b[0mtránh\u001b[0m \u001b[0mbị\u001b[0m \u001b[0mbằng\u001b[0m \u001b[1;36m0\u001b[0m\u001b[1;33m\u001b[0m\u001b[1;33m\u001b[0m\u001b[0m\n\u001b[0;32m      8\u001b[0m \"\"\"\n\u001b[1;32m----> 9\u001b[1;33m \u001b[0mmodel\u001b[0m\u001b[1;33m.\u001b[0m\u001b[0mfit\u001b[0m\u001b[1;33m(\u001b[0m\u001b[0mX_train\u001b[0m\u001b[1;33m,\u001b[0m \u001b[0my_train\u001b[0m\u001b[1;33m)\u001b[0m\u001b[1;33m\u001b[0m\u001b[1;33m\u001b[0m\u001b[0m\n\u001b[0m\u001b[0;32m     10\u001b[0m \u001b[1;33m\u001b[0m\u001b[0m\n\u001b[0;32m     11\u001b[0m \u001b[1;31m#Chạy các metrics\u001b[0m\u001b[1;33m\u001b[0m\u001b[1;33m\u001b[0m\u001b[1;33m\u001b[0m\u001b[0m\n",
      "\u001b[1;31mNameError\u001b[0m: name 'X_train' is not defined"
     ]
    }
   ],
   "source": [
    "#Dùng model CategoricalNB\n",
    "from sklearn.naive_bayes import CategoricalNB\n",
    "model = CategoricalNB()\n",
    "\"\"\"\n",
    "ở CategoricalNB ta cần lưu ý alpha\n",
    "alpha sẽ nhận vào 1 số thực dương với mục đích là cộng cho cả tử và mẫu xác suất hậu nghiệm P(x|c) (Xác xuất feature x khi biết label c ) \n",
    "mục đích của việc này giúp cho P(x|c) tránh bị bằng 0 \n",
    "\"\"\"\n",
    "model.fit(X_train, y_train)\n",
    "\n",
    "#Chạy các metrics\n",
    "from sklearn.metrics import precision_score, recall_score, f1_score, classification_report\n",
    "\n",
    "predicted_label = model.predict(X_test)\n",
    "print(classification_report(y_test, predicted_label))\n"
   ]
  },
  {
   "cell_type": "code",
   "execution_count": null,
   "metadata": {
    "colab": {
     "base_uri": "https://localhost:8080/"
    },
    "executionInfo": {
     "elapsed": 20,
     "status": "ok",
     "timestamp": 1681550002622,
     "user": {
      "displayName": "Dac Nguyen",
      "userId": "01275678335241040197"
     },
     "user_tz": -420
    },
    "id": "iUTqKbuJ5QCu",
    "outputId": "6505577f-3f87-4ef2-fde7-cbc97c84ee00"
   },
   "outputs": [
    {
     "name": "stdout",
     "output_type": "stream",
     "text": [
      "              precision    recall  f1-score   support\n",
      "\n",
      "           0       0.98      0.97      0.97      1313\n",
      "           1       0.87      0.91      0.89       318\n",
      "\n",
      "    accuracy                           0.95      1631\n",
      "   macro avg       0.92      0.94      0.93      1631\n",
      "weighted avg       0.96      0.95      0.95      1631\n",
      "\n"
     ]
    }
   ],
   "source": [
    "#Dùng model CategoricalNB\n",
    "from sklearn.naive_bayes import BernoulliNB\n",
    "model = BernoulliNB()\n",
    "\"\"\"\n",
    "ở CategoricalNB ta cần lưu ý alpha\n",
    "alpha sẽ nhận vào 1 số thực dương với mục đích là cộng cho cả tử và mẫu xác suất hậu nghiệm P(x|c) (Xác xuất feature x khi biết label c ) \n",
    "mục đích của việc này giúp cho P(x|c) tránh bị bằng 0 \n",
    "\"\"\"\n",
    "model.fit(X_train, y_train)\n",
    "\n",
    "#Chạy các metrics\n",
    "from sklearn.metrics import precision_score, recall_score, f1_score, classification_report\n",
    "\n",
    "predicted_label = model.predict(X_test)\n",
    "print(classification_report(y_test, predicted_label))\n"
   ]
  },
  {
   "cell_type": "code",
   "execution_count": null,
   "metadata": {
    "colab": {
     "base_uri": "https://localhost:8080/"
    },
    "executionInfo": {
     "elapsed": 14,
     "status": "ok",
     "timestamp": 1681550002623,
     "user": {
      "displayName": "Dac Nguyen",
      "userId": "01275678335241040197"
     },
     "user_tz": -420
    },
    "id": "jxxflNzahS1P",
    "outputId": "c53e8340-291b-4066-d578-4a06116d414b"
   },
   "outputs": [
    {
     "name": "stdout",
     "output_type": "stream",
     "text": [
      "0.43983402489626555\n",
      "1.0\n",
      "0.6109510086455331\n",
      "              precision    recall  f1-score   support\n",
      "\n",
      "           0       1.00      0.69      0.82      1313\n",
      "           1       0.44      1.00      0.61       318\n",
      "\n",
      "    accuracy                           0.75      1631\n",
      "   macro avg       0.72      0.85      0.71      1631\n",
      "weighted avg       0.89      0.75      0.78      1631\n",
      "\n"
     ]
    }
   ],
   "source": [
    "#Dùng model CategoricalNB\n",
    "from sklearn.naive_bayes import GaussianNB\n",
    "model = GaussianNB()\n",
    "\"\"\"\n",
    "ở CategoricalNB ta cần lưu ý alpha\n",
    "alpha sẽ nhận vào 1 số thực dương với mục đích là cộng cho cả tử và mẫu xác suất hậu nghiệm P(x|c) (Xác xuất feature x khi biết label c ) \n",
    "mục đích của việc này giúp cho P(x|c) tránh bị bằng 0 \n",
    "\"\"\"\n",
    "model.fit(X_train, y_train)\n",
    "\n",
    "#Chạy các metrics\n",
    "from sklearn.metrics import precision_score, recall_score, f1_score, classification_report\n",
    "\n",
    "predicted_label = model.predict(X_test)\n",
    "print(precision_score(y_test, predicted_label))\n",
    "print(recall_score(y_test, predicted_label))\n",
    "print(f1_score(y_test, predicted_label))\n",
    "print(classification_report(y_test, predicted_label))\n"
   ]
  },
  {
   "cell_type": "code",
   "execution_count": null,
   "metadata": {
    "colab": {
     "base_uri": "https://localhost:8080/"
    },
    "executionInfo": {
     "elapsed": 44980,
     "status": "ok",
     "timestamp": 1681551260619,
     "user": {
      "displayName": "Dac Nguyen",
      "userId": "01275678335241040197"
     },
     "user_tz": -420
    },
    "id": "Q7UAeoBwiacC",
    "outputId": "cd451bbc-f509-4c6f-db4c-850fbc4fb0ae"
   },
   "outputs": [
    {
     "name": "stdout",
     "output_type": "stream",
     "text": [
      "Best parameter (CV score=0.514):\n",
      "{'nb__alpha': 0.008902150854450383, 'pca__n_components': 30}\n",
      "              precision    recall  f1-score   support\n",
      "\n",
      "           0       0.88      0.96      0.91      1313\n",
      "           1       0.71      0.44      0.55       318\n",
      "\n",
      "    accuracy                           0.86      1631\n",
      "   macro avg       0.79      0.70      0.73      1631\n",
      "weighted avg       0.84      0.86      0.84      1631\n",
      "\n"
     ]
    }
   ],
   "source": [
    "# -- Build a full pipeline\n",
    "from sklearn.decomposition import PCA\n",
    "from sklearn.naive_bayes import BernoulliNB\n",
    "from sklearn.pipeline import Pipeline\n",
    "from sklearn.model_selection import GridSearchCV\n",
    "\n",
    "pca = PCA()\n",
    "nb = BernoulliNB()\n",
    "pipe = Pipeline(steps=[(\"pca\", pca), (\"nb\", nb)]) #Build a pipeline with a scaler and a model\n",
    "\n",
    "# Parameters of pipelines can be set using '__' separated parameter names:\n",
    "alpha = np.logspace(-1, -9, num=100)\n",
    "param_grid = {\n",
    "    \"pca__n_components\": [5, 15, 30, 35],\n",
    "    'nb__alpha': alpha\n",
    "    }\n",
    "\n",
    "search = GridSearchCV(pipe, param_grid, scoring=\"recall\", n_jobs=2)\n",
    "search.fit(X_train, y_train)\n",
    "print(\"Best parameter (CV score=%0.3f):\" % search.best_score_)\n",
    "print(search.best_params_)\n",
    "\n",
    "from sklearn.metrics import precision_score, recall_score, f1_score, classification_report\n",
    "predicted_label = search.predict(X_test)\n",
    "print(classification_report(y_test, predicted_label))"
   ]
  },
  {
   "cell_type": "code",
   "execution_count": null,
   "metadata": {
    "colab": {
     "base_uri": "https://localhost:8080/"
    },
    "executionInfo": {
     "elapsed": 52825,
     "status": "ok",
     "timestamp": 1681551208288,
     "user": {
      "displayName": "Dac Nguyen",
      "userId": "01275678335241040197"
     },
     "user_tz": -420
    },
    "id": "HgDhz3AYebST",
    "outputId": "b1bc7197-4973-45fe-a1f5-e3ed7afaee40"
   },
   "outputs": [
    {
     "name": "stdout",
     "output_type": "stream",
     "text": [
      "Best parameter (CV score=0.880):\n",
      "{'gau_nb__var_smoothing': 0.0001, 'pca__n_components': 30}\n",
      "              precision    recall  f1-score   support\n",
      "\n",
      "           0       0.97      0.98      0.98      1313\n",
      "           1       0.92      0.89      0.90       318\n",
      "\n",
      "    accuracy                           0.96      1631\n",
      "   macro avg       0.95      0.93      0.94      1631\n",
      "weighted avg       0.96      0.96      0.96      1631\n",
      "\n"
     ]
    }
   ],
   "source": [
    "# -- Build a full pipeline\n",
    "from sklearn.decomposition import PCA\n",
    "from sklearn.naive_bayes import GaussianNB\n",
    "from sklearn.pipeline import Pipeline\n",
    "from sklearn.model_selection import GridSearchCV\n",
    "\n",
    "pca = PCA()\n",
    "gau_nb = GaussianNB()\n",
    "pipe = Pipeline(steps=[(\"pca\", pca), (\"gau_nb\", gau_nb)]) #Build a pipeline with a scaler and a model\n",
    "\n",
    "# Parameters of pipelines can be set using '__' separated parameter names:\n",
    "var_smoothing_values = np.logspace(-4, -9, num=100)\n",
    "param_grid = {\n",
    "    \"pca__n_components\": [5, 15, 30, 35],\n",
    "    'gau_nb__var_smoothing': var_smoothing_values\n",
    "    }\n",
    "\n",
    "search = GridSearchCV(pipe, param_grid, scoring=\"recall\", n_jobs=2)\n",
    "search.fit(X_train, y_train)\n",
    "print(\"Best parameter (CV score=%0.3f):\" % search.best_score_)\n",
    "print(search.best_params_)\n",
    "\n",
    "from sklearn.metrics import precision_score, recall_score, f1_score, classification_report\n",
    "predicted_label = search.predict(X_test)\n",
    "print(classification_report(y_test, predicted_label))"
   ]
  },
  {
   "cell_type": "code",
   "execution_count": null,
   "metadata": {
    "colab": {
     "base_uri": "https://localhost:8080/",
     "height": 606
    },
    "executionInfo": {
     "elapsed": 2906,
     "status": "ok",
     "timestamp": 1681551100462,
     "user": {
      "displayName": "Dac Nguyen",
      "userId": "01275678335241040197"
     },
     "user_tz": -420
    },
    "id": "hbtOBwELOmAE",
    "outputId": "4f9a6dae-62fb-4f6c-cb7e-94b92ac20d5f"
   },
   "outputs": [
    {
     "data": {
      "image/png": "[encoded data removed]",
      "text/plain": [
       "<Figure size 600x600 with 2 Axes>"
      ]
     },
     "metadata": {},
     "output_type": "display_data"
    }
   ],
   "source": [
    "fig, (ax0, ax1) = plt.subplots(nrows=2, sharex=True, figsize=(6, 6))\n",
    "ax0.plot(\n",
    "    np.arange(1, search.best_estimator_.named_steps[\"pca\"].n_components_ + 1), search.best_estimator_.named_steps[\"pca\"].explained_variance_ratio_, \"+\", linewidth=2\n",
    ")\n",
    "ax0.set_ylabel(\"PCA explained variance ratio\")\n",
    "\n",
    "ax0.axvline(\n",
    "    search.best_estimator_.named_steps[\"pca\"].n_components_,\n",
    "    linestyle=\":\",\n",
    "    label=\"n_components chosen\",\n",
    ")\n",
    "# For each number of components, find the best classifier results\n",
    "results = pd.DataFrame(search.cv_results_)\n",
    "components_col = \"param_pca__n_components\"\n",
    "best_clfs = results.groupby(components_col).apply(\n",
    "    lambda g: g.nlargest(1, \"mean_test_score\")\n",
    ")\n",
    "\n",
    "best_clfs.plot(\n",
    "    x=components_col, y=\"mean_test_score\", yerr=\"std_test_score\", legend=False, ax=ax1\n",
    ")\n",
    "ax1.set_ylabel(\"recall (val)\")\n",
    "ax1.set_xlabel(\"n_components\")\n",
    "\n",
    "plt.xlim(-1, 38)\n",
    "\n",
    "plt.tight_layout()\n",
    "plt.show()"
   ]
  },
  {
   "cell_type": "markdown",
   "metadata": {
    "id": "g5Ho48Ud4KL6"
   },
   "source": [
    "#Introduce mixed naive bayes"
   ]
  },
  {
   "cell_type": "markdown",
   "metadata": {
    "id": "82OayrDllsnL"
   },
   "source": [
    "#Example\n",
    "https://pypi.org/project/mixed-naive-bayes/"
   ]
  },
  {
   "cell_type": "code",
   "execution_count": null,
   "metadata": {
    "colab": {
     "base_uri": "https://localhost:8080/"
    },
    "executionInfo": {
     "elapsed": 7411,
     "status": "ok",
     "timestamp": 1681550040932,
     "user": {
      "displayName": "Dac Nguyen",
      "userId": "01275678335241040197"
     },
     "user_tz": -420
    },
    "id": "ezVxtLJQ4SUO",
    "outputId": "41e5c4cf-7a53-4a71-ac95-5a07c11e0b65"
   },
   "outputs": [
    {
     "name": "stdout",
     "output_type": "stream",
     "text": [
      "Looking in indexes: https://pypi.org/simple, https://us-python.pkg.dev/colab-wheels/public/simple/\n",
      "Collecting mixed_naive_bayes\n",
      "  Cloning https://github.com/remykarem/mixed-naive-bayes to /tmp/pip-install-ipqpj9r_/mixed-naive-bayes_528ba8c906704ec0ac47d212f6c9b422\n",
      "  Running command git clone --filter=blob:none --quiet https://github.com/remykarem/mixed-naive-bayes /tmp/pip-install-ipqpj9r_/mixed-naive-bayes_528ba8c906704ec0ac47d212f6c9b422\n",
      "  Resolved https://github.com/remykarem/mixed-naive-bayes to commit 6d90de8adf75dbef032ad51029ad3782190ec577\n",
      "  Preparing metadata (setup.py) ... \u001b[?25l\u001b[?25hdone\n",
      "Requirement already satisfied: numpy>=1.22.0 in /usr/local/lib/python3.9/dist-packages (from mixed_naive_bayes) (1.22.4)\n",
      "Building wheels for collected packages: mixed_naive_bayes\n",
      "  Building wheel for mixed_naive_bayes (setup.py) ... \u001b[?25l\u001b[?25hdone\n",
      "  Created wheel for mixed_naive_bayes: filename=mixed_naive_bayes-0.0.4-py3-none-any.whl size=10881 sha256=62233b4bf444f70bc4e7d845a5b6a4b512f9678aad689a9a3c518cdf65875649\n",
      "  Stored in directory: /tmp/pip-ephem-wheel-cache-182rvgyf/wheels/16/0d/9f/929c7af51d4b12da89d0ac3c6ce4f4981214fee69d9440028e\n",
      "Successfully built mixed_naive_bayes\n",
      "Installing collected packages: mixed_naive_bayes\n",
      "Successfully installed mixed_naive_bayes-0.0.4\n"
     ]
    }
   ],
   "source": [
    "#Chạy dòng code này để tải thư viện \n",
    "!pip install git+https://github.com/remykarem/mixed-naive-bayes#egg=mixed_naive_bayes"
   ]
  },
  {
   "cell_type": "code",
   "execution_count": null,
   "metadata": {
    "colab": {
     "base_uri": "https://localhost:8080/",
     "height": 35
    },
    "executionInfo": {
     "elapsed": 15,
     "status": "ok",
     "timestamp": 1681550040933,
     "user": {
      "displayName": "Dac Nguyen",
      "userId": "01275678335241040197"
     },
     "user_tz": -420
    },
    "id": "Eqzz5wDm4XWy",
    "outputId": "a0697743-9125-46cb-e111-4dc0f6d8515a"
   },
   "outputs": [
    {
     "data": {
      "application/vnd.google.colaboratory.intrinsic+json": {
       "type": "string"
      },
      "text/plain": [
       "'\\nTa có thể thấy cách dùng rất giống sklearn, tuy nhiên ta phải khai báo categorical_features với những categorical features theo thứ tự vị trí\\n'"
      ]
     },
     "execution_count": 34,
     "metadata": {},
     "output_type": "execute_result"
    }
   ],
   "source": [
    "from mixed_naive_bayes import MixedNB\n",
    "X = [[0, 0, 180, 75],\n",
    "     [1, 1, 165, 61],\n",
    "     [2, 1, 166, 60],\n",
    "     [1, 1, 173, 68],\n",
    "     [0, 2, 178, 71]]\n",
    "y = [0, 0, 1, 1, 0]\n",
    "clf = MixedNB(categorical_features=[0,1]) #categorical columns are at 0 & 1\n",
    "clf.fit(X,y)\n",
    "clf.predict(X)\n",
    "\n",
    "\"\"\"\n",
    "Ta có thể thấy cách dùng rất giống sklearn, tuy nhiên ta phải khai báo categorical_features với những categorical features theo thứ tự vị trí\n",
    "\"\"\""
   ]
  },
  {
   "cell_type": "code",
   "execution_count": null,
   "metadata": {},
   "outputs": [],
   "source": [
    "def prepare_X_y(df):\n",
    "    \"\"\"\n",
    "    Feature engineering and create X and y\n",
    "    :param df: pandas dataframe\n",
    "    :return: (X, y) output feature matrix (dataframe), target (series)\n",
    "    \"\"\"\n",
    "    feature_names = df.columns.tolist()\n",
    "    feature_names.remove(\"TravelInsurance\")\n",
    "\n",
    "    X = df[feature_names].values\n",
    "    y = df.TravelInsurance.values\n",
    "    return X, y\n",
    "\n",
    "X, y = prepare_X_y(df)"
   ]
  }
 ],
 "metadata": {
  "colab": {
   "provenance": []
  },
  "kernelspec": {
   "display_name": "Python 3 (ipykernel)",
   "language": "python",
   "name": "python3"
  },
  "language_info": {
   "codemirror_mode": {
    "name": "ipython",
    "version": 3
   },
   "file_extension": ".py",
   "mimetype": "text/x-python",
   "name": "python",
   "nbconvert_exporter": "python",
   "pygments_lexer": "ipython3",
   "version": "3.7.15"
  }
 },
 "nbformat": 4,
 "nbformat_minor": 1
}
