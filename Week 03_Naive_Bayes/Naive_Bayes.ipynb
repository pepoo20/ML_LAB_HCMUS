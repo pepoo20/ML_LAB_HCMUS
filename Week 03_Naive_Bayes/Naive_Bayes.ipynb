{
 "cells": [
  {
   "cell_type": "markdown",
   "metadata": {},
   "source": [
    "Họ và tên : Nguyễn Minh Phú \n",
    "    \n",
    "MSSV: 20280072"
   ]
  },
  {
   "cell_type": "markdown",
   "metadata": {
    "id": "_GIq8Io_8Koq"
   },
   "source": [
    "1. Analyze and Preprocess data - Check if the dataset has missing values or has any other problem.\n",
    "2. Feature Engineering\n",
    "3. Divide the dataset into 2 training and test sets\n",
    "4. Use Pipeline\n",
    "    4. a. Use scaler and dimensional reduction (if it is necessary).\n",
    "    4. b. Use suitable Naive Bayes for this problem. \n",
    "5. Perform model on training set and test set using gridsearch CV\n",
    "6. Measure performance of the model.\n",
    "7. Which metric is your main metric for this problem and why? What are your scaler, dimensional reduction and naive bayes model as well as their params? (<= 200 words, also input your opinion or conclusion here)\n",
    "\n",
    "\n",
    "How can I measure your point:\n",
    "1. Your function is callable and runs correctly\n",
    "2. The performance of your model (in full pipeline) is acceptable. The final error based on my train and test set is low enough.\n",
    "3. The data preprocessing is correct or make sense\n",
    "4. The Feature engineering is correct or make sense\n",
    "5. Any other additional process will be considered a small plus point."
   ]
  },
  {
   "cell_type": "markdown",
   "metadata": {
    "id": "SjhjJmx68Kou"
   },
   "source": [
    "A Travel Company Is Offering Travel Insurance Packages To Their Customers. The new insurance plan also covers Covid-19. The Company Claims To Know Which Customers Are Interested To Buy It Based On The Company's Database History.\n",
    "\n",
    "* Age - Age Of The Customer\n",
    "* Employment Type - The Sector In Which Customer Is Employed\n",
    "GraduateOrNot - Whether The Customer Is College Graduate Or Not\n",
    "* AnnualIncome - The Yearly Income Of The Customer In Indian Rupees\n",
    "* FamilyMembers - Number Of Members In Customer's Family\n",
    "* ChronicDisease - Whether The Customer Suffers From Any Major Disease Or Conditions Like Diabetes/High BP or Asthama,etc.\n",
    "* FrequentFlyer - Derived Data Based On Customer's History Of Booking Air Tickets On Atleast 4 Different Instances In The Last 2 Years (2017-2019).\n",
    "* EverTravelledAbroad - Has The Customer Ever Travelled To A Foreign Country\n",
    "* TravelInsurance - Did The Customer Buy Travel Insurance Package During Introductory Offering Held In The Year 2019."
   ]
  },
  {
   "cell_type": "markdown",
   "metadata": {
    "id": "iDJN7fbU8Kov"
   },
   "source": [
    "## Load Dataset"
   ]
  },
  {
   "cell_type": "code",
   "execution_count": 1,
   "metadata": {
    "colab": {
     "base_uri": "https://localhost:8080/"
    },
    "executionInfo": {
     "elapsed": 44369,
     "status": "ok",
     "timestamp": 1681559041825,
     "user": {
      "displayName": "Dac Nguyen",
      "userId": "01275678335241040197"
     },
     "user_tz": -420
    },
    "id": "YfmW1_KdudmQ",
    "outputId": "d7688652-06a4-4749-885d-3517d1a2bd73"
   },
   "outputs": [],
   "source": [
    "import pandas as pd\n",
    "import numpy as np\n",
    "import matplotlib.pyplot as plt\n",
    "import seaborn as sns\n"
   ]
  },
  {
   "cell_type": "code",
   "execution_count": 2,
   "metadata": {
    "colab": {
     "base_uri": "https://localhost:8080/",
     "height": 204
    },
    "executionInfo": {
     "elapsed": 2187,
     "status": "ok",
     "timestamp": 1681559058159,
     "user": {
      "displayName": "Dac Nguyen",
      "userId": "01275678335241040197"
     },
     "user_tz": -420
    },
    "id": "G8aJO4Rj8Kov",
    "outputId": "91bc6e50-30bd-4bb6-b06b-6583f0db557c"
   },
   "outputs": [
    {
     "data": {
      "text/html": [
       "<div>\n",
       "<style scoped>\n",
       "    .dataframe tbody tr th:only-of-type {\n",
       "        vertical-align: middle;\n",
       "    }\n",
       "\n",
       "    .dataframe tbody tr th {\n",
       "        vertical-align: top;\n",
       "    }\n",
       "\n",
       "    .dataframe thead th {\n",
       "        text-align: right;\n",
       "    }\n",
       "</style>\n",
       "<table border=\"1\" class=\"dataframe\">\n",
       "  <thead>\n",
       "    <tr style=\"text-align: right;\">\n",
       "      <th></th>\n",
       "      <th>Unnamed: 0</th>\n",
       "      <th>Age</th>\n",
       "      <th>Employment Type</th>\n",
       "      <th>GraduateOrNot</th>\n",
       "      <th>AnnualIncome</th>\n",
       "      <th>FamilyMembers</th>\n",
       "      <th>ChronicDiseases</th>\n",
       "      <th>FrequentFlyer</th>\n",
       "      <th>EverTravelledAbroad</th>\n",
       "      <th>TravelInsurance</th>\n",
       "    </tr>\n",
       "  </thead>\n",
       "  <tbody>\n",
       "    <tr>\n",
       "      <th>0</th>\n",
       "      <td>0</td>\n",
       "      <td>31</td>\n",
       "      <td>Government Sector</td>\n",
       "      <td>Yes</td>\n",
       "      <td>400000</td>\n",
       "      <td>6</td>\n",
       "      <td>1</td>\n",
       "      <td>No</td>\n",
       "      <td>No</td>\n",
       "      <td>0</td>\n",
       "    </tr>\n",
       "    <tr>\n",
       "      <th>1</th>\n",
       "      <td>1</td>\n",
       "      <td>31</td>\n",
       "      <td>Private Sector/Self Employed</td>\n",
       "      <td>Yes</td>\n",
       "      <td>1250000</td>\n",
       "      <td>7</td>\n",
       "      <td>0</td>\n",
       "      <td>No</td>\n",
       "      <td>No</td>\n",
       "      <td>0</td>\n",
       "    </tr>\n",
       "    <tr>\n",
       "      <th>2</th>\n",
       "      <td>2</td>\n",
       "      <td>34</td>\n",
       "      <td>Private Sector/Self Employed</td>\n",
       "      <td>Yes</td>\n",
       "      <td>500000</td>\n",
       "      <td>4</td>\n",
       "      <td>1</td>\n",
       "      <td>No</td>\n",
       "      <td>No</td>\n",
       "      <td>1</td>\n",
       "    </tr>\n",
       "    <tr>\n",
       "      <th>3</th>\n",
       "      <td>3</td>\n",
       "      <td>28</td>\n",
       "      <td>Private Sector/Self Employed</td>\n",
       "      <td>Yes</td>\n",
       "      <td>700000</td>\n",
       "      <td>3</td>\n",
       "      <td>1</td>\n",
       "      <td>No</td>\n",
       "      <td>No</td>\n",
       "      <td>0</td>\n",
       "    </tr>\n",
       "    <tr>\n",
       "      <th>4</th>\n",
       "      <td>4</td>\n",
       "      <td>28</td>\n",
       "      <td>Private Sector/Self Employed</td>\n",
       "      <td>Yes</td>\n",
       "      <td>700000</td>\n",
       "      <td>8</td>\n",
       "      <td>1</td>\n",
       "      <td>Yes</td>\n",
       "      <td>No</td>\n",
       "      <td>0</td>\n",
       "    </tr>\n",
       "  </tbody>\n",
       "</table>\n",
       "</div>"
      ],
      "text/plain": [
       "   Unnamed: 0  Age               Employment Type GraduateOrNot  AnnualIncome  \\\n",
       "0           0   31             Government Sector           Yes        400000   \n",
       "1           1   31  Private Sector/Self Employed           Yes       1250000   \n",
       "2           2   34  Private Sector/Self Employed           Yes        500000   \n",
       "3           3   28  Private Sector/Self Employed           Yes        700000   \n",
       "4           4   28  Private Sector/Self Employed           Yes        700000   \n",
       "\n",
       "   FamilyMembers  ChronicDiseases FrequentFlyer EverTravelledAbroad  \\\n",
       "0              6                1            No                  No   \n",
       "1              7                0            No                  No   \n",
       "2              4                1            No                  No   \n",
       "3              3                1            No                  No   \n",
       "4              8                1           Yes                  No   \n",
       "\n",
       "   TravelInsurance  \n",
       "0                0  \n",
       "1                0  \n",
       "2                1  \n",
       "3                0  \n",
       "4                0  "
      ]
     },
     "execution_count": 2,
     "metadata": {},
     "output_type": "execute_result"
    }
   ],
   "source": [
    "import pandas as pd\n",
    "PATH = \" \" # Path to your file\n",
    "\n",
    "df = pd.read_csv(\"TravelInsurancePrediction.csv\")\n",
    "df.head()\n",
    "#ToDo: Show histogram of dataframe"
   ]
  },
  {
   "cell_type": "code",
   "execution_count": 3,
   "metadata": {},
   "outputs": [
    {
     "data": {
      "text/plain": [
       "Unnamed: 0              int64\n",
       "Age                     int64\n",
       "Employment Type        object\n",
       "GraduateOrNot          object\n",
       "AnnualIncome            int64\n",
       "FamilyMembers           int64\n",
       "ChronicDiseases         int64\n",
       "FrequentFlyer          object\n",
       "EverTravelledAbroad    object\n",
       "TravelInsurance         int64\n",
       "dtype: object"
      ]
     },
     "execution_count": 3,
     "metadata": {},
     "output_type": "execute_result"
    }
   ],
   "source": [
    "df.dtypes"
   ]
  },
  {
   "cell_type": "code",
   "execution_count": 4,
   "metadata": {},
   "outputs": [],
   "source": [
    "df = df.drop(['Unnamed: 0'], axis = 1)\n"
   ]
  },
  {
   "cell_type": "markdown",
   "metadata": {},
   "source": [
    "## Data Analysis"
   ]
  },
  {
   "cell_type": "code",
   "execution_count": 5,
   "metadata": {},
   "outputs": [
    {
     "data": {
      "text/html": [
       "<div>\n",
       "<style scoped>\n",
       "    .dataframe tbody tr th:only-of-type {\n",
       "        vertical-align: middle;\n",
       "    }\n",
       "\n",
       "    .dataframe tbody tr th {\n",
       "        vertical-align: top;\n",
       "    }\n",
       "\n",
       "    .dataframe thead th {\n",
       "        text-align: right;\n",
       "    }\n",
       "</style>\n",
       "<table border=\"1\" class=\"dataframe\">\n",
       "  <thead>\n",
       "    <tr style=\"text-align: right;\">\n",
       "      <th></th>\n",
       "      <th>Age</th>\n",
       "      <th>AnnualIncome</th>\n",
       "      <th>FamilyMembers</th>\n",
       "      <th>ChronicDiseases</th>\n",
       "      <th>TravelInsurance</th>\n",
       "    </tr>\n",
       "  </thead>\n",
       "  <tbody>\n",
       "    <tr>\n",
       "      <th>count</th>\n",
       "      <td>1987.000000</td>\n",
       "      <td>1.987000e+03</td>\n",
       "      <td>1987.000000</td>\n",
       "      <td>1987.000000</td>\n",
       "      <td>1987.000000</td>\n",
       "    </tr>\n",
       "    <tr>\n",
       "      <th>mean</th>\n",
       "      <td>29.650226</td>\n",
       "      <td>9.327630e+05</td>\n",
       "      <td>4.752894</td>\n",
       "      <td>0.277806</td>\n",
       "      <td>0.357323</td>\n",
       "    </tr>\n",
       "    <tr>\n",
       "      <th>std</th>\n",
       "      <td>2.913308</td>\n",
       "      <td>3.768557e+05</td>\n",
       "      <td>1.609650</td>\n",
       "      <td>0.448030</td>\n",
       "      <td>0.479332</td>\n",
       "    </tr>\n",
       "    <tr>\n",
       "      <th>min</th>\n",
       "      <td>25.000000</td>\n",
       "      <td>3.000000e+05</td>\n",
       "      <td>2.000000</td>\n",
       "      <td>0.000000</td>\n",
       "      <td>0.000000</td>\n",
       "    </tr>\n",
       "    <tr>\n",
       "      <th>25%</th>\n",
       "      <td>28.000000</td>\n",
       "      <td>6.000000e+05</td>\n",
       "      <td>4.000000</td>\n",
       "      <td>0.000000</td>\n",
       "      <td>0.000000</td>\n",
       "    </tr>\n",
       "    <tr>\n",
       "      <th>50%</th>\n",
       "      <td>29.000000</td>\n",
       "      <td>9.000000e+05</td>\n",
       "      <td>5.000000</td>\n",
       "      <td>0.000000</td>\n",
       "      <td>0.000000</td>\n",
       "    </tr>\n",
       "    <tr>\n",
       "      <th>75%</th>\n",
       "      <td>32.000000</td>\n",
       "      <td>1.250000e+06</td>\n",
       "      <td>6.000000</td>\n",
       "      <td>1.000000</td>\n",
       "      <td>1.000000</td>\n",
       "    </tr>\n",
       "    <tr>\n",
       "      <th>max</th>\n",
       "      <td>35.000000</td>\n",
       "      <td>1.800000e+06</td>\n",
       "      <td>9.000000</td>\n",
       "      <td>1.000000</td>\n",
       "      <td>1.000000</td>\n",
       "    </tr>\n",
       "  </tbody>\n",
       "</table>\n",
       "</div>"
      ],
      "text/plain": [
       "               Age  AnnualIncome  FamilyMembers  ChronicDiseases  \\\n",
       "count  1987.000000  1.987000e+03    1987.000000      1987.000000   \n",
       "mean     29.650226  9.327630e+05       4.752894         0.277806   \n",
       "std       2.913308  3.768557e+05       1.609650         0.448030   \n",
       "min      25.000000  3.000000e+05       2.000000         0.000000   \n",
       "25%      28.000000  6.000000e+05       4.000000         0.000000   \n",
       "50%      29.000000  9.000000e+05       5.000000         0.000000   \n",
       "75%      32.000000  1.250000e+06       6.000000         1.000000   \n",
       "max      35.000000  1.800000e+06       9.000000         1.000000   \n",
       "\n",
       "       TravelInsurance  \n",
       "count      1987.000000  \n",
       "mean          0.357323  \n",
       "std           0.479332  \n",
       "min           0.000000  \n",
       "25%           0.000000  \n",
       "50%           0.000000  \n",
       "75%           1.000000  \n",
       "max           1.000000  "
      ]
     },
     "execution_count": 5,
     "metadata": {},
     "output_type": "execute_result"
    }
   ],
   "source": [
    "df.describe()"
   ]
  },
  {
   "cell_type": "code",
   "execution_count": 6,
   "metadata": {},
   "outputs": [
    {
     "data": {
      "text/plain": [
       "0    1277\n",
       "1     710\n",
       "Name: TravelInsurance, dtype: int64"
      ]
     },
     "execution_count": 6,
     "metadata": {},
     "output_type": "execute_result"
    }
   ],
   "source": [
    "df.TravelInsurance.value_counts()"
   ]
  },
  {
   "cell_type": "code",
   "execution_count": 7,
   "metadata": {},
   "outputs": [
    {
     "data": {
      "text/plain": [
       "Age                    0\n",
       "Employment Type        0\n",
       "GraduateOrNot          0\n",
       "AnnualIncome           0\n",
       "FamilyMembers          0\n",
       "ChronicDiseases        0\n",
       "FrequentFlyer          0\n",
       "EverTravelledAbroad    0\n",
       "TravelInsurance        0\n",
       "dtype: int64"
      ]
     },
     "execution_count": 7,
     "metadata": {},
     "output_type": "execute_result"
    }
   ],
   "source": [
    "df.isnull().sum()"
   ]
  },
  {
   "cell_type": "code",
   "execution_count": 8,
   "metadata": {},
   "outputs": [
    {
     "data": {
      "image/png": "[encoded data removed]",
      "text/plain": [
       "<Figure size 1400x1000 with 5 Axes>"
      ]
     },
     "metadata": {},
     "output_type": "display_data"
    }
   ],
   "source": [
    "categorical_cols = [feature for feature in df.columns if df[feature].dtype == \"O\"]\n",
    "numerical_cols = [feature for feature in df.columns if df[feature].dtype != \"O\"]\n",
    "fig, axes=plt.subplots(len(numerical_cols), 1, figsize=(14, 2*len(numerical_cols)),sharex=False,sharey=False)\n",
    "\n",
    "for i, column in enumerate(numerical_cols):\n",
    "    sns.boxplot(x=column,data=df,palette='crest',ax=axes[i])\n",
    "plt.tight_layout(pad=2.0)"
   ]
  },
  {
   "cell_type": "markdown",
   "metadata": {},
   "source": [
    "Không thấy được giá trị outlier "
   ]
  },
  {
   "cell_type": "code",
   "execution_count": 9,
   "metadata": {},
   "outputs": [
    {
     "data": {
      "text/plain": [
       "<AxesSubplot:xlabel='GraduateOrNot', ylabel='count'>"
      ]
     },
     "execution_count": 9,
     "metadata": {},
     "output_type": "execute_result"
    },
    {
     "data": {
      "image/png": "[encoded data removed]",
      "text/plain": [
       "<Figure size 640x480 with 1 Axes>"
      ]
     },
     "metadata": {},
     "output_type": "display_data"
    }
   ],
   "source": [
    "sns.countplot(data =df, x= 'GraduateOrNot', hue=\"TravelInsurance\")"
   ]
  },
  {
   "cell_type": "markdown",
   "metadata": {},
   "source": [
    "Dataset không gặp hiện tượng imbalance"
   ]
  },
  {
   "cell_type": "code",
   "execution_count": 10,
   "metadata": {},
   "outputs": [
    {
     "data": {
      "text/plain": [
       "<AxesSubplot:xlabel='Age', ylabel='TravelInsurance'>"
      ]
     },
     "execution_count": 10,
     "metadata": {},
     "output_type": "execute_result"
    },
    {
     "data": {
      "image/png": "[encoded data removed]",
      "text/plain": [
       "<Figure size 640x480 with 1 Axes>"
      ]
     },
     "metadata": {},
     "output_type": "display_data"
    }
   ],
   "source": [
    "sns.lineplot(data =df, x= \"Age\", y=\"TravelInsurance\")"
   ]
  },
  {
   "cell_type": "code",
   "execution_count": 11,
   "metadata": {},
   "outputs": [
    {
     "data": {
      "text/plain": [
       "<AxesSubplot:>"
      ]
     },
     "execution_count": 11,
     "metadata": {},
     "output_type": "execute_result"
    },
    {
     "data": {
      "image/png": "[encoded data removed]",
      "text/plain": [
       "<Figure size 640x480 with 2 Axes>"
      ]
     },
     "metadata": {},
     "output_type": "display_data"
    }
   ],
   "source": [
    "# Heatmap\n",
    "import seaborn as sns\n",
    "\n",
    "sns.heatmap(df.corr()) # Show heatmap after normalized data"
   ]
  },
  {
   "cell_type": "markdown",
   "metadata": {},
   "source": [
    "## Preprocessing"
   ]
  },
  {
   "cell_type": "code",
   "execution_count": 12,
   "metadata": {},
   "outputs": [],
   "source": [
    "def preprocessing_data(df):\n",
    "    \"\"\"\n",
    "    Preprocess your data (eg. Drop null datapoints or fill missing data)\n",
    "    :param df: pandas DataFrame\n",
    "    :return: pandas DataFrame\n",
    "    \"\"\"\n",
    "    # Todo: preprocess data\n",
    "    if df.isnull().values.any():\n",
    "        df = df.dropna() # Drop null values\n",
    "    return df\n",
    "df = preprocessing_data(df.copy())"
   ]
  },
  {
   "cell_type": "markdown",
   "metadata": {},
   "source": [
    "## Feature Engineering"
   ]
  },
  {
   "cell_type": "code",
   "execution_count": 13,
   "metadata": {},
   "outputs": [],
   "source": [
    "cat_cols = [col for col in df.columns if df[col].dtypes == \"O\"] # Lấy các features có dạng categorical (string) \n",
    "#cat_cols.remove(\"TravelInsurance\")\n",
    "X = pd.get_dummies(df, columns=cat_cols)\n",
    "X = X.drop([\"TravelInsurance\"], axis=1)\n",
    "y = df[df.columns[-1]].values\n",
    "#y = [0 if i==\"Yes\" else 1 for i in y] "
   ]
  },
  {
   "cell_type": "markdown",
   "metadata": {},
   "source": [
    "# Apply machine learning model"
   ]
  },
  {
   "cell_type": "markdown",
   "metadata": {},
   "source": [
    "## Train-test split"
   ]
  },
  {
   "cell_type": "code",
   "execution_count": 14,
   "metadata": {},
   "outputs": [],
   "source": [
    "#Chia dataset\n",
    "from sklearn.model_selection import train_test_split\n",
    "X_train, X_test, y_train, y_test = train_test_split(X, y, train_size=0.7, random_state=0)"
   ]
  },
  {
   "cell_type": "markdown",
   "metadata": {},
   "source": [
    "## Build SK-learn model"
   ]
  },
  {
   "cell_type": "markdown",
   "metadata": {},
   "source": [
    "### CategoricalNB with PCA and MinMaxScaler"
   ]
  },
  {
   "cell_type": "code",
   "execution_count": 15,
   "metadata": {},
   "outputs": [
    {
     "name": "stdout",
     "output_type": "stream",
     "text": [
      "Best parameter (CV score=0.980):\n",
      "{'nb__alpha': 1047.615752789665}\n",
      "Best parameters:  {'nb__alpha': 1047.615752789665}\n",
      "Training precision score:  0.9800000000000001\n",
      "Test precision score:  0.8571428571428571\n",
      "              precision    recall  f1-score   support\n",
      "\n",
      "           0       0.72      0.98      0.83       399\n",
      "           1       0.86      0.24      0.38       198\n",
      "\n",
      "    accuracy                           0.74       597\n",
      "   macro avg       0.79      0.61      0.60       597\n",
      "weighted avg       0.77      0.74      0.68       597\n",
      "\n"
     ]
    }
   ],
   "source": [
    "# -- Build a full pipeline\n",
    "from sklearn.decomposition import PCA\n",
    "from sklearn.preprocessing import MinMaxScaler\n",
    "from sklearn.naive_bayes import CategoricalNB\n",
    "from sklearn.pipeline import Pipeline\n",
    "from sklearn.model_selection import GridSearchCV\n",
    "import warnings\n",
    "warnings.filterwarnings(\"ignore\")\n",
    "\n",
    "nb = CategoricalNB()\n",
    "scaler = MinMaxScaler()\n",
    "pipe = Pipeline(steps=[ ('scaler', scaler),(\"nb\", nb)]) #Build a pipeline with a scaler and a model\n",
    "\n",
    "# Parameters of pipelines can be set using '__' separated parameter names:\n",
    "alpha = np.logspace(5, -2, num=100)\n",
    "param_grid = {\n",
    "    'nb__alpha': alpha\n",
    "}\n",
    "\n",
    "search = GridSearchCV(pipe, param_grid, scoring=\"precision\", n_jobs=8)\n",
    "search.fit(X_train, y_train)\n",
    "\n",
    "print(\"Best parameter (CV score=%0.3f):\" % search.best_score_)\n",
    "print(search.best_params_)\n",
    "print(\"Best parameters: \", search.best_params_)\n",
    "print(\"Training precision score: \", search.best_score_)\n",
    "print(\"Test precision score: \", search.score(X_test, y_test))\n",
    "\n",
    "from sklearn.metrics import precision_score, recall_score, f1_score, classification_report\n",
    "predicted_label = search.predict(X_test)\n",
    "print(classification_report(y_test, predicted_label))\n"
   ]
  },
  {
   "cell_type": "markdown",
   "metadata": {},
   "source": [
    "### BernoulliNB with PCA and MinMaxScaler"
   ]
  },
  {
   "cell_type": "code",
   "execution_count": 16,
   "metadata": {},
   "outputs": [
    {
     "name": "stdout",
     "output_type": "stream",
     "text": [
      "Best parameter (CV score=0.883):\n",
      "{'nb__alpha': 475.0810162102798, 'pca__n_components': 8}\n",
      "Best parameters:  {'nb__alpha': 475.0810162102798, 'pca__n_components': 8}\n",
      "Training precision score:  0.8825396825396826\n",
      "Test precision score:  0.8292682926829268\n",
      "              precision    recall  f1-score   support\n",
      "\n",
      "           0       0.71      0.98      0.82       399\n",
      "           1       0.83      0.17      0.28       198\n",
      "\n",
      "    accuracy                           0.71       597\n",
      "   macro avg       0.77      0.58      0.55       597\n",
      "weighted avg       0.75      0.71      0.64       597\n",
      "\n"
     ]
    }
   ],
   "source": [
    "# -- Build a full pipeline\n",
    "from sklearn.preprocessing import MinMaxScaler\n",
    "from sklearn.decomposition import PCA\n",
    "from sklearn.naive_bayes import BernoulliNB\n",
    "from sklearn.pipeline import Pipeline\n",
    "from sklearn.model_selection import GridSearchCV\n",
    "import warnings\n",
    "warnings.filterwarnings(\"ignore\")\n",
    "pca = PCA()\n",
    "scaler = MinMaxScaler()\n",
    "\n",
    "nb = BernoulliNB()\n",
    "pipe = Pipeline(steps=[('scaler', scaler),(\"pca\", pca), (\"nb\", nb)]) #Build a pipeline with a scaler and a model\n",
    "\n",
    "# Parameters of pipelines can be set using '__' separated parameter names:\n",
    "alpha = np.logspace(5, -0, num=100)\n",
    "param_grid = {\n",
    "    \"pca__n_components\": [0,2,4,6,8,10],\n",
    "    'nb__alpha': alpha\n",
    "    }\n",
    "\n",
    "search = GridSearchCV(pipe, param_grid, scoring=\"precision\", n_jobs=8)\n",
    "search.fit(X_train, y_train)\n",
    "print(\"Best parameter (CV score=%0.3f):\" % search.best_score_)\n",
    "print(search.best_params_)\n",
    "print(\"Best parameters: \", search.best_params_)\n",
    "print(\"Training precision score: \", search.best_score_)\n",
    "print(\"Test precision score: \", search.score(X_test, y_test))\n",
    "from sklearn.metrics import precision_score, recall_score, f1_score, classification_report\n",
    "predicted_label = search.predict(X_test)\n",
    "print(classification_report(y_test, predicted_label))"
   ]
  },
  {
   "cell_type": "markdown",
   "metadata": {},
   "source": [
    "### GaussianNB with PCA "
   ]
  },
  {
   "cell_type": "code",
   "execution_count": 17,
   "metadata": {},
   "outputs": [
    {
     "name": "stdout",
     "output_type": "stream",
     "text": [
      "Best parameter (CV score=0.929):\n",
      "{'gau_nb__var_smoothing': 0.5590810182512224, 'pca__n_components': 2}\n",
      "Best parameters:  {'gau_nb__var_smoothing': 0.5590810182512224, 'pca__n_components': 2}\n",
      "Training precision score:  0.9291117940932938\n",
      "Test precision score:  0.8771929824561403\n",
      "              precision    recall  f1-score   support\n",
      "\n",
      "           0       0.80      0.96      0.87       399\n",
      "           1       0.88      0.51      0.64       198\n",
      "\n",
      "    accuracy                           0.81       597\n",
      "   macro avg       0.84      0.73      0.76       597\n",
      "weighted avg       0.82      0.81      0.80       597\n",
      "\n"
     ]
    }
   ],
   "source": [
    "# -- Build a full pipeline\n",
    "from sklearn.decomposition import PCA\n",
    "from sklearn.naive_bayes import GaussianNB\n",
    "from sklearn.pipeline import Pipeline\n",
    "from sklearn.model_selection import GridSearchCV\n",
    "import warnings\n",
    "warnings.filterwarnings(\"ignore\")\n",
    "pca = PCA()\n",
    "gau_nb = GaussianNB()\n",
    "pipe = Pipeline(steps=[(\"pca\", pca), (\"gau_nb\", gau_nb)]) #Build a pipeline with a scaler and a model\n",
    "\n",
    "# Parameters of pipelines can be set using '__' separated parameter names:\n",
    "var_smoothing_values = np.logspace(0, -5, num=100)\n",
    "param_grid = {\n",
    "    \"pca__n_components\": [0,2,4,6,8,10],\n",
    "    'gau_nb__var_smoothing': var_smoothing_values\n",
    "    }\n",
    "\n",
    "search = GridSearchCV(pipe, param_grid, scoring=\"precision\", n_jobs=8)\n",
    "search.fit(X_train, y_train)\n",
    "print(\"Best parameter (CV score=%0.3f):\" % search.best_score_)\n",
    "print(search.best_params_)\n",
    "print(\"Best parameters: \", search.best_params_)\n",
    "print(\"Training precision score: \", search.best_score_)\n",
    "print(\"Test precision score: \", search.score(X_test, y_test))\n",
    "from sklearn.metrics import precision_score, recall_score, f1_score, classification_report\n",
    "predicted_label = search.predict(X_test)\n",
    "print(classification_report(y_test, predicted_label))"
   ]
  },
  {
   "cell_type": "code",
   "execution_count": 18,
   "metadata": {
    "id": "T0UDQCc48Ko1"
   },
   "outputs": [],
   "source": [
    "def get_conclusion():\n",
    "    # Todo: Please return your answer, conclusion and opinion right here\n",
    "    return \"Mời thầy đọc markdown ở dưới \" \\\n",
    "           \"Other conclusion: \""
   ]
  },
  {
   "cell_type": "markdown",
   "metadata": {},
   "source": [
    "Metrics em dùng ở đây là precision vì muốn đảm bảo rằng tìm ra các khách hàng được thật sự có nhu cầu để ta có thể đẩy mạnh vào và tăng chỉ số mua hàng.\n",
    "\n",
    "Đồng thời khi tìm ra được các khách hàng tiềm năng thì ta có thể dựa vào tính giải thích của model để tìm xem đâu là các features mà ta có thể đẩy mạnh vào để từ đó đưa ra được các quyết định cũng như chiến lược để tối ưu hóa \"Travel Insurance Packages\" này.\n",
    "\n",
    "Naive Bayes model mà em đạt được kết quả tốt nhất là GaussianNB với hyperameters là :\n",
    "\n",
    "'gau_nb__var_smoothing': 0.5590810182512224 \n",
    "\n",
    "'pca__n_components': 2\n",
    "\n",
    "Và không sử dụng scaler"
   ]
  },
  {
   "cell_type": "code",
   "execution_count": 22,
   "metadata": {},
   "outputs": [
    {
     "name": "stdout",
     "output_type": "stream",
     "text": [
      "Best parameter (CV score=0.719):\n",
      "{'gau_nb__var_smoothing': 0.39442060594376555, 'pca__n_components': 2}\n",
      "Best parameters:  {'gau_nb__var_smoothing': 0.39442060594376555, 'pca__n_components': 2}\n",
      "Training precision score:  0.7191668241114223\n",
      "Test precision score:  0.757020757020757\n",
      "              precision    recall  f1-score   support\n",
      "\n",
      "           0       0.80      0.96      0.87       399\n",
      "           1       0.88      0.51      0.64       198\n",
      "\n",
      "    accuracy                           0.81       597\n",
      "   macro avg       0.84      0.73      0.76       597\n",
      "weighted avg       0.82      0.81      0.80       597\n",
      "\n"
     ]
    }
   ],
   "source": [
    "search = GridSearchCV(pipe, param_grid, scoring=\"f1_macro\", n_jobs=8)\n",
    "search.fit(X_train, y_train)\n",
    "print(\"Best parameter (CV score=%0.3f):\" % search.best_score_)\n",
    "print(search.best_params_)\n",
    "print(\"Best parameters: \", search.best_params_)\n",
    "print(\"Training precision score: \", search.best_score_)\n",
    "print(\"Test precision score: \", search.score(X_test, y_test))\n",
    "from sklearn.metrics import precision_score, recall_score, f1_score, classification_report\n",
    "predicted_label = search.predict(X_test)\n",
    "print(classification_report(y_test, predicted_label))"
   ]
  }
 ],
 "metadata": {
  "colab": {
   "provenance": []
  },
  "kernelspec": {
   "display_name": "Python 3 (ipykernel)",
   "language": "python",
   "name": "python3"
  },
  "language_info": {
   "codemirror_mode": {
    "name": "ipython",
    "version": 3
   },
   "file_extension": ".py",
   "mimetype": "text/x-python",
   "name": "python",
   "nbconvert_exporter": "python",
   "pygments_lexer": "ipython3",
   "version": "3.7.15"
  }
 },
 "nbformat": 4,
 "nbformat_minor": 1
}
