{
 "cells": [
  {
   "cell_type": "markdown",
   "id": "ae78e63c",
   "metadata": {
    "id": "ae78e63c"
   },
   "source": [
    "Insurance dataset is a data set about predicting the amount of insurance to pay for a patient, which includes the following features:\n",
    "- age: Age of the patient, is a positive integer value\n",
    "- sex: Patient's gender where 0 is male, 1 is female\n",
    "- bmi: The patient's BMI, is the actual value\n",
    "- children: Number of children of the patient, is a positive integer value\n",
    "- smoker: Indicates whether the patient smokes, where 1 is yes and 0 is no\n",
    "- region: Indicate the region the patient is in, 0 is southwest 1 is southeast 2 is northwest and 3 is northeast\n",
    "\n",
    "- charges: Individual medical costs billed by health insurance."
   ]
  },
  {
   "cell_type": "code",
   "execution_count": 1,
   "id": "a3f02538",
   "metadata": {},
   "outputs": [],
   "source": [
    "#$!pip install seaborn"
   ]
  },
  {
   "cell_type": "code",
   "execution_count": 2,
   "id": "mYV5QYEaZD5N",
   "metadata": {
    "colab": {
     "base_uri": "https://localhost:8080/"
    },
    "executionInfo": {
     "elapsed": 3150,
     "status": "ok",
     "timestamp": 1680455810648,
     "user": {
      "displayName": "Dac Nguyen",
      "userId": "01275678335241040197"
     },
     "user_tz": -420
    },
    "id": "mYV5QYEaZD5N",
    "outputId": "0bcee412-2b0a-4e8a-b738-e8da9093fbc9"
   },
   "outputs": [],
   "source": [
    "# mount data from google drive to colab\n",
    "#from google.colab import drive\n",
    "#drive.mount('/content/drive')\n",
    "\n",
    "#import library\n",
    "import pandas as pd # pandas \n",
    "import numpy as np # numpy\n",
    "import time\n"
   ]
  },
  {
   "cell_type": "markdown",
   "id": "DWey3cHTb43g",
   "metadata": {
    "id": "DWey3cHTb43g"
   },
   "source": [
    "# Prepare and Analyze Data\n",
    "\n",
    "1. Load Dataset\n",
    "2. Analyze Dataset\n",
    "3. Preprocess data (type, null, missing, ...)\n",
    "4. Feature Engineering"
   ]
  },
  {
   "cell_type": "markdown",
   "id": "5QJmB36JjdyC",
   "metadata": {
    "id": "5QJmB36JjdyC"
   },
   "source": [
    "## Load Dataset"
   ]
  },
  {
   "cell_type": "code",
   "execution_count": 3,
   "id": "FUt8L4yl8v9t",
   "metadata": {
    "executionInfo": {
     "elapsed": 530,
     "status": "ok",
     "timestamp": 1680455825353,
     "user": {
      "displayName": "Dac Nguyen",
      "userId": "01275678335241040197"
     },
     "user_tz": -420
    },
    "id": "FUt8L4yl8v9t"
   },
   "outputs": [],
   "source": [
    "# read data using Pandas DataFrame\n",
    "def read_dataset(path):\n",
    "    # read data using Pandas DataFrame\n",
    "    df = pd.read_csv(path)\n",
    "    display(df.head())\n",
    "    display(df.describe())\n",
    "    return df"
   ]
  },
  {
   "cell_type": "code",
   "execution_count": 4,
   "id": "b6967e88",
   "metadata": {
    "colab": {
     "base_uri": "https://localhost:8080/",
     "height": 484
    },
    "executionInfo": {
     "elapsed": 6,
     "status": "ok",
     "timestamp": 1680455825354,
     "user": {
      "displayName": "Dac Nguyen",
      "userId": "01275678335241040197"
     },
     "user_tz": -420
    },
    "id": "b6967e88",
    "outputId": "d785729b-7458-4fdc-8574-7cd8c03af041"
   },
   "outputs": [
    {
     "data": {
      "text/html": [
       "<div>\n",
       "<style scoped>\n",
       "    .dataframe tbody tr th:only-of-type {\n",
       "        vertical-align: middle;\n",
       "    }\n",
       "\n",
       "    .dataframe tbody tr th {\n",
       "        vertical-align: top;\n",
       "    }\n",
       "\n",
       "    .dataframe thead th {\n",
       "        text-align: right;\n",
       "    }\n",
       "</style>\n",
       "<table border=\"1\" class=\"dataframe\">\n",
       "  <thead>\n",
       "    <tr style=\"text-align: right;\">\n",
       "      <th></th>\n",
       "      <th>age</th>\n",
       "      <th>sex</th>\n",
       "      <th>bmi</th>\n",
       "      <th>children</th>\n",
       "      <th>smoker</th>\n",
       "      <th>region</th>\n",
       "      <th>charges</th>\n",
       "    </tr>\n",
       "  </thead>\n",
       "  <tbody>\n",
       "    <tr>\n",
       "      <th>0</th>\n",
       "      <td>43</td>\n",
       "      <td>female</td>\n",
       "      <td>25.800</td>\n",
       "      <td>0</td>\n",
       "      <td>yes</td>\n",
       "      <td>northwest</td>\n",
       "      <td>31128.291496</td>\n",
       "    </tr>\n",
       "    <tr>\n",
       "      <th>1</th>\n",
       "      <td>43</td>\n",
       "      <td>female</td>\n",
       "      <td>28.600</td>\n",
       "      <td>2</td>\n",
       "      <td>no</td>\n",
       "      <td>southwest</td>\n",
       "      <td>8739.200017</td>\n",
       "    </tr>\n",
       "    <tr>\n",
       "      <th>2</th>\n",
       "      <td>34</td>\n",
       "      <td>female</td>\n",
       "      <td>37.290</td>\n",
       "      <td>4</td>\n",
       "      <td>no</td>\n",
       "      <td>northeast</td>\n",
       "      <td>10979.246131</td>\n",
       "    </tr>\n",
       "    <tr>\n",
       "      <th>3</th>\n",
       "      <td>50</td>\n",
       "      <td>female</td>\n",
       "      <td>42.370</td>\n",
       "      <td>3</td>\n",
       "      <td>no</td>\n",
       "      <td>southeast</td>\n",
       "      <td>15278.753423</td>\n",
       "    </tr>\n",
       "    <tr>\n",
       "      <th>4</th>\n",
       "      <td>26</td>\n",
       "      <td>female</td>\n",
       "      <td>29.595</td>\n",
       "      <td>1</td>\n",
       "      <td>no</td>\n",
       "      <td>northeast</td>\n",
       "      <td>5153.591905</td>\n",
       "    </tr>\n",
       "  </tbody>\n",
       "</table>\n",
       "</div>"
      ],
      "text/plain": [
       "   age     sex     bmi  children smoker     region       charges\n",
       "0   43  female  25.800         0    yes  northwest  31128.291496\n",
       "1   43  female  28.600         2     no  southwest   8739.200017\n",
       "2   34  female  37.290         4     no  northeast  10979.246131\n",
       "3   50  female  42.370         3     no  southeast  15278.753423\n",
       "4   26  female  29.595         1     no  northeast   5153.591905"
      ]
     },
     "metadata": {},
     "output_type": "display_data"
    },
    {
     "data": {
      "text/html": [
       "<div>\n",
       "<style scoped>\n",
       "    .dataframe tbody tr th:only-of-type {\n",
       "        vertical-align: middle;\n",
       "    }\n",
       "\n",
       "    .dataframe tbody tr th {\n",
       "        vertical-align: top;\n",
       "    }\n",
       "\n",
       "    .dataframe thead th {\n",
       "        text-align: right;\n",
       "    }\n",
       "</style>\n",
       "<table border=\"1\" class=\"dataframe\">\n",
       "  <thead>\n",
       "    <tr style=\"text-align: right;\">\n",
       "      <th></th>\n",
       "      <th>age</th>\n",
       "      <th>bmi</th>\n",
       "      <th>children</th>\n",
       "      <th>charges</th>\n",
       "    </tr>\n",
       "  </thead>\n",
       "  <tbody>\n",
       "    <tr>\n",
       "      <th>count</th>\n",
       "      <td>59333.000000</td>\n",
       "      <td>59333.000000</td>\n",
       "      <td>59333.000000</td>\n",
       "      <td>59333.000000</td>\n",
       "    </tr>\n",
       "    <tr>\n",
       "      <th>mean</th>\n",
       "      <td>40.791448</td>\n",
       "      <td>30.930536</td>\n",
       "      <td>1.107411</td>\n",
       "      <td>13459.312130</td>\n",
       "    </tr>\n",
       "    <tr>\n",
       "      <th>std</th>\n",
       "      <td>13.897712</td>\n",
       "      <td>6.121275</td>\n",
       "      <td>1.455713</td>\n",
       "      <td>10175.464573</td>\n",
       "    </tr>\n",
       "    <tr>\n",
       "      <th>min</th>\n",
       "      <td>18.000000</td>\n",
       "      <td>15.815000</td>\n",
       "      <td>-1.000000</td>\n",
       "      <td>0.375242</td>\n",
       "    </tr>\n",
       "    <tr>\n",
       "      <th>25%</th>\n",
       "      <td>28.000000</td>\n",
       "      <td>26.510000</td>\n",
       "      <td>0.000000</td>\n",
       "      <td>6449.205453</td>\n",
       "    </tr>\n",
       "    <tr>\n",
       "      <th>50%</th>\n",
       "      <td>42.000000</td>\n",
       "      <td>30.600000</td>\n",
       "      <td>1.000000</td>\n",
       "      <td>10570.434369</td>\n",
       "    </tr>\n",
       "    <tr>\n",
       "      <th>75%</th>\n",
       "      <td>52.000000</td>\n",
       "      <td>35.000000</td>\n",
       "      <td>2.000000</td>\n",
       "      <td>15058.323202</td>\n",
       "    </tr>\n",
       "    <tr>\n",
       "      <th>max</th>\n",
       "      <td>65.000000</td>\n",
       "      <td>54.130000</td>\n",
       "      <td>6.000000</td>\n",
       "      <td>63770.428010</td>\n",
       "    </tr>\n",
       "  </tbody>\n",
       "</table>\n",
       "</div>"
      ],
      "text/plain": [
       "                age           bmi      children       charges\n",
       "count  59333.000000  59333.000000  59333.000000  59333.000000\n",
       "mean      40.791448     30.930536      1.107411  13459.312130\n",
       "std       13.897712      6.121275      1.455713  10175.464573\n",
       "min       18.000000     15.815000     -1.000000      0.375242\n",
       "25%       28.000000     26.510000      0.000000   6449.205453\n",
       "50%       42.000000     30.600000      1.000000  10570.434369\n",
       "75%       52.000000     35.000000      2.000000  15058.323202\n",
       "max       65.000000     54.130000      6.000000  63770.428010"
      ]
     },
     "metadata": {},
     "output_type": "display_data"
    }
   ],
   "source": [
    "df = read_dataset(\"C:\\\\Users\\\\Phu\\\\OneDrive - VNU-HCMUS\\\\TH_ML\\\\Week 01\\\\Insurance.csv\")"
   ]
  },
  {
   "cell_type": "markdown",
   "id": "kLqfm42rjgO2",
   "metadata": {
    "id": "kLqfm42rjgO2"
   },
   "source": [
    "## Data Analysis"
   ]
  },
  {
   "cell_type": "code",
   "execution_count": 5,
   "id": "bRSvpuUCfpDr",
   "metadata": {
    "colab": {
     "base_uri": "https://localhost:8080/",
     "height": 447
    },
    "executionInfo": {
     "elapsed": 843,
     "status": "ok",
     "timestamp": 1680455828916,
     "user": {
      "displayName": "Dac Nguyen",
      "userId": "01275678335241040197"
     },
     "user_tz": -420
    },
    "id": "bRSvpuUCfpDr",
    "outputId": "91d71c01-38e8-4159-f957-e6b2f7838047"
   },
   "outputs": [
    {
     "data": {
      "text/plain": [
       "<AxesSubplot:>"
      ]
     },
     "execution_count": 5,
     "metadata": {},
     "output_type": "execute_result"
    },
    {
     "data": {
      "image/png": "[encoded data removed]",
      "text/plain": [
       "<Figure size 640x480 with 1 Axes>"
      ]
     },
     "metadata": {},
     "output_type": "display_data"
    }
   ],
   "source": [
    "df[\"charges\"].hist(bins=100)"
   ]
  },
  {
   "cell_type": "code",
   "execution_count": 6,
   "id": "gQy5MjMft-qU",
   "metadata": {
    "colab": {
     "base_uri": "https://localhost:8080/",
     "height": 466
    },
    "executionInfo": {
     "elapsed": 896,
     "status": "ok",
     "timestamp": 1680455831119,
     "user": {
      "displayName": "Dac Nguyen",
      "userId": "01275678335241040197"
     },
     "user_tz": -420
    },
    "id": "gQy5MjMft-qU",
    "outputId": "d182ae1d-b126-417d-9303-a8fa7e65d6ed"
   },
   "outputs": [
    {
     "data": {
      "text/plain": [
       "<AxesSubplot:xlabel='charges', ylabel='Count'>"
      ]
     },
     "execution_count": 6,
     "metadata": {},
     "output_type": "execute_result"
    },
    {
     "data": {
      "image/png": "[encoded data removed]",
      "text/plain": [
       "<Figure size 640x480 with 1 Axes>"
      ]
     },
     "metadata": {},
     "output_type": "display_data"
    }
   ],
   "source": [
    "import seaborn as sns\n",
    "sns.histplot(x=\"charges\", data=df, bins=100)"
   ]
  },
  {
   "cell_type": "code",
   "execution_count": 7,
   "id": "H1A1B_3_N8kM",
   "metadata": {
    "colab": {
     "base_uri": "https://localhost:8080/"
    },
    "executionInfo": {
     "elapsed": 11,
     "status": "ok",
     "timestamp": 1680455831120,
     "user": {
      "displayName": "Dac Nguyen",
      "userId": "01275678335241040197"
     },
     "user_tz": -420
    },
    "id": "H1A1B_3_N8kM",
    "outputId": "89a70490-8b03-4651-da79-248729ddf146",
    "scrolled": true
   },
   "outputs": [
    {
     "data": {
      "text/plain": [
       "age         0\n",
       "sex         0\n",
       "bmi         0\n",
       "children    0\n",
       "smoker      0\n",
       "region      0\n",
       "charges     0\n",
       "dtype: int64"
      ]
     },
     "execution_count": 7,
     "metadata": {},
     "output_type": "execute_result"
    }
   ],
   "source": [
    "# Null checking\n",
    "df.isnull().sum()"
   ]
  },
  {
   "cell_type": "code",
   "execution_count": 8,
   "id": "087c44cc",
   "metadata": {},
   "outputs": [
    {
     "data": {
      "text/plain": [
       "68"
      ]
     },
     "execution_count": 8,
     "metadata": {},
     "output_type": "execute_result"
    }
   ],
   "source": [
    "df.duplicated().sum()\n",
    "#df.duplicated().values.any()\n"
   ]
  },
  {
   "cell_type": "code",
   "execution_count": 9,
   "id": "4c82aebf",
   "metadata": {},
   "outputs": [
    {
     "data": {
      "text/plain": [
       "age         0\n",
       "sex         0\n",
       "bmi         0\n",
       "children    0\n",
       "smoker      0\n",
       "region      0\n",
       "charges     0\n",
       "dtype: int64"
      ]
     },
     "execution_count": 9,
     "metadata": {},
     "output_type": "execute_result"
    }
   ],
   "source": [
    "df.isna().sum()"
   ]
  },
  {
   "cell_type": "markdown",
   "id": "FWQ3y3T2f32N",
   "metadata": {
    "id": "FWQ3y3T2f32N"
   },
   "source": [
    "## Preprocessing"
   ]
  },
  {
   "cell_type": "code",
   "execution_count": 10,
   "id": "6f647dba",
   "metadata": {
    "executionInfo": {
     "elapsed": 4,
     "status": "ok",
     "timestamp": 1680455832745,
     "user": {
      "displayName": "Dac Nguyen",
      "userId": "01275678335241040197"
     },
     "user_tz": -420
    },
    "id": "6f647dba"
   },
   "outputs": [],
   "source": [
    "# --- (Optional) Drop null datapoints or fill missing data\n",
    "# print(\"Sample size:\", len(df))\n",
    "# df = df.dropna() <=> df.dropna(inplace=True)\n",
    "# df = df.dropna()\n",
    "# print(\"Not null sample size:\", len(df))"
   ]
  },
  {
   "cell_type": "code",
   "execution_count": 11,
   "id": "bQGQz3UX9FDa",
   "metadata": {
    "executionInfo": {
     "elapsed": 4,
     "status": "ok",
     "timestamp": 1680455833238,
     "user": {
      "displayName": "Dac Nguyen",
      "userId": "01275678335241040197"
     },
     "user_tz": -420
    },
    "id": "bQGQz3UX9FDa"
   },
   "outputs": [],
   "source": [
    "def preprocessing_data(df):\n",
    "    # --- (Optional) Drop null datapoints or fill missing data\n",
    "    # Keep your data the same if you dont want to customize it\n",
    "    if df.isnull().values.any():\n",
    "        df = df.dropna() # Drop null values\n",
    "    if df.duplicated().values.any():\n",
    "        df = df.drop_duplicates() # Drop duplicated rows    \n",
    "    df = df\n",
    "    return df"
   ]
  },
  {
   "cell_type": "code",
   "execution_count": 2,
   "id": "XDz5_iDk9IvM",
   "metadata": {
    "executionInfo": {
     "elapsed": 3,
     "status": "ok",
     "timestamp": 1680455834535,
     "user": {
      "displayName": "Dac Nguyen",
      "userId": "01275678335241040197"
     },
     "user_tz": -420
    },
    "id": "XDz5_iDk9IvM"
   },
   "outputs": [
    {
     "ename": "NameError",
     "evalue": "name 'preprocessing_data' is not defined",
     "output_type": "error",
     "traceback": [
      "\u001b[1;31m---------------------------------------------------------------------------\u001b[0m",
      "\u001b[1;31mNameError\u001b[0m                                 Traceback (most recent call last)",
      "\u001b[1;32m~\\AppData\\Local\\Temp\\ipykernel_15676\\3389561548.py\u001b[0m in \u001b[0;36m<module>\u001b[1;34m\u001b[0m\n\u001b[1;32m----> 1\u001b[1;33m \u001b[0mdf\u001b[0m \u001b[1;33m=\u001b[0m \u001b[0mpreprocessing_data\u001b[0m\u001b[1;33m(\u001b[0m\u001b[0mdf\u001b[0m\u001b[1;33m.\u001b[0m\u001b[0mcopy\u001b[0m\u001b[1;33m(\u001b[0m\u001b[1;33m)\u001b[0m\u001b[1;33m)\u001b[0m\u001b[1;33m\u001b[0m\u001b[1;33m\u001b[0m\u001b[0m\n\u001b[0m",
      "\u001b[1;31mNameError\u001b[0m: name 'preprocessing_data' is not defined"
     ]
    }
   ],
   "source": [
    "df = preprocessing_data(df.copy())"
   ]
  },
  {
   "cell_type": "markdown",
   "id": "hEu9oydOjZem",
   "metadata": {
    "id": "hEu9oydOjZem"
   },
   "source": [
    "## Feature Engineering"
   ]
  },
  {
   "cell_type": "code",
   "execution_count": 1,
   "id": "c38f796d",
   "metadata": {},
   "outputs": [
    {
     "ename": "NameError",
     "evalue": "name 'df' is not defined",
     "output_type": "error",
     "traceback": [
      "\u001b[1;31m---------------------------------------------------------------------------\u001b[0m",
      "\u001b[1;31mNameError\u001b[0m                                 Traceback (most recent call last)",
      "\u001b[1;32m~\\AppData\\Local\\Temp\\ipykernel_15676\\2267724310.py\u001b[0m in \u001b[0;36m<module>\u001b[1;34m\u001b[0m\n\u001b[1;32m----> 1\u001b[1;33m \u001b[0mprint\u001b[0m\u001b[1;33m(\u001b[0m\u001b[0mdf\u001b[0m\u001b[1;33m.\u001b[0m\u001b[0mdtypes\u001b[0m\u001b[1;33m)\u001b[0m\u001b[1;33m\u001b[0m\u001b[1;33m\u001b[0m\u001b[0m\n\u001b[0m",
      "\u001b[1;31mNameError\u001b[0m: name 'df' is not defined"
     ]
    }
   ],
   "source": [
    "print(df.dtypes)\n"
   ]
  },
  {
   "cell_type": "code",
   "execution_count": 13,
   "id": "1b5e4df2",
   "metadata": {},
   "outputs": [
    {
     "name": "stdout",
     "output_type": "stream",
     "text": [
      "Unique values of sex: ['female' 'male']\n",
      "Unique values of smoker: ['yes' 'no']\n",
      "Unique values of region: ['northwest' 'southwest' 'northeast' 'southeast']\n"
     ]
    }
   ],
   "source": [
    "object_cols = df.select_dtypes(include='object').columns\n",
    "# object = categorical for some time\n",
    "#print(df.dtypes)\n",
    "\n",
    "for col in object_cols:\n",
    "    unique_values = df[col].unique()\n",
    "    print(f\"Unique values of {col}: {unique_values}\")"
   ]
  },
  {
   "cell_type": "code",
   "execution_count": 14,
   "id": "bb07fb8b",
   "metadata": {
    "colab": {
     "base_uri": "https://localhost:8080/",
     "height": 470
    },
    "executionInfo": {
     "elapsed": 8,
     "status": "ok",
     "timestamp": 1680455835861,
     "user": {
      "displayName": "Dac Nguyen",
      "userId": "01275678335241040197"
     },
     "user_tz": -420
    },
    "id": "bb07fb8b",
    "outputId": "9078e455-cfe7-4392-b7a6-5ed6408307ad"
   },
   "outputs": [
    {
     "data": {
      "text/html": [
       "<div>\n",
       "<style scoped>\n",
       "    .dataframe tbody tr th:only-of-type {\n",
       "        vertical-align: middle;\n",
       "    }\n",
       "\n",
       "    .dataframe tbody tr th {\n",
       "        vertical-align: top;\n",
       "    }\n",
       "\n",
       "    .dataframe thead th {\n",
       "        text-align: right;\n",
       "    }\n",
       "</style>\n",
       "<table border=\"1\" class=\"dataframe\">\n",
       "  <thead>\n",
       "    <tr style=\"text-align: right;\">\n",
       "      <th></th>\n",
       "      <th>age</th>\n",
       "      <th>sex</th>\n",
       "      <th>bmi</th>\n",
       "      <th>children</th>\n",
       "      <th>smoker</th>\n",
       "      <th>region</th>\n",
       "      <th>charges</th>\n",
       "    </tr>\n",
       "  </thead>\n",
       "  <tbody>\n",
       "    <tr>\n",
       "      <th>0</th>\n",
       "      <td>43</td>\n",
       "      <td>1</td>\n",
       "      <td>25.800</td>\n",
       "      <td>0</td>\n",
       "      <td>1</td>\n",
       "      <td>2</td>\n",
       "      <td>31128.291496</td>\n",
       "    </tr>\n",
       "    <tr>\n",
       "      <th>1</th>\n",
       "      <td>43</td>\n",
       "      <td>1</td>\n",
       "      <td>28.600</td>\n",
       "      <td>2</td>\n",
       "      <td>0</td>\n",
       "      <td>0</td>\n",
       "      <td>8739.200017</td>\n",
       "    </tr>\n",
       "    <tr>\n",
       "      <th>2</th>\n",
       "      <td>34</td>\n",
       "      <td>1</td>\n",
       "      <td>37.290</td>\n",
       "      <td>4</td>\n",
       "      <td>0</td>\n",
       "      <td>3</td>\n",
       "      <td>10979.246131</td>\n",
       "    </tr>\n",
       "    <tr>\n",
       "      <th>3</th>\n",
       "      <td>50</td>\n",
       "      <td>1</td>\n",
       "      <td>42.370</td>\n",
       "      <td>3</td>\n",
       "      <td>0</td>\n",
       "      <td>1</td>\n",
       "      <td>15278.753423</td>\n",
       "    </tr>\n",
       "    <tr>\n",
       "      <th>4</th>\n",
       "      <td>26</td>\n",
       "      <td>1</td>\n",
       "      <td>29.595</td>\n",
       "      <td>1</td>\n",
       "      <td>0</td>\n",
       "      <td>3</td>\n",
       "      <td>5153.591905</td>\n",
       "    </tr>\n",
       "  </tbody>\n",
       "</table>\n",
       "</div>"
      ],
      "text/plain": [
       "   age  sex     bmi  children  smoker  region       charges\n",
       "0   43    1  25.800         0       1       2  31128.291496\n",
       "1   43    1  28.600         2       0       0   8739.200017\n",
       "2   34    1  37.290         4       0       3  10979.246131\n",
       "3   50    1  42.370         3       0       1  15278.753423\n",
       "4   26    1  29.595         1       0       3   5153.591905"
      ]
     },
     "metadata": {},
     "output_type": "display_data"
    },
    {
     "data": {
      "text/html": [
       "<div>\n",
       "<style scoped>\n",
       "    .dataframe tbody tr th:only-of-type {\n",
       "        vertical-align: middle;\n",
       "    }\n",
       "\n",
       "    .dataframe tbody tr th {\n",
       "        vertical-align: top;\n",
       "    }\n",
       "\n",
       "    .dataframe thead th {\n",
       "        text-align: right;\n",
       "    }\n",
       "</style>\n",
       "<table border=\"1\" class=\"dataframe\">\n",
       "  <thead>\n",
       "    <tr style=\"text-align: right;\">\n",
       "      <th></th>\n",
       "      <th>age</th>\n",
       "      <th>sex</th>\n",
       "      <th>bmi</th>\n",
       "      <th>children</th>\n",
       "      <th>smoker</th>\n",
       "      <th>region</th>\n",
       "      <th>charges</th>\n",
       "    </tr>\n",
       "  </thead>\n",
       "  <tbody>\n",
       "    <tr>\n",
       "      <th>age</th>\n",
       "      <td>1.000000</td>\n",
       "      <td>0.004336</td>\n",
       "      <td>0.090561</td>\n",
       "      <td>0.007987</td>\n",
       "      <td>-0.029952</td>\n",
       "      <td>-0.008298</td>\n",
       "      <td>0.331584</td>\n",
       "    </tr>\n",
       "    <tr>\n",
       "      <th>sex</th>\n",
       "      <td>0.004336</td>\n",
       "      <td>1.000000</td>\n",
       "      <td>-0.049557</td>\n",
       "      <td>-0.017654</td>\n",
       "      <td>-0.080591</td>\n",
       "      <td>0.015906</td>\n",
       "      <td>-0.084108</td>\n",
       "    </tr>\n",
       "    <tr>\n",
       "      <th>bmi</th>\n",
       "      <td>0.090561</td>\n",
       "      <td>-0.049557</td>\n",
       "      <td>1.000000</td>\n",
       "      <td>0.030451</td>\n",
       "      <td>0.001887</td>\n",
       "      <td>-0.149864</td>\n",
       "      <td>0.202272</td>\n",
       "    </tr>\n",
       "    <tr>\n",
       "      <th>children</th>\n",
       "      <td>0.007987</td>\n",
       "      <td>-0.017654</td>\n",
       "      <td>0.030451</td>\n",
       "      <td>1.000000</td>\n",
       "      <td>0.002789</td>\n",
       "      <td>-0.021513</td>\n",
       "      <td>0.087044</td>\n",
       "    </tr>\n",
       "    <tr>\n",
       "      <th>smoker</th>\n",
       "      <td>-0.029952</td>\n",
       "      <td>-0.080591</td>\n",
       "      <td>0.001887</td>\n",
       "      <td>0.002789</td>\n",
       "      <td>1.000000</td>\n",
       "      <td>-0.032245</td>\n",
       "      <td>0.909753</td>\n",
       "    </tr>\n",
       "    <tr>\n",
       "      <th>region</th>\n",
       "      <td>-0.008298</td>\n",
       "      <td>0.015906</td>\n",
       "      <td>-0.149864</td>\n",
       "      <td>-0.021513</td>\n",
       "      <td>-0.032245</td>\n",
       "      <td>1.000000</td>\n",
       "      <td>-0.025659</td>\n",
       "    </tr>\n",
       "    <tr>\n",
       "      <th>charges</th>\n",
       "      <td>0.331584</td>\n",
       "      <td>-0.084108</td>\n",
       "      <td>0.202272</td>\n",
       "      <td>0.087044</td>\n",
       "      <td>0.909753</td>\n",
       "      <td>-0.025659</td>\n",
       "      <td>1.000000</td>\n",
       "    </tr>\n",
       "  </tbody>\n",
       "</table>\n",
       "</div>"
      ],
      "text/plain": [
       "               age       sex       bmi  children    smoker    region   charges\n",
       "age       1.000000  0.004336  0.090561  0.007987 -0.029952 -0.008298  0.331584\n",
       "sex       0.004336  1.000000 -0.049557 -0.017654 -0.080591  0.015906 -0.084108\n",
       "bmi       0.090561 -0.049557  1.000000  0.030451  0.001887 -0.149864  0.202272\n",
       "children  0.007987 -0.017654  0.030451  1.000000  0.002789 -0.021513  0.087044\n",
       "smoker   -0.029952 -0.080591  0.001887  0.002789  1.000000 -0.032245  0.909753\n",
       "region   -0.008298  0.015906 -0.149864 -0.021513 -0.032245  1.000000 -0.025659\n",
       "charges   0.331584 -0.084108  0.202272  0.087044  0.909753 -0.025659  1.000000"
      ]
     },
     "metadata": {},
     "output_type": "display_data"
    },
    {
     "name": "stdout",
     "output_type": "stream",
     "text": [
      "Running time 0.05409359931945801\n"
     ]
    }
   ],
   "source": [
    "# ---- Method 1\n",
    "start_time = time.time()\n",
    "# data normalization\n",
    "normalized_data = df.copy()\n",
    "normalized_data[\"sex\"] = normalized_data[\"sex\"].apply(lambda x: 0 if x==\"male\" else 1)\n",
    "normalized_data[\"smoker\"] = normalized_data[\"smoker\"].apply(lambda x: 0 if x==\"no\" else 1)\n",
    "normalized_data[\"region\"] = normalized_data[\"region\"].apply(lambda x: 0 if x==\"southwest\" else 1 if x==\"southeast\" else 2 if x==\"northwest\"else 3 )\n",
    "normalized_data\n",
    "\n",
    "display(normalized_data.head())\n",
    "display(normalized_data.corr())\n",
    "print(\"Running time\", time.time() - start_time)"
   ]
  },
  {
   "cell_type": "code",
   "execution_count": 15,
   "id": "cJ1mhOhmih6b",
   "metadata": {
    "colab": {
     "base_uri": "https://localhost:8080/",
     "height": 625
    },
    "executionInfo": {
     "elapsed": 8,
     "status": "ok",
     "timestamp": 1680455836355,
     "user": {
      "displayName": "Dac Nguyen",
      "userId": "01275678335241040197"
     },
     "user_tz": -420
    },
    "id": "cJ1mhOhmih6b",
    "outputId": "4c8dbc28-861d-4469-8096-73846eaad5fb"
   },
   "outputs": [
    {
     "data": {
      "text/html": [
       "<div>\n",
       "<style scoped>\n",
       "    .dataframe tbody tr th:only-of-type {\n",
       "        vertical-align: middle;\n",
       "    }\n",
       "\n",
       "    .dataframe tbody tr th {\n",
       "        vertical-align: top;\n",
       "    }\n",
       "\n",
       "    .dataframe thead th {\n",
       "        text-align: right;\n",
       "    }\n",
       "</style>\n",
       "<table border=\"1\" class=\"dataframe\">\n",
       "  <thead>\n",
       "    <tr style=\"text-align: right;\">\n",
       "      <th></th>\n",
       "      <th>sex_female</th>\n",
       "      <th>sex_male</th>\n",
       "      <th>smoker_no</th>\n",
       "      <th>smoker_yes</th>\n",
       "      <th>region_northeast</th>\n",
       "      <th>region_northwest</th>\n",
       "      <th>region_southeast</th>\n",
       "      <th>region_southwest</th>\n",
       "      <th>age</th>\n",
       "      <th>bmi</th>\n",
       "      <th>children</th>\n",
       "      <th>charges</th>\n",
       "    </tr>\n",
       "  </thead>\n",
       "  <tbody>\n",
       "    <tr>\n",
       "      <th>0</th>\n",
       "      <td>1</td>\n",
       "      <td>0</td>\n",
       "      <td>0</td>\n",
       "      <td>1</td>\n",
       "      <td>0</td>\n",
       "      <td>1</td>\n",
       "      <td>0</td>\n",
       "      <td>0</td>\n",
       "      <td>43</td>\n",
       "      <td>25.800</td>\n",
       "      <td>0</td>\n",
       "      <td>31128.291496</td>\n",
       "    </tr>\n",
       "    <tr>\n",
       "      <th>1</th>\n",
       "      <td>1</td>\n",
       "      <td>0</td>\n",
       "      <td>1</td>\n",
       "      <td>0</td>\n",
       "      <td>0</td>\n",
       "      <td>0</td>\n",
       "      <td>0</td>\n",
       "      <td>1</td>\n",
       "      <td>43</td>\n",
       "      <td>28.600</td>\n",
       "      <td>2</td>\n",
       "      <td>8739.200017</td>\n",
       "    </tr>\n",
       "    <tr>\n",
       "      <th>2</th>\n",
       "      <td>1</td>\n",
       "      <td>0</td>\n",
       "      <td>1</td>\n",
       "      <td>0</td>\n",
       "      <td>1</td>\n",
       "      <td>0</td>\n",
       "      <td>0</td>\n",
       "      <td>0</td>\n",
       "      <td>34</td>\n",
       "      <td>37.290</td>\n",
       "      <td>4</td>\n",
       "      <td>10979.246131</td>\n",
       "    </tr>\n",
       "    <tr>\n",
       "      <th>3</th>\n",
       "      <td>1</td>\n",
       "      <td>0</td>\n",
       "      <td>1</td>\n",
       "      <td>0</td>\n",
       "      <td>0</td>\n",
       "      <td>0</td>\n",
       "      <td>1</td>\n",
       "      <td>0</td>\n",
       "      <td>50</td>\n",
       "      <td>42.370</td>\n",
       "      <td>3</td>\n",
       "      <td>15278.753423</td>\n",
       "    </tr>\n",
       "    <tr>\n",
       "      <th>4</th>\n",
       "      <td>1</td>\n",
       "      <td>0</td>\n",
       "      <td>1</td>\n",
       "      <td>0</td>\n",
       "      <td>1</td>\n",
       "      <td>0</td>\n",
       "      <td>0</td>\n",
       "      <td>0</td>\n",
       "      <td>26</td>\n",
       "      <td>29.595</td>\n",
       "      <td>1</td>\n",
       "      <td>5153.591905</td>\n",
       "    </tr>\n",
       "  </tbody>\n",
       "</table>\n",
       "</div>"
      ],
      "text/plain": [
       "   sex_female  sex_male  smoker_no  smoker_yes  region_northeast  \\\n",
       "0           1         0          0           1                 0   \n",
       "1           1         0          1           0                 0   \n",
       "2           1         0          1           0                 1   \n",
       "3           1         0          1           0                 0   \n",
       "4           1         0          1           0                 1   \n",
       "\n",
       "   region_northwest  region_southeast  region_southwest  age     bmi  \\\n",
       "0                 1                 0                 0   43  25.800   \n",
       "1                 0                 0                 1   43  28.600   \n",
       "2                 0                 0                 0   34  37.290   \n",
       "3                 0                 1                 0   50  42.370   \n",
       "4                 0                 0                 0   26  29.595   \n",
       "\n",
       "   children       charges  \n",
       "0         0  31128.291496  \n",
       "1         2   8739.200017  \n",
       "2         4  10979.246131  \n",
       "3         3  15278.753423  \n",
       "4         1   5153.591905  "
      ]
     },
     "metadata": {},
     "output_type": "display_data"
    },
    {
     "data": {
      "text/html": [
       "<div>\n",
       "<style scoped>\n",
       "    .dataframe tbody tr th:only-of-type {\n",
       "        vertical-align: middle;\n",
       "    }\n",
       "\n",
       "    .dataframe tbody tr th {\n",
       "        vertical-align: top;\n",
       "    }\n",
       "\n",
       "    .dataframe thead th {\n",
       "        text-align: right;\n",
       "    }\n",
       "</style>\n",
       "<table border=\"1\" class=\"dataframe\">\n",
       "  <thead>\n",
       "    <tr style=\"text-align: right;\">\n",
       "      <th></th>\n",
       "      <th>sex_female</th>\n",
       "      <th>sex_male</th>\n",
       "      <th>smoker_no</th>\n",
       "      <th>smoker_yes</th>\n",
       "      <th>region_northeast</th>\n",
       "      <th>region_northwest</th>\n",
       "      <th>region_southeast</th>\n",
       "      <th>region_southwest</th>\n",
       "      <th>age</th>\n",
       "      <th>bmi</th>\n",
       "      <th>children</th>\n",
       "      <th>charges</th>\n",
       "    </tr>\n",
       "  </thead>\n",
       "  <tbody>\n",
       "    <tr>\n",
       "      <th>sex_female</th>\n",
       "      <td>1.000000</td>\n",
       "      <td>-1.000000</td>\n",
       "      <td>0.080591</td>\n",
       "      <td>-0.080591</td>\n",
       "      <td>0.017222</td>\n",
       "      <td>0.012067</td>\n",
       "      <td>-0.033099</td>\n",
       "      <td>0.005242</td>\n",
       "      <td>0.004336</td>\n",
       "      <td>-0.049557</td>\n",
       "      <td>-0.017654</td>\n",
       "      <td>-0.084108</td>\n",
       "    </tr>\n",
       "    <tr>\n",
       "      <th>sex_male</th>\n",
       "      <td>-1.000000</td>\n",
       "      <td>1.000000</td>\n",
       "      <td>-0.080591</td>\n",
       "      <td>0.080591</td>\n",
       "      <td>-0.017222</td>\n",
       "      <td>-0.012067</td>\n",
       "      <td>0.033099</td>\n",
       "      <td>-0.005242</td>\n",
       "      <td>-0.004336</td>\n",
       "      <td>0.049557</td>\n",
       "      <td>0.017654</td>\n",
       "      <td>0.084108</td>\n",
       "    </tr>\n",
       "    <tr>\n",
       "      <th>smoker_no</th>\n",
       "      <td>0.080591</td>\n",
       "      <td>-0.080591</td>\n",
       "      <td>1.000000</td>\n",
       "      <td>-1.000000</td>\n",
       "      <td>0.029809</td>\n",
       "      <td>0.031980</td>\n",
       "      <td>-0.066622</td>\n",
       "      <td>0.007836</td>\n",
       "      <td>0.029952</td>\n",
       "      <td>-0.001887</td>\n",
       "      <td>-0.002789</td>\n",
       "      <td>-0.909753</td>\n",
       "    </tr>\n",
       "    <tr>\n",
       "      <th>smoker_yes</th>\n",
       "      <td>-0.080591</td>\n",
       "      <td>0.080591</td>\n",
       "      <td>-1.000000</td>\n",
       "      <td>1.000000</td>\n",
       "      <td>-0.029809</td>\n",
       "      <td>-0.031980</td>\n",
       "      <td>0.066622</td>\n",
       "      <td>-0.007836</td>\n",
       "      <td>-0.029952</td>\n",
       "      <td>0.001887</td>\n",
       "      <td>0.002789</td>\n",
       "      <td>0.909753</td>\n",
       "    </tr>\n",
       "    <tr>\n",
       "      <th>region_northeast</th>\n",
       "      <td>0.017222</td>\n",
       "      <td>-0.017222</td>\n",
       "      <td>0.029809</td>\n",
       "      <td>-0.029809</td>\n",
       "      <td>1.000000</td>\n",
       "      <td>-0.314599</td>\n",
       "      <td>-0.349928</td>\n",
       "      <td>-0.325539</td>\n",
       "      <td>-0.012056</td>\n",
       "      <td>-0.107939</td>\n",
       "      <td>-0.026021</td>\n",
       "      <td>-0.025320</td>\n",
       "    </tr>\n",
       "    <tr>\n",
       "      <th>region_northwest</th>\n",
       "      <td>0.012067</td>\n",
       "      <td>-0.012067</td>\n",
       "      <td>0.031980</td>\n",
       "      <td>-0.031980</td>\n",
       "      <td>-0.314599</td>\n",
       "      <td>1.000000</td>\n",
       "      <td>-0.340268</td>\n",
       "      <td>-0.316553</td>\n",
       "      <td>0.007667</td>\n",
       "      <td>-0.167842</td>\n",
       "      <td>0.020299</td>\n",
       "      <td>-0.045098</td>\n",
       "    </tr>\n",
       "    <tr>\n",
       "      <th>region_southeast</th>\n",
       "      <td>-0.033099</td>\n",
       "      <td>0.033099</td>\n",
       "      <td>-0.066622</td>\n",
       "      <td>0.066622</td>\n",
       "      <td>-0.349928</td>\n",
       "      <td>-0.340268</td>\n",
       "      <td>1.000000</td>\n",
       "      <td>-0.352102</td>\n",
       "      <td>-0.000361</td>\n",
       "      <td>0.257692</td>\n",
       "      <td>-0.016855</td>\n",
       "      <td>0.094930</td>\n",
       "    </tr>\n",
       "    <tr>\n",
       "      <th>region_southwest</th>\n",
       "      <td>0.005242</td>\n",
       "      <td>-0.005242</td>\n",
       "      <td>0.007836</td>\n",
       "      <td>-0.007836</td>\n",
       "      <td>-0.325539</td>\n",
       "      <td>-0.316553</td>\n",
       "      <td>-0.352102</td>\n",
       "      <td>1.000000</td>\n",
       "      <td>0.004859</td>\n",
       "      <td>0.005723</td>\n",
       "      <td>0.023446</td>\n",
       "      <td>-0.028729</td>\n",
       "    </tr>\n",
       "    <tr>\n",
       "      <th>age</th>\n",
       "      <td>0.004336</td>\n",
       "      <td>-0.004336</td>\n",
       "      <td>0.029952</td>\n",
       "      <td>-0.029952</td>\n",
       "      <td>-0.012056</td>\n",
       "      <td>0.007667</td>\n",
       "      <td>-0.000361</td>\n",
       "      <td>0.004859</td>\n",
       "      <td>1.000000</td>\n",
       "      <td>0.090561</td>\n",
       "      <td>0.007987</td>\n",
       "      <td>0.331584</td>\n",
       "    </tr>\n",
       "    <tr>\n",
       "      <th>bmi</th>\n",
       "      <td>-0.049557</td>\n",
       "      <td>0.049557</td>\n",
       "      <td>-0.001887</td>\n",
       "      <td>0.001887</td>\n",
       "      <td>-0.107939</td>\n",
       "      <td>-0.167842</td>\n",
       "      <td>0.257692</td>\n",
       "      <td>0.005723</td>\n",
       "      <td>0.090561</td>\n",
       "      <td>1.000000</td>\n",
       "      <td>0.030451</td>\n",
       "      <td>0.202272</td>\n",
       "    </tr>\n",
       "    <tr>\n",
       "      <th>children</th>\n",
       "      <td>-0.017654</td>\n",
       "      <td>0.017654</td>\n",
       "      <td>-0.002789</td>\n",
       "      <td>0.002789</td>\n",
       "      <td>-0.026021</td>\n",
       "      <td>0.020299</td>\n",
       "      <td>-0.016855</td>\n",
       "      <td>0.023446</td>\n",
       "      <td>0.007987</td>\n",
       "      <td>0.030451</td>\n",
       "      <td>1.000000</td>\n",
       "      <td>0.087044</td>\n",
       "    </tr>\n",
       "    <tr>\n",
       "      <th>charges</th>\n",
       "      <td>-0.084108</td>\n",
       "      <td>0.084108</td>\n",
       "      <td>-0.909753</td>\n",
       "      <td>0.909753</td>\n",
       "      <td>-0.025320</td>\n",
       "      <td>-0.045098</td>\n",
       "      <td>0.094930</td>\n",
       "      <td>-0.028729</td>\n",
       "      <td>0.331584</td>\n",
       "      <td>0.202272</td>\n",
       "      <td>0.087044</td>\n",
       "      <td>1.000000</td>\n",
       "    </tr>\n",
       "  </tbody>\n",
       "</table>\n",
       "</div>"
      ],
      "text/plain": [
       "                  sex_female  sex_male  smoker_no  smoker_yes  \\\n",
       "sex_female          1.000000 -1.000000   0.080591   -0.080591   \n",
       "sex_male           -1.000000  1.000000  -0.080591    0.080591   \n",
       "smoker_no           0.080591 -0.080591   1.000000   -1.000000   \n",
       "smoker_yes         -0.080591  0.080591  -1.000000    1.000000   \n",
       "region_northeast    0.017222 -0.017222   0.029809   -0.029809   \n",
       "region_northwest    0.012067 -0.012067   0.031980   -0.031980   \n",
       "region_southeast   -0.033099  0.033099  -0.066622    0.066622   \n",
       "region_southwest    0.005242 -0.005242   0.007836   -0.007836   \n",
       "age                 0.004336 -0.004336   0.029952   -0.029952   \n",
       "bmi                -0.049557  0.049557  -0.001887    0.001887   \n",
       "children           -0.017654  0.017654  -0.002789    0.002789   \n",
       "charges            -0.084108  0.084108  -0.909753    0.909753   \n",
       "\n",
       "                  region_northeast  region_northwest  region_southeast  \\\n",
       "sex_female                0.017222          0.012067         -0.033099   \n",
       "sex_male                 -0.017222         -0.012067          0.033099   \n",
       "smoker_no                 0.029809          0.031980         -0.066622   \n",
       "smoker_yes               -0.029809         -0.031980          0.066622   \n",
       "region_northeast          1.000000         -0.314599         -0.349928   \n",
       "region_northwest         -0.314599          1.000000         -0.340268   \n",
       "region_southeast         -0.349928         -0.340268          1.000000   \n",
       "region_southwest         -0.325539         -0.316553         -0.352102   \n",
       "age                      -0.012056          0.007667         -0.000361   \n",
       "bmi                      -0.107939         -0.167842          0.257692   \n",
       "children                 -0.026021          0.020299         -0.016855   \n",
       "charges                  -0.025320         -0.045098          0.094930   \n",
       "\n",
       "                  region_southwest       age       bmi  children   charges  \n",
       "sex_female                0.005242  0.004336 -0.049557 -0.017654 -0.084108  \n",
       "sex_male                 -0.005242 -0.004336  0.049557  0.017654  0.084108  \n",
       "smoker_no                 0.007836  0.029952 -0.001887 -0.002789 -0.909753  \n",
       "smoker_yes               -0.007836 -0.029952  0.001887  0.002789  0.909753  \n",
       "region_northeast         -0.325539 -0.012056 -0.107939 -0.026021 -0.025320  \n",
       "region_northwest         -0.316553  0.007667 -0.167842  0.020299 -0.045098  \n",
       "region_southeast         -0.352102 -0.000361  0.257692 -0.016855  0.094930  \n",
       "region_southwest          1.000000  0.004859  0.005723  0.023446 -0.028729  \n",
       "age                       0.004859  1.000000  0.090561  0.007987  0.331584  \n",
       "bmi                       0.005723  0.090561  1.000000  0.030451  0.202272  \n",
       "children                  0.023446  0.007987  0.030451  1.000000  0.087044  \n",
       "charges                  -0.028729  0.331584  0.202272  0.087044  1.000000  "
      ]
     },
     "metadata": {},
     "output_type": "display_data"
    },
    {
     "name": "stdout",
     "output_type": "stream",
     "text": [
      "Running time 0.04185962677001953\n"
     ]
    }
   ],
   "source": [
    "start_time = time.time()\n",
    "# ---- Method 2\n",
    "normalized_data = pd.get_dummies(df.loc[:, [\"sex\", \"smoker\", \"region\"]])\n",
    "normalized_data = pd.concat([normalized_data, df.loc[:, [\"age\", \"bmi\", \"children\"]]], axis=1)\n",
    "normalized_data = pd.concat([normalized_data, df.loc[:, [\"charges\"]]], axis=1)\n",
    "\n",
    "\n",
    "display(normalized_data.head())\n",
    "display(normalized_data.corr())\n",
    "print(\"Running time\", time.time() - start_time)"
   ]
  },
  {
   "cell_type": "code",
   "execution_count": 16,
   "id": "N-t-ehppR43J",
   "metadata": {
    "executionInfo": {
     "elapsed": 5,
     "status": "ok",
     "timestamp": 1680455839556,
     "user": {
      "displayName": "Dac Nguyen",
      "userId": "01275678335241040197"
     },
     "user_tz": -420
    },
    "id": "N-t-ehppR43J"
   },
   "outputs": [],
   "source": [
    "def normalize_data(df):\n",
    "    # ---- Method 3\n",
    "    start_time = time.time()\n",
    "    # data normalization\n",
    "    normalized_data = df.copy()\n",
    "    normalized_data[\"sex\"] = normalized_data[\"sex\"].astype(\"category\").cat.codes\n",
    "    normalized_data[\"smoker\"] = normalized_data[\"smoker\"].astype(\"category\").cat.codes\n",
    "    normalized_data[\"region\"] = normalized_data[\"region\"].astype(\"category\").cat.codes\n",
    "\n",
    "    display(normalized_data.head())\n",
    "    display(normalized_data.corr())\n",
    "    print(\"Running time\", time.time() - start_time)\n",
    "    return normalized_data\n"
   ]
  },
  {
   "cell_type": "code",
   "execution_count": 17,
   "id": "AmepvqLbknvO",
   "metadata": {
    "colab": {
     "base_uri": "https://localhost:8080/",
     "height": 905
    },
    "executionInfo": {
     "elapsed": 433,
     "status": "ok",
     "timestamp": 1680455846954,
     "user": {
      "displayName": "Dac Nguyen",
      "userId": "01275678335241040197"
     },
     "user_tz": -420
    },
    "id": "AmepvqLbknvO",
    "outputId": "514287e5-4c12-401d-cd1e-06de0c094022"
   },
   "outputs": [
    {
     "data": {
      "text/html": [
       "<div>\n",
       "<style scoped>\n",
       "    .dataframe tbody tr th:only-of-type {\n",
       "        vertical-align: middle;\n",
       "    }\n",
       "\n",
       "    .dataframe tbody tr th {\n",
       "        vertical-align: top;\n",
       "    }\n",
       "\n",
       "    .dataframe thead th {\n",
       "        text-align: right;\n",
       "    }\n",
       "</style>\n",
       "<table border=\"1\" class=\"dataframe\">\n",
       "  <thead>\n",
       "    <tr style=\"text-align: right;\">\n",
       "      <th></th>\n",
       "      <th>age</th>\n",
       "      <th>sex</th>\n",
       "      <th>bmi</th>\n",
       "      <th>children</th>\n",
       "      <th>smoker</th>\n",
       "      <th>region</th>\n",
       "      <th>charges</th>\n",
       "    </tr>\n",
       "  </thead>\n",
       "  <tbody>\n",
       "    <tr>\n",
       "      <th>0</th>\n",
       "      <td>43</td>\n",
       "      <td>0</td>\n",
       "      <td>25.800</td>\n",
       "      <td>0</td>\n",
       "      <td>1</td>\n",
       "      <td>1</td>\n",
       "      <td>31128.291496</td>\n",
       "    </tr>\n",
       "    <tr>\n",
       "      <th>1</th>\n",
       "      <td>43</td>\n",
       "      <td>0</td>\n",
       "      <td>28.600</td>\n",
       "      <td>2</td>\n",
       "      <td>0</td>\n",
       "      <td>3</td>\n",
       "      <td>8739.200017</td>\n",
       "    </tr>\n",
       "    <tr>\n",
       "      <th>2</th>\n",
       "      <td>34</td>\n",
       "      <td>0</td>\n",
       "      <td>37.290</td>\n",
       "      <td>4</td>\n",
       "      <td>0</td>\n",
       "      <td>0</td>\n",
       "      <td>10979.246131</td>\n",
       "    </tr>\n",
       "    <tr>\n",
       "      <th>3</th>\n",
       "      <td>50</td>\n",
       "      <td>0</td>\n",
       "      <td>42.370</td>\n",
       "      <td>3</td>\n",
       "      <td>0</td>\n",
       "      <td>2</td>\n",
       "      <td>15278.753423</td>\n",
       "    </tr>\n",
       "    <tr>\n",
       "      <th>4</th>\n",
       "      <td>26</td>\n",
       "      <td>0</td>\n",
       "      <td>29.595</td>\n",
       "      <td>1</td>\n",
       "      <td>0</td>\n",
       "      <td>0</td>\n",
       "      <td>5153.591905</td>\n",
       "    </tr>\n",
       "  </tbody>\n",
       "</table>\n",
       "</div>"
      ],
      "text/plain": [
       "   age  sex     bmi  children  smoker  region       charges\n",
       "0   43    0  25.800         0       1       1  31128.291496\n",
       "1   43    0  28.600         2       0       3   8739.200017\n",
       "2   34    0  37.290         4       0       0  10979.246131\n",
       "3   50    0  42.370         3       0       2  15278.753423\n",
       "4   26    0  29.595         1       0       0   5153.591905"
      ]
     },
     "metadata": {},
     "output_type": "display_data"
    },
    {
     "data": {
      "text/html": [
       "<div>\n",
       "<style scoped>\n",
       "    .dataframe tbody tr th:only-of-type {\n",
       "        vertical-align: middle;\n",
       "    }\n",
       "\n",
       "    .dataframe tbody tr th {\n",
       "        vertical-align: top;\n",
       "    }\n",
       "\n",
       "    .dataframe thead th {\n",
       "        text-align: right;\n",
       "    }\n",
       "</style>\n",
       "<table border=\"1\" class=\"dataframe\">\n",
       "  <thead>\n",
       "    <tr style=\"text-align: right;\">\n",
       "      <th></th>\n",
       "      <th>age</th>\n",
       "      <th>sex</th>\n",
       "      <th>bmi</th>\n",
       "      <th>children</th>\n",
       "      <th>smoker</th>\n",
       "      <th>region</th>\n",
       "      <th>charges</th>\n",
       "    </tr>\n",
       "  </thead>\n",
       "  <tbody>\n",
       "    <tr>\n",
       "      <th>age</th>\n",
       "      <td>1.000000</td>\n",
       "      <td>-0.004336</td>\n",
       "      <td>0.090561</td>\n",
       "      <td>0.007987</td>\n",
       "      <td>-0.029952</td>\n",
       "      <td>0.008298</td>\n",
       "      <td>0.331584</td>\n",
       "    </tr>\n",
       "    <tr>\n",
       "      <th>sex</th>\n",
       "      <td>-0.004336</td>\n",
       "      <td>1.000000</td>\n",
       "      <td>0.049557</td>\n",
       "      <td>0.017654</td>\n",
       "      <td>0.080591</td>\n",
       "      <td>0.015906</td>\n",
       "      <td>0.084108</td>\n",
       "    </tr>\n",
       "    <tr>\n",
       "      <th>bmi</th>\n",
       "      <td>0.090561</td>\n",
       "      <td>0.049557</td>\n",
       "      <td>1.000000</td>\n",
       "      <td>0.030451</td>\n",
       "      <td>0.001887</td>\n",
       "      <td>0.149864</td>\n",
       "      <td>0.202272</td>\n",
       "    </tr>\n",
       "    <tr>\n",
       "      <th>children</th>\n",
       "      <td>0.007987</td>\n",
       "      <td>0.017654</td>\n",
       "      <td>0.030451</td>\n",
       "      <td>1.000000</td>\n",
       "      <td>0.002789</td>\n",
       "      <td>0.021513</td>\n",
       "      <td>0.087044</td>\n",
       "    </tr>\n",
       "    <tr>\n",
       "      <th>smoker</th>\n",
       "      <td>-0.029952</td>\n",
       "      <td>0.080591</td>\n",
       "      <td>0.001887</td>\n",
       "      <td>0.002789</td>\n",
       "      <td>1.000000</td>\n",
       "      <td>0.032245</td>\n",
       "      <td>0.909753</td>\n",
       "    </tr>\n",
       "    <tr>\n",
       "      <th>region</th>\n",
       "      <td>0.008298</td>\n",
       "      <td>0.015906</td>\n",
       "      <td>0.149864</td>\n",
       "      <td>0.021513</td>\n",
       "      <td>0.032245</td>\n",
       "      <td>1.000000</td>\n",
       "      <td>0.025659</td>\n",
       "    </tr>\n",
       "    <tr>\n",
       "      <th>charges</th>\n",
       "      <td>0.331584</td>\n",
       "      <td>0.084108</td>\n",
       "      <td>0.202272</td>\n",
       "      <td>0.087044</td>\n",
       "      <td>0.909753</td>\n",
       "      <td>0.025659</td>\n",
       "      <td>1.000000</td>\n",
       "    </tr>\n",
       "  </tbody>\n",
       "</table>\n",
       "</div>"
      ],
      "text/plain": [
       "               age       sex       bmi  children    smoker    region   charges\n",
       "age       1.000000 -0.004336  0.090561  0.007987 -0.029952  0.008298  0.331584\n",
       "sex      -0.004336  1.000000  0.049557  0.017654  0.080591  0.015906  0.084108\n",
       "bmi       0.090561  0.049557  1.000000  0.030451  0.001887  0.149864  0.202272\n",
       "children  0.007987  0.017654  0.030451  1.000000  0.002789  0.021513  0.087044\n",
       "smoker   -0.029952  0.080591  0.001887  0.002789  1.000000  0.032245  0.909753\n",
       "region    0.008298  0.015906  0.149864  0.021513  0.032245  1.000000  0.025659\n",
       "charges   0.331584  0.084108  0.202272  0.087044  0.909753  0.025659  1.000000"
      ]
     },
     "metadata": {},
     "output_type": "display_data"
    },
    {
     "name": "stdout",
     "output_type": "stream",
     "text": [
      "Running time 0.0249176025390625\n"
     ]
    },
    {
     "data": {
      "text/plain": [
       "<AxesSubplot:>"
      ]
     },
     "execution_count": 17,
     "metadata": {},
     "output_type": "execute_result"
    },
    {
     "data": {
      "image/png": "[encoded data removed]",
      "text/plain": [
       "<Figure size 640x480 with 2 Axes>"
      ]
     },
     "metadata": {},
     "output_type": "display_data"
    }
   ],
   "source": [
    "# Heatmap\n",
    "import seaborn as sns\n",
    "\n",
    "normalized_data = normalize_data(df.copy())\n",
    "sns.heatmap(normalized_data.corr())"
   ]
  },
  {
   "cell_type": "markdown",
   "id": "fzgR-i-gE1hc",
   "metadata": {
    "id": "fzgR-i-gE1hc"
   },
   "source": [
    "# Apply machine learning model"
   ]
  },
  {
   "cell_type": "markdown",
   "id": "ppt3beFBjnID",
   "metadata": {
    "id": "ppt3beFBjnID"
   },
   "source": [
    "## Train-test split"
   ]
  },
  {
   "cell_type": "code",
   "execution_count": 18,
   "id": "mBo9kxbmSZiF",
   "metadata": {
    "executionInfo": {
     "elapsed": 2,
     "status": "ok",
     "timestamp": 1680455849806,
     "user": {
      "displayName": "Dac Nguyen",
      "userId": "01275678335241040197"
     },
     "user_tz": -420
    },
    "id": "mBo9kxbmSZiF"
   },
   "outputs": [],
   "source": [
    "def prepare_X_y(df):\n",
    "    ## Split X, y from dataset\n",
    "    columns = df.columns.tolist()     # Columns name\n",
    "    columns.remove('charges')           # Remove y label (column charges in this case)\n",
    "    # columns = [\"smoker_yes\", \"bmi\", \"age\"]\n",
    "    X = df[columns]        # X \n",
    "    y = df.charges          # y\n",
    "    return X, y\n",
    "\n",
    "X, y = prepare_X_y(normalized_data)"
   ]
  },
  {
   "cell_type": "code",
   "execution_count": 19,
   "id": "oanMcOPgScf7",
   "metadata": {
    "colab": {
     "base_uri": "https://localhost:8080/"
    },
    "executionInfo": {
     "elapsed": 6,
     "status": "ok",
     "timestamp": 1680455873340,
     "user": {
      "displayName": "Dac Nguyen",
      "userId": "01275678335241040197"
     },
     "user_tz": -420
    },
    "id": "oanMcOPgScf7",
    "outputId": "39552e40-9b8a-4008-b692-a94a236ebb7f"
   },
   "outputs": [
    {
     "name": "stdout",
     "output_type": "stream",
     "text": [
      "Training:(41485, 6)\n",
      "Test:(17780, 6)\n"
     ]
    }
   ],
   "source": [
    "from sklearn.model_selection import train_test_split\n",
    "from sklearn.metrics import mean_absolute_error\n",
    "\n",
    "\n",
    "\n",
    "def split_train_test(X, y, train_size=0.7):\n",
    "    trainX, testX ,trainY, testY = train_test_split(X, y, train_size=train_size, random_state=2023)\n",
    "    print('Training:' + str(trainX.shape))\n",
    "    print('Test:' + str(testX.shape))\n",
    "\n",
    "    return trainX, testX ,trainY, testY\n",
    "\n",
    "trainX, testX ,trainY, testY = split_train_test(X, y)"
   ]
  },
  {
   "cell_type": "markdown",
   "id": "1xECUjRuFy2e",
   "metadata": {
    "id": "1xECUjRuFy2e"
   },
   "source": [
    "## Basic Linear Regression"
   ]
  },
  {
   "cell_type": "code",
   "execution_count": 20,
   "id": "4BRxjhy295U1",
   "metadata": {
    "colab": {
     "base_uri": "https://localhost:8080/"
    },
    "executionInfo": {
     "elapsed": 428,
     "status": "ok",
     "timestamp": 1680455890270,
     "user": {
      "displayName": "Dac Nguyen",
      "userId": "01275678335241040197"
     },
     "user_tz": -420
    },
    "id": "4BRxjhy295U1",
    "outputId": "22f2a51f-4a56-4cc0-b226-eb52a032ef5c"
   },
   "outputs": [
    {
     "name": "stdout",
     "output_type": "stream",
     "text": [
      "mean absolute error of linear model on train set  96.90734459801116\n",
      "mean absolute error of linear model on test set  107.92888520678032\n",
      "[  251.0487518     48.08034384   286.38031141   538.74271558\n",
      " 23650.08841381  -317.54787105]\n",
      "\n",
      "-10384.880782317252\n"
     ]
    }
   ],
   "source": [
    "from sklearn.linear_model import LinearRegression\n",
    "\n",
    "\n",
    "def build_linear_model(X, y):\n",
    "    model = LinearRegression(fit_intercept=True)   \n",
    "    model.fit(trainX, trainY) \n",
    "\n",
    "    return model\n",
    "\n",
    "model = build_linear_model(trainX, trainY)\n",
    "# Compare on training dataset\n",
    "pred = model.predict(trainX)   \n",
    "print(\"mean absolute error of linear model on train set \", mean_absolute_error(y_pred=pred, y_true=trainY) )\n",
    "pred = model.predict(testX)   \n",
    "print(\"mean absolute error of linear model on test set \", mean_absolute_error(y_pred=pred, y_true=testY) )\n",
    "\n",
    "print(model.coef_) # print coefficient\n",
    "print()\n",
    "print(model.intercept_) # print intercept_\n"
   ]
  },
  {
   "cell_type": "markdown",
   "id": "4SDs25IOFoBw",
   "metadata": {
    "id": "4SDs25IOFoBw"
   },
   "source": [
    "## Polynomial Transform "
   ]
  },
  {
   "cell_type": "markdown",
   "id": "mkeldd8AF_Ju",
   "metadata": {
    "id": "mkeldd8AF_Ju"
   },
   "source": [
    "When the data feature does not conform to a linear function, a linear regression cannot be applied directly to the original data. Then, there are many possibilities that the data feature conforms to the polynomial function. Scikit-Learn supports converting data features to polynomials through ``PolynomialFeatures``.\n",
    "\n",
    "$$\n",
    "y = a_0 + a_1 x + a_2 x^2 + a_3 x^3 + \\cdots\n",
    "$$\n",
    "\n",
    "The formula above uses the transformation of the value $x$ from one dimension to the other, with the aim of being able to use linear regression to find complex relationships between $x$ and $y$."
   ]
  },
  {
   "cell_type": "code",
   "execution_count": 21,
   "id": "_rlxpmfJ-E3f",
   "metadata": {
    "colab": {
     "base_uri": "https://localhost:8080/"
    },
    "executionInfo": {
     "elapsed": 523,
     "status": "ok",
     "timestamp": 1680455949285,
     "user": {
      "displayName": "Dac Nguyen",
      "userId": "01275678335241040197"
     },
     "user_tz": -420
    },
    "id": "_rlxpmfJ-E3f",
    "outputId": "b4d78234-7a06-4a99-92ad-fec7513df6ee"
   },
   "outputs": [
    {
     "name": "stdout",
     "output_type": "stream",
     "text": [
      "mean absolute error of linear model (with poly transform) on train set  143.0713989082978\n",
      "mean absolute error of linear model (with poly transform) on test set  152.94247921350606\n"
     ]
    }
   ],
   "source": [
    "#Linear Regression with Polynomial Transform\n",
    "from sklearn.preprocessing import PolynomialFeatures\n",
    "from sklearn.pipeline import make_pipeline\n",
    "\n",
    "def build_pipeline(X, y):\n",
    "    poly_model = make_pipeline(PolynomialFeatures(2, include_bias=False), LinearRegression())\n",
    "    poly_model.fit(X, y)  \n",
    "\n",
    "    return poly_model\n",
    "\n",
    "poly_model = build_pipeline(trainX, trainY)\n",
    "# Compare on training dataset\n",
    "poly_pred = poly_model.predict(trainX)   \n",
    "print(\"mean absolute error of linear model (with poly transform) on train set \", mean_absolute_error(y_pred=poly_pred, y_true=trainY) )\n",
    "\n",
    "poly_pred = poly_model.predict(testX)\n",
    "print(\"mean absolute error of linear model (with poly transform) on test set \", mean_absolute_error(y_pred=poly_pred, y_true=testY))"
   ]
  },
  {
   "cell_type": "markdown",
   "id": "AbkG2ojLW1vV",
   "metadata": {
    "id": "AbkG2ojLW1vV"
   },
   "source": [
    "degree of PolynomialFeatures function is defined by a tuple (x, y) where x is the smallest degree, y is the largest degree, if we only input 1 value t, the function will understand x = 0 and y = t\n",
    "\n",
    "> Indented block\n",
    "* if the 2nd order with 1 feature is $X_1$ then the equation is of the form:\n",
    "$$\\theta_0 + \\theta_1*X_1+\\theta_2*X_1^2$$\n",
    "* if the 2nd order with 2 features is $X_1$ and $X_2$ then the equation is of the form:\n",
    "$$\\theta_0 + \\theta_1*X_1+\\theta_2*X_2+\\theta_3*X_1^2 + \\theta_4*X_2^2 + \\theta_5*X_1*X_2$$"
   ]
  },
  {
   "cell_type": "code",
   "execution_count": 22,
   "id": "aQrCpYuAWzOp",
   "metadata": {
    "executionInfo": {
     "elapsed": 358,
     "status": "ok",
     "timestamp": 1680455954914,
     "user": {
      "displayName": "Dac Nguyen",
      "userId": "01275678335241040197"
     },
     "user_tz": -420
    },
    "id": "aQrCpYuAWzOp"
   },
   "outputs": [],
   "source": [
    "# --- To get output of polynomial model\n",
    "# We can call its name\n",
    "linear_model = poly_model[\"linearregression\"]\n",
    "# or by number\n",
    "linear_model = poly_model[1]"
   ]
  },
  {
   "cell_type": "markdown",
   "id": "bRJaY4swGM0f",
   "metadata": {
    "id": "bRJaY4swGM0f"
   },
   "source": [
    "# Bonus (Visualization)"
   ]
  },
  {
   "cell_type": "code",
   "execution_count": 24,
   "id": "dff2aa0e",
   "metadata": {},
   "outputs": [
    {
     "name": "stdout",
     "output_type": "stream",
     "text": [
      "Collecting scikit-learn-intelex\n",
      "  Downloading scikit_learn_intelex-2023.1.0-py37-none-win_amd64.whl (113 kB)\n",
      "     -------------------------------------- 113.2/113.2 kB 1.7 MB/s eta 0:00:00\n",
      "Collecting daal4py==2023.1.0\n",
      "  Downloading daal4py-2023.1.0-py37-none-win_amd64.whl (11.5 MB)\n",
      "     -------------------------------------- 11.5/11.5 MB 677.1 kB/s eta 0:00:00\n",
      "Requirement already satisfied: scikit-learn>=0.22 in c:\\users\\phu\\anaconda3\\envs\\torch\\lib\\site-packages (from scikit-learn-intelex) (1.0.2)\n",
      "Collecting daal==2023.1.0\n",
      "  Downloading daal-2023.1.0-py2.py3-none-win_amd64.whl (51.5 MB)\n",
      "     --------------------------------------- 51.5/51.5 MB 10.2 MB/s eta 0:00:00\n",
      "Requirement already satisfied: numpy>=1.19 in c:\\users\\phu\\anaconda3\\envs\\torch\\lib\\site-packages (from daal4py==2023.1.0->scikit-learn-intelex) (1.21.5)\n",
      "Collecting tbb==2021.*\n",
      "  Downloading tbb-2021.9.0-py3-none-win_amd64.whl (283 kB)\n",
      "     ------------------------------------- 283.8/283.8 kB 18.2 MB/s eta 0:00:00\n",
      "Requirement already satisfied: joblib>=0.11 in c:\\users\\phu\\anaconda3\\envs\\torch\\lib\\site-packages (from scikit-learn>=0.22->scikit-learn-intelex) (1.2.0)\n",
      "Requirement already satisfied: threadpoolctl>=2.0.0 in c:\\users\\phu\\anaconda3\\envs\\torch\\lib\\site-packages (from scikit-learn>=0.22->scikit-learn-intelex) (3.1.0)\n",
      "Requirement already satisfied: scipy>=1.1.0 in c:\\users\\phu\\anaconda3\\envs\\torch\\lib\\site-packages (from scikit-learn>=0.22->scikit-learn-intelex) (1.7.3)\n",
      "Installing collected packages: tbb, daal, daal4py, scikit-learn-intelex\n",
      "Successfully installed daal-2023.1.0 daal4py-2023.1.0 scikit-learn-intelex-2023.1.0 tbb-2021.9.0\n"
     ]
    }
   ],
   "source": [
    "!pip install scikit-learn-intelex\n"
   ]
  },
  {
   "cell_type": "code",
   "execution_count": 25,
   "id": "2cyBNfYRFTIy",
   "metadata": {
    "id": "2cyBNfYRFTIy"
   },
   "outputs": [],
   "source": [
    "from sklearn.manifold import TSNE\n",
    "\n",
    "# Split X, y from dataset\n",
    "columns = normalized_data.columns.tolist()     # Columns name\n",
    "draw_data = normalized_data[columns]        # X \n"
   ]
  },
  {
   "cell_type": "code",
   "execution_count": 26,
   "id": "e53e4ad8",
   "metadata": {},
   "outputs": [],
   "source": [
    "from timeit import default_timer as timer\n",
    "from sklearn import metrics\n",
    "from sklearn.datasets import make_blobs\n",
    "import matplotlib.pyplot as plt\n",
    "\n",
    "%matplotlib inline\n",
    "\n",
    "import warnings\n",
    "warnings.filterwarnings('ignore')"
   ]
  },
  {
   "cell_type": "code",
   "execution_count": 27,
   "id": "1a84594f",
   "metadata": {},
   "outputs": [
    {
     "name": "stderr",
     "output_type": "stream",
     "text": [
      "Intel(R) Extension for Scikit-learn* enabled (https://github.com/intel/scikit-learn-intelex)\n"
     ]
    }
   ],
   "source": [
    "from sklearnex import patch_sklearn\n",
    "patch_sklearn()"
   ]
  },
  {
   "cell_type": "code",
   "execution_count": 30,
   "id": "86c09a54",
   "metadata": {},
   "outputs": [
    {
     "name": "stdout",
     "output_type": "stream",
     "text": [
      "Intel® extension for Scikit-learn time: 93.21 s\n",
      "Intel® Extension for scikit-learn. Divergence: 3.7481765747070312\n"
     ]
    }
   ],
   "source": [
    "from sklearn.manifold import TSNE\n",
    "\n",
    "params = {\n",
    "    'n_components': 1,\n",
    "    'random_state': 42\n",
    "}\n",
    "start = timer()\n",
    "tsne = TSNE(**params)\n",
    "embedding_intelex = tsne.fit_transform(draw_data)\n",
    "time_opt = timer() - start\n",
    "\n",
    "print(f\"Intel® extension for Scikit-learn time: {time_opt:.2f} s\")\n",
    "print(f\"Intel® Extension for scikit-learn. Divergence: {tsne.kl_divergence_}\")"
   ]
  },
  {
   "cell_type": "code",
   "execution_count": 34,
   "id": "27e72635",
   "metadata": {},
   "outputs": [],
   "source": [
    "draw_data = TSNE(n_components=1, learning_rate='auto', init='random', perplexity=3).fit_transform(draw_data)"
   ]
  },
  {
   "cell_type": "code",
   "execution_count": 35,
   "id": "IPVi5S8gFTIz",
   "metadata": {
    "colab": {
     "base_uri": "https://localhost:8080/"
    },
    "executionInfo": {
     "elapsed": 31,
     "status": "ok",
     "timestamp": 1680449324867,
     "user": {
      "displayName": "Dac Nguyen",
      "userId": "01275678335241040197"
     },
     "user_tz": -420
    },
    "id": "IPVi5S8gFTIz",
    "outputId": "856d9302-ed10-4429-c67a-dcfd1c4c7de4"
   },
   "outputs": [
    {
     "name": "stdout",
     "output_type": "stream",
     "text": [
      "Training:(41485, 6)\n",
      "Test:(17780, 6)\n"
     ]
    }
   ],
   "source": [
    "from sklearn.model_selection import train_test_split\n",
    "draw_train_X, draw_test_X ,trainY, testY = train_test_split(draw_data, y, train_size=0.70, random_state=2023)\n",
    "print('Training:' + str(trainX.shape))\n",
    "print('Test:' + str(testX.shape))"
   ]
  },
  {
   "cell_type": "code",
   "execution_count": 36,
   "id": "uAwfIYl2GJzv",
   "metadata": {
    "colab": {
     "base_uri": "https://localhost:8080/"
    },
    "executionInfo": {
     "elapsed": 9,
     "status": "ok",
     "timestamp": 1680449631080,
     "user": {
      "displayName": "Dac Nguyen",
      "userId": "01275678335241040197"
     },
     "user_tz": -420
    },
    "id": "uAwfIYl2GJzv",
    "outputId": "e6942d1e-e125-4d05-e2de-175aa8cfad0a"
   },
   "outputs": [
    {
     "name": "stdout",
     "output_type": "stream",
     "text": [
      "mean absolute error of linear model on train set  7777.425788090987\n",
      "mean absolute error of linear model (with poly transform) on train set  6871.498578188693\n"
     ]
    }
   ],
   "source": [
    "#model basic \n",
    "model = LinearRegression(fit_intercept=True)   \n",
    "model.fit(draw_train_X, trainY)\n",
    "pred = model.predict(draw_train_X)\n",
    "print(\"mean absolute error of linear model on train set \", mean_absolute_error(y_pred=pred, y_true=trainY) )\n",
    "\n",
    "#model polinomial \n",
    "poly_model = make_pipeline(PolynomialFeatures(2, include_bias=False), LinearRegression())\n",
    "poly_model.fit(draw_train_X, trainY)\n",
    "poly_pred = poly_model.predict(draw_train_X)\n",
    "print(\"mean absolute error of linear model (with poly transform) on train set \", mean_absolute_error(y_pred=poly_pred, y_true=trainY) )\n"
   ]
  },
  {
   "cell_type": "code",
   "execution_count": 37,
   "id": "JG-ffSV3E7xM",
   "metadata": {
    "colab": {
     "base_uri": "https://localhost:8080/",
     "height": 406
    },
    "executionInfo": {
     "elapsed": 2629,
     "status": "ok",
     "timestamp": 1680449637346,
     "user": {
      "displayName": "Dac Nguyen",
      "userId": "01275678335241040197"
     },
     "user_tz": -420
    },
    "id": "JG-ffSV3E7xM",
    "outputId": "d681c072-053a-4162-de6a-2d1a9214dd9e"
   },
   "outputs": [
    {
     "data": {
      "image/png": "[encoded data removed]",
      "text/plain": [
       "<Figure size 640x480 with 1 Axes>"
      ]
     },
     "metadata": {},
     "output_type": "display_data"
    }
   ],
   "source": [
    "import matplotlib.pyplot as plt\n",
    "\n",
    "plt.scatter(draw_train_X, trainY, color=\"g\")\n",
    "plt.plot(draw_train_X, pred, color=\"blue\", linewidth=3)\n",
    "plt.plot(draw_train_X, poly_pred, color=\"yellow\", linewidth=3)\n",
    "\n",
    "\n",
    "plt.xticks(())\n",
    "plt.yticks(())\n",
    "\n",
    "plt.show()"
   ]
  },
  {
   "cell_type": "markdown",
   "id": "lf7pQEBXs1o0",
   "metadata": {
    "id": "lf7pQEBXs1o0"
   },
   "source": [
    "#Exercise\n",
    "This is a dataset related to how much money a person can get from a mortgage on his or her home. This dataset includes the following features:\n",
    "* Gender: Gender of the borrower (including two values 'F' and 'M')\n",
    "* Age: Age of the customer applying for a loan (including positive integer values)\n",
    "* Income (USD): Customer's income in USD (value is a positive number)\n",
    "* Income Stability: The level of customer's income stability (including three values of Low and High)\n",
    "* Property Age: Life expectancy of the house in days (including positive integer values)\n",
    "* Property Location: Location of the house (including 'Rural', 'Urban', and 'Semi-Urban')\n",
    "* Property Price: The value of the house in USD (including positive real values)\n",
    "* Loan Sanction Amount (USD): Amount that customers can borrow in USD (target value)\n",
    "\n",
    "Based on practice sample #1, proceed:\n",
    "1. Read data\n",
    "2. Visualize some information of data\n",
    "3. Normalize Data to train linear regression model\n",
    "4. Train linear regression model and show the model's intercepts, coeficients\n",
    "5. Learn on sklearn how to use Ridge, Lasso, and ElasticNet compare the error of all 3 algorithms with Linear Regression (https://scikit-learn.org/stable/index.html)\n",
    "6. Let's try Polynomial of order 2 to compare the previous results. What will the result be if we choose the n order too high?\n",
    "\n",
    "\n",
    "**Submission Link**: https://forms.gle/WKCJUp7noHAKALNP9 (Submit your .ipynb file)"
   ]
  }
 ],
 "metadata": {
  "colab": {
   "provenance": [],
   "toc_visible": true
  },
  "kernelspec": {
   "display_name": "Python 3 (ipykernel)",
   "language": "python",
   "name": "python3"
  },
  "language_info": {
   "codemirror_mode": {
    "name": "ipython",
    "version": 3
   },
   "file_extension": ".py",
   "mimetype": "text/x-python",
   "name": "python",
   "nbconvert_exporter": "python",
   "pygments_lexer": "ipython3",
   "version": "3.7.15"
  }
 },
 "nbformat": 4,
 "nbformat_minor": 5
}
