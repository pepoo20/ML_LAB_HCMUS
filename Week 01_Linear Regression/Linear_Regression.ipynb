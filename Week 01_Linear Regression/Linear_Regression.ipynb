{
 "cells": [
  {
   "cell_type": "markdown",
   "metadata": {
    "id": "ae78e63c"
   },
   "source": [
    "#Exercise\n",
    "This is a dataset related to how much money a person can get from a mortgage on his or her home. This dataset includes the following features:\n",
    "* Gender: Gender of the borrower (including two values 'F' and 'M')\n",
    "* Age: Age of the customer applying for a loan (including positive integer values)\n",
    "* Income (USD): Customer's income in USD (value is a positive number)\n",
    "* Income Stability: The level of customer's income stability (including three values of Low and High)\n",
    "* Property Age: Life expectancy of the house in days (including positive integer values)\n",
    "* Property Location: Location of the house (including 'Rural', 'Urban', and 'Semi-Urban')\n",
    "* Property Price: The value of the house in USD (including positive real values)\n",
    "* Loan Sanction Amount (USD): Amount that customers can borrow in USD (target value)\n",
    "\n",
    "Based on practice sample #1, proceed:\n",
    "1. Read data\n",
    "2. Visualize some information of data\n",
    "3. Normalize Data to train linear regression model\n",
    "4. Train linear regression model and show the model's intercepts, coeficients\n",
    "5. Learn on sklearn how to use Ridge, Lasso, and ElasticNet compare the error of all 3 algorithms with Linear Regression (https://scikit-learn.org/stable/index.html)\n",
    "6. Let's try Polynomial of order 2 to compare the previous results. What will the result be if we choose the n order too high?\n",
    "\n",
    "\n",
    "**Submission Link**: https://forms.gle/WKCJUp7noHAKALNP9 (Submit your .ipynb file)"
   ]
  },
  {
   "cell_type": "code",
   "execution_count": 1,
   "metadata": {
    "id": "mYV5QYEaZD5N"
   },
   "outputs": [],
   "source": [
    "# mount data from google drive to colab\n",
    "#from google.colab import drive\n",
    "#drive.mount('/content/drive')\n",
    "\n",
    "#import library\n",
    "import pandas as pd # pandas \n",
    "import numpy as np # numpy\n",
    "import time\n",
    "import matplotlib.pyplot as plt\n"
   ]
  },
  {
   "cell_type": "markdown",
   "metadata": {
    "id": "DWey3cHTb43g"
   },
   "source": [
    "# Prepare and Analyze Data\n",
    "\n",
    "1. Load Dataset\n",
    "2. Analyze Dataset\n",
    "3. Preprocess data (type, null, missing, ...)\n",
    "4. Feature Engineering"
   ]
  },
  {
   "cell_type": "markdown",
   "metadata": {
    "id": "5QJmB36JjdyC"
   },
   "source": [
    "## Load Dataset"
   ]
  },
  {
   "cell_type": "code",
   "execution_count": 2,
   "metadata": {
    "id": "b6967e88"
   },
   "outputs": [],
   "source": [
    "# read data using Pandas DataFrame\n",
    "def read_dataset(path):\n",
    "    # Todo: read_csv from a path and return a DataFrame\n",
    "    df = pd.read_csv(path)\n",
    "    display(df.head())\n",
    "    display(df.describe())\n",
    "    return df"
   ]
  },
  {
   "cell_type": "code",
   "execution_count": 3,
   "metadata": {
    "id": "bRSvpuUCfpDr"
   },
   "outputs": [
    {
     "data": {
      "text/html": [
       "<div>\n",
       "<style scoped>\n",
       "    .dataframe tbody tr th:only-of-type {\n",
       "        vertical-align: middle;\n",
       "    }\n",
       "\n",
       "    .dataframe tbody tr th {\n",
       "        vertical-align: top;\n",
       "    }\n",
       "\n",
       "    .dataframe thead th {\n",
       "        text-align: right;\n",
       "    }\n",
       "</style>\n",
       "<table border=\"1\" class=\"dataframe\">\n",
       "  <thead>\n",
       "    <tr style=\"text-align: right;\">\n",
       "      <th></th>\n",
       "      <th>Gender</th>\n",
       "      <th>Age</th>\n",
       "      <th>Income (USD)</th>\n",
       "      <th>Income Stability</th>\n",
       "      <th>Property Age</th>\n",
       "      <th>Property Location</th>\n",
       "      <th>Property Price</th>\n",
       "      <th>Loan Sanction Amount (USD)</th>\n",
       "    </tr>\n",
       "  </thead>\n",
       "  <tbody>\n",
       "    <tr>\n",
       "      <th>0</th>\n",
       "      <td>F</td>\n",
       "      <td>19</td>\n",
       "      <td>1641.25</td>\n",
       "      <td>Low</td>\n",
       "      <td>1651.25</td>\n",
       "      <td>Rural</td>\n",
       "      <td>59641.82</td>\n",
       "      <td>21026.420753</td>\n",
       "    </tr>\n",
       "    <tr>\n",
       "      <th>1</th>\n",
       "      <td>M</td>\n",
       "      <td>29</td>\n",
       "      <td>1989.71</td>\n",
       "      <td>Low</td>\n",
       "      <td>1990.71</td>\n",
       "      <td>Urban</td>\n",
       "      <td>179858.51</td>\n",
       "      <td>60595.183366</td>\n",
       "    </tr>\n",
       "    <tr>\n",
       "      <th>2</th>\n",
       "      <td>F</td>\n",
       "      <td>37</td>\n",
       "      <td>1849.91</td>\n",
       "      <td>Low</td>\n",
       "      <td>1856.91</td>\n",
       "      <td>Rural</td>\n",
       "      <td>117297.62</td>\n",
       "      <td>39181.648002</td>\n",
       "    </tr>\n",
       "    <tr>\n",
       "      <th>3</th>\n",
       "      <td>M</td>\n",
       "      <td>65</td>\n",
       "      <td>2735.18</td>\n",
       "      <td>High</td>\n",
       "      <td>2747.18</td>\n",
       "      <td>Rural</td>\n",
       "      <td>354417.72</td>\n",
       "      <td>128497.710865</td>\n",
       "    </tr>\n",
       "    <tr>\n",
       "      <th>4</th>\n",
       "      <td>F</td>\n",
       "      <td>62</td>\n",
       "      <td>4741.78</td>\n",
       "      <td>High</td>\n",
       "      <td>4740.78</td>\n",
       "      <td>Urban</td>\n",
       "      <td>82049.80</td>\n",
       "      <td>39386.919336</td>\n",
       "    </tr>\n",
       "  </tbody>\n",
       "</table>\n",
       "</div>"
      ],
      "text/plain": [
       "  Gender  Age  Income (USD) Income Stability  Property Age Property Location  \\\n",
       "0      F   19       1641.25              Low       1651.25             Rural   \n",
       "1      M   29       1989.71              Low       1990.71             Urban   \n",
       "2      F   37       1849.91              Low       1856.91             Rural   \n",
       "3      M   65       2735.18             High       2747.18             Rural   \n",
       "4      F   62       4741.78             High       4740.78             Urban   \n",
       "\n",
       "   Property Price  Loan Sanction Amount (USD)  \n",
       "0        59641.82                21026.420753  \n",
       "1       179858.51                60595.183366  \n",
       "2       117297.62                39181.648002  \n",
       "3       354417.72               128497.710865  \n",
       "4        82049.80                39386.919336  "
      ]
     },
     "metadata": {},
     "output_type": "display_data"
    },
    {
     "data": {
      "text/html": [
       "<div>\n",
       "<style scoped>\n",
       "    .dataframe tbody tr th:only-of-type {\n",
       "        vertical-align: middle;\n",
       "    }\n",
       "\n",
       "    .dataframe tbody tr th {\n",
       "        vertical-align: top;\n",
       "    }\n",
       "\n",
       "    .dataframe thead th {\n",
       "        text-align: right;\n",
       "    }\n",
       "</style>\n",
       "<table border=\"1\" class=\"dataframe\">\n",
       "  <thead>\n",
       "    <tr style=\"text-align: right;\">\n",
       "      <th></th>\n",
       "      <th>Age</th>\n",
       "      <th>Income (USD)</th>\n",
       "      <th>Property Age</th>\n",
       "      <th>Property Price</th>\n",
       "      <th>Loan Sanction Amount (USD)</th>\n",
       "    </tr>\n",
       "  </thead>\n",
       "  <tbody>\n",
       "    <tr>\n",
       "      <th>count</th>\n",
       "      <td>47297.000000</td>\n",
       "      <td>47265.000000</td>\n",
       "      <td>47263.000000</td>\n",
       "      <td>4.729700e+04</td>\n",
       "      <td>47297.000000</td>\n",
       "    </tr>\n",
       "    <tr>\n",
       "      <th>mean</th>\n",
       "      <td>40.000063</td>\n",
       "      <td>2586.684384</td>\n",
       "      <td>2586.611058</td>\n",
       "      <td>1.350880e+05</td>\n",
       "      <td>46487.229765</td>\n",
       "    </tr>\n",
       "    <tr>\n",
       "      <th>std</th>\n",
       "      <td>16.086128</td>\n",
       "      <td>1558.768809</td>\n",
       "      <td>1558.842286</td>\n",
       "      <td>9.457875e+04</td>\n",
       "      <td>32549.905634</td>\n",
       "    </tr>\n",
       "    <tr>\n",
       "      <th>min</th>\n",
       "      <td>18.000000</td>\n",
       "      <td>372.700000</td>\n",
       "      <td>370.700000</td>\n",
       "      <td>7.859620e+03</td>\n",
       "      <td>254.586578</td>\n",
       "    </tr>\n",
       "    <tr>\n",
       "      <th>25%</th>\n",
       "      <td>24.000000</td>\n",
       "      <td>1653.740000</td>\n",
       "      <td>1652.820000</td>\n",
       "      <td>6.250408e+04</td>\n",
       "      <td>21782.822159</td>\n",
       "    </tr>\n",
       "    <tr>\n",
       "      <th>50%</th>\n",
       "      <td>40.000000</td>\n",
       "      <td>2245.480000</td>\n",
       "      <td>2244.810000</td>\n",
       "      <td>1.130936e+05</td>\n",
       "      <td>38822.132402</td>\n",
       "    </tr>\n",
       "    <tr>\n",
       "      <th>75%</th>\n",
       "      <td>55.000000</td>\n",
       "      <td>3128.560000</td>\n",
       "      <td>3128.380000</td>\n",
       "      <td>1.819546e+05</td>\n",
       "      <td>62612.236905</td>\n",
       "    </tr>\n",
       "    <tr>\n",
       "      <th>max</th>\n",
       "      <td>65.000000</td>\n",
       "      <td>54662.750000</td>\n",
       "      <td>54647.750000</td>\n",
       "      <td>1.077967e+06</td>\n",
       "      <td>366131.165218</td>\n",
       "    </tr>\n",
       "  </tbody>\n",
       "</table>\n",
       "</div>"
      ],
      "text/plain": [
       "                Age  Income (USD)  Property Age  Property Price  \\\n",
       "count  47297.000000  47265.000000  47263.000000    4.729700e+04   \n",
       "mean      40.000063   2586.684384   2586.611058    1.350880e+05   \n",
       "std       16.086128   1558.768809   1558.842286    9.457875e+04   \n",
       "min       18.000000    372.700000    370.700000    7.859620e+03   \n",
       "25%       24.000000   1653.740000   1652.820000    6.250408e+04   \n",
       "50%       40.000000   2245.480000   2244.810000    1.130936e+05   \n",
       "75%       55.000000   3128.560000   3128.380000    1.819546e+05   \n",
       "max       65.000000  54662.750000  54647.750000    1.077967e+06   \n",
       "\n",
       "       Loan Sanction Amount (USD)  \n",
       "count                47297.000000  \n",
       "mean                 46487.229765  \n",
       "std                  32549.905634  \n",
       "min                    254.586578  \n",
       "25%                  21782.822159  \n",
       "50%                  38822.132402  \n",
       "75%                  62612.236905  \n",
       "max                 366131.165218  "
      ]
     },
     "metadata": {},
     "output_type": "display_data"
    }
   ],
   "source": [
    "path = \"C:\\\\Users\\\\Phu\\\\OneDrive - VNU-HCMUS\\\\TH_ML\\\\Week 01\\\\final_house_loan.csv\" # Path to your file\n",
    "\n",
    "df = read_dataset(path)\n",
    "#ToDo: Show histogram of dataframe"
   ]
  },
  {
   "cell_type": "markdown",
   "metadata": {
    "id": "kLqfm42rjgO2"
   },
   "source": [
    "## Data Analysis"
   ]
  },
  {
   "cell_type": "code",
   "execution_count": 4,
   "metadata": {
    "id": "OZFahON289oe"
   },
   "outputs": [],
   "source": [
    "# Data analysis\n",
    "# Todo: analyze your data here"
   ]
  },
  {
   "cell_type": "code",
   "execution_count": 5,
   "metadata": {},
   "outputs": [
    {
     "name": "stdout",
     "output_type": "stream",
     "text": [
      "<class 'pandas.core.frame.DataFrame'>\n",
      "RangeIndex: 47297 entries, 0 to 47296\n",
      "Data columns (total 8 columns):\n",
      " #   Column                      Non-Null Count  Dtype  \n",
      "---  ------                      --------------  -----  \n",
      " 0   Gender                      47297 non-null  object \n",
      " 1   Age                         47297 non-null  int64  \n",
      " 2   Income (USD)                47265 non-null  float64\n",
      " 3   Income Stability            47285 non-null  object \n",
      " 4   Property Age                47263 non-null  float64\n",
      " 5   Property Location           47294 non-null  object \n",
      " 6   Property Price              47297 non-null  float64\n",
      " 7   Loan Sanction Amount (USD)  47297 non-null  float64\n",
      "dtypes: float64(4), int64(1), object(3)\n",
      "memory usage: 2.9+ MB\n",
      "None\n"
     ]
    }
   ],
   "source": [
    "print(df.info())\n"
   ]
  },
  {
   "cell_type": "code",
   "execution_count": 6,
   "metadata": {},
   "outputs": [
    {
     "name": "stdout",
     "output_type": "stream",
     "text": [
      "                Age  Income (USD)  Property Age  Property Price  \\\n",
      "count  47297.000000  47265.000000  47263.000000    4.729700e+04   \n",
      "mean      40.000063   2586.684384   2586.611058    1.350880e+05   \n",
      "std       16.086128   1558.768809   1558.842286    9.457875e+04   \n",
      "min       18.000000    372.700000    370.700000    7.859620e+03   \n",
      "25%       24.000000   1653.740000   1652.820000    6.250408e+04   \n",
      "50%       40.000000   2245.480000   2244.810000    1.130936e+05   \n",
      "75%       55.000000   3128.560000   3128.380000    1.819546e+05   \n",
      "max       65.000000  54662.750000  54647.750000    1.077967e+06   \n",
      "\n",
      "       Loan Sanction Amount (USD)  \n",
      "count                47297.000000  \n",
      "mean                 46487.229765  \n",
      "std                  32549.905634  \n",
      "min                    254.586578  \n",
      "25%                  21782.822159  \n",
      "50%                  38822.132402  \n",
      "75%                  62612.236905  \n",
      "max                 366131.165218  \n"
     ]
    }
   ],
   "source": [
    "print(df.describe())\n"
   ]
  },
  {
   "cell_type": "markdown",
   "metadata": {},
   "source": [
    "### Plot histograms of the numerical features to see their distribution:\n"
   ]
  },
  {
   "cell_type": "code",
   "execution_count": 7,
   "metadata": {},
   "outputs": [
    {
     "data": {
      "image/png": "[encoded data removed]",
      "text/plain": [
       "<Figure size 2000x1500 with 6 Axes>"
      ]
     },
     "metadata": {},
     "output_type": "display_data"
    }
   ],
   "source": [
    "df.hist(bins=10, figsize=(20,15))\n",
    "plt.show()\n"
   ]
  },
  {
   "cell_type": "markdown",
   "metadata": {},
   "source": [
    "Create a correlation matrix to see the linear relationship between numerical features:\n"
   ]
  },
  {
   "cell_type": "code",
   "execution_count": 8,
   "metadata": {},
   "outputs": [
    {
     "name": "stdout",
     "output_type": "stream",
     "text": [
      "                                 Age  Income (USD)  Property Age  \\\n",
      "Age                         1.000000     -0.044058     -0.044025   \n",
      "Income (USD)               -0.044058      1.000000      0.999986   \n",
      "Property Age               -0.044025      0.999986      1.000000   \n",
      "Property Price             -0.003330      0.358041      0.358025   \n",
      "Loan Sanction Amount (USD) -0.000319      0.392827      0.392806   \n",
      "\n",
      "                            Property Price  Loan Sanction Amount (USD)  \n",
      "Age                              -0.003330                   -0.000319  \n",
      "Income (USD)                      0.358041                    0.392827  \n",
      "Property Age                      0.358025                    0.392806  \n",
      "Property Price                    1.000000                    0.994240  \n",
      "Loan Sanction Amount (USD)        0.994240                    1.000000  \n"
     ]
    }
   ],
   "source": [
    "corr_matrix = df.corr()\n",
    "print(corr_matrix)\n"
   ]
  },
  {
   "cell_type": "markdown",
   "metadata": {},
   "source": [
    "### Visualize the correlation matrix as a heatmap:\n"
   ]
  },
  {
   "cell_type": "code",
   "execution_count": 9,
   "metadata": {},
   "outputs": [
    {
     "data": {
      "image/png": "[encoded data removed]",
      "text/plain": [
       "<Figure size 640x480 with 2 Axes>"
      ]
     },
     "metadata": {},
     "output_type": "display_data"
    }
   ],
   "source": [
    "import seaborn as sns\n",
    "sns.heatmap(corr_matrix, annot=True, cmap='coolwarm')\n",
    "plt.show()\n"
   ]
  },
  {
   "cell_type": "markdown",
   "metadata": {
    "id": "FWQ3y3T2f32N"
   },
   "source": [
    "## Preprocessing (Remove null or duplicated)"
   ]
  },
  {
   "cell_type": "code",
   "execution_count": 10,
   "metadata": {
    "id": "6f647dba"
   },
   "outputs": [],
   "source": [
    "def preprocessing_data(df):\n",
    "    # --- (Optional) Drop null datapoints or fill missing data\n",
    "    # Keep your data the same if you dont want to customize it\n",
    "    if df.isnull().values.any():\n",
    "        df = df.dropna() # Drop null values\n",
    "    if df.duplicated().values.any():\n",
    "        df = df.drop_duplicates() # Drop duplicated rows    \n",
    "    df = df\n",
    "    return df"
   ]
  },
  {
   "cell_type": "code",
   "execution_count": 11,
   "metadata": {
    "id": "9KKiP3yd3m8t"
   },
   "outputs": [],
   "source": [
    "df = preprocessing_data(df.copy())"
   ]
  },
  {
   "cell_type": "markdown",
   "metadata": {
    "id": "hEu9oydOjZem"
   },
   "source": [
    "## Feature Engineering"
   ]
  },
  {
   "cell_type": "code",
   "execution_count": 12,
   "metadata": {},
   "outputs": [
    {
     "name": "stdout",
     "output_type": "stream",
     "text": [
      "Gender                         object\n",
      "Age                             int64\n",
      "Income (USD)                  float64\n",
      "Income Stability               object\n",
      "Property Age                  float64\n",
      "Property Location              object\n",
      "Property Price                float64\n",
      "Loan Sanction Amount (USD)    float64\n",
      "dtype: object\n"
     ]
    }
   ],
   "source": [
    "print(df.dtypes)\n"
   ]
  },
  {
   "cell_type": "code",
   "execution_count": 13,
   "metadata": {},
   "outputs": [
    {
     "name": "stdout",
     "output_type": "stream",
     "text": [
      "Unique values of Gender: ['F' 'M']\n",
      "Unique values of Income Stability: ['Low' 'High']\n",
      "Unique values of Property Location: ['Rural' 'Urban' 'Semi-Urban']\n"
     ]
    }
   ],
   "source": [
    "object_cols = df.select_dtypes(include='object').columns\n",
    "# object = categorical for some time\n",
    "#print(df.dtypes)\n",
    "\n",
    "for col in object_cols:\n",
    "    unique_values = df[col].unique()\n",
    "    print(f\"Unique values of {col}: {unique_values}\")"
   ]
  },
  {
   "cell_type": "code",
   "execution_count": 14,
   "metadata": {
    "id": "ee4UO0d_2-ED"
   },
   "outputs": [],
   "source": [
    "def normalize_data(df):\n",
    "    # ---- Method 3\n",
    "    start_time = time.time()\n",
    "    # data normalization\n",
    "    normalized_data = df.copy()\n",
    "    normalized_data[\"Gender\"] = normalized_data[\"Gender\"].astype(\"category\").cat.codes\n",
    "    normalized_data[\"Income Stability\"] = normalized_data[\"Income Stability\"].astype(\"category\").cat.codes\n",
    "    normalized_data[\"Property Location\"] = normalized_data[\"Property Location\"].astype(\"category\").cat.codes\n",
    "\n",
    "    display(normalized_data.head())\n",
    "    display(normalized_data.corr())\n",
    "    print(\"Running time\", time.time() - start_time)\n",
    "    return normalized_data\n"
   ]
  },
  {
   "cell_type": "code",
   "execution_count": 15,
   "metadata": {
    "id": "AmepvqLbknvO"
   },
   "outputs": [
    {
     "data": {
      "text/html": [
       "<div>\n",
       "<style scoped>\n",
       "    .dataframe tbody tr th:only-of-type {\n",
       "        vertical-align: middle;\n",
       "    }\n",
       "\n",
       "    .dataframe tbody tr th {\n",
       "        vertical-align: top;\n",
       "    }\n",
       "\n",
       "    .dataframe thead th {\n",
       "        text-align: right;\n",
       "    }\n",
       "</style>\n",
       "<table border=\"1\" class=\"dataframe\">\n",
       "  <thead>\n",
       "    <tr style=\"text-align: right;\">\n",
       "      <th></th>\n",
       "      <th>Gender</th>\n",
       "      <th>Age</th>\n",
       "      <th>Income (USD)</th>\n",
       "      <th>Income Stability</th>\n",
       "      <th>Property Age</th>\n",
       "      <th>Property Location</th>\n",
       "      <th>Property Price</th>\n",
       "      <th>Loan Sanction Amount (USD)</th>\n",
       "    </tr>\n",
       "  </thead>\n",
       "  <tbody>\n",
       "    <tr>\n",
       "      <th>0</th>\n",
       "      <td>0</td>\n",
       "      <td>19</td>\n",
       "      <td>1641.25</td>\n",
       "      <td>1</td>\n",
       "      <td>1651.25</td>\n",
       "      <td>0</td>\n",
       "      <td>59641.82</td>\n",
       "      <td>21026.420753</td>\n",
       "    </tr>\n",
       "    <tr>\n",
       "      <th>1</th>\n",
       "      <td>1</td>\n",
       "      <td>29</td>\n",
       "      <td>1989.71</td>\n",
       "      <td>1</td>\n",
       "      <td>1990.71</td>\n",
       "      <td>2</td>\n",
       "      <td>179858.51</td>\n",
       "      <td>60595.183366</td>\n",
       "    </tr>\n",
       "    <tr>\n",
       "      <th>2</th>\n",
       "      <td>0</td>\n",
       "      <td>37</td>\n",
       "      <td>1849.91</td>\n",
       "      <td>1</td>\n",
       "      <td>1856.91</td>\n",
       "      <td>0</td>\n",
       "      <td>117297.62</td>\n",
       "      <td>39181.648002</td>\n",
       "    </tr>\n",
       "    <tr>\n",
       "      <th>3</th>\n",
       "      <td>1</td>\n",
       "      <td>65</td>\n",
       "      <td>2735.18</td>\n",
       "      <td>0</td>\n",
       "      <td>2747.18</td>\n",
       "      <td>0</td>\n",
       "      <td>354417.72</td>\n",
       "      <td>128497.710865</td>\n",
       "    </tr>\n",
       "    <tr>\n",
       "      <th>4</th>\n",
       "      <td>0</td>\n",
       "      <td>62</td>\n",
       "      <td>4741.78</td>\n",
       "      <td>0</td>\n",
       "      <td>4740.78</td>\n",
       "      <td>2</td>\n",
       "      <td>82049.80</td>\n",
       "      <td>39386.919336</td>\n",
       "    </tr>\n",
       "  </tbody>\n",
       "</table>\n",
       "</div>"
      ],
      "text/plain": [
       "   Gender  Age  Income (USD)  Income Stability  Property Age  \\\n",
       "0       0   19       1641.25                 1       1651.25   \n",
       "1       1   29       1989.71                 1       1990.71   \n",
       "2       0   37       1849.91                 1       1856.91   \n",
       "3       1   65       2735.18                 0       2747.18   \n",
       "4       0   62       4741.78                 0       4740.78   \n",
       "\n",
       "   Property Location  Property Price  Loan Sanction Amount (USD)  \n",
       "0                  0        59641.82                21026.420753  \n",
       "1                  2       179858.51                60595.183366  \n",
       "2                  0       117297.62                39181.648002  \n",
       "3                  0       354417.72               128497.710865  \n",
       "4                  2        82049.80                39386.919336  "
      ]
     },
     "metadata": {},
     "output_type": "display_data"
    },
    {
     "data": {
      "text/html": [
       "<div>\n",
       "<style scoped>\n",
       "    .dataframe tbody tr th:only-of-type {\n",
       "        vertical-align: middle;\n",
       "    }\n",
       "\n",
       "    .dataframe tbody tr th {\n",
       "        vertical-align: top;\n",
       "    }\n",
       "\n",
       "    .dataframe thead th {\n",
       "        text-align: right;\n",
       "    }\n",
       "</style>\n",
       "<table border=\"1\" class=\"dataframe\">\n",
       "  <thead>\n",
       "    <tr style=\"text-align: right;\">\n",
       "      <th></th>\n",
       "      <th>Gender</th>\n",
       "      <th>Age</th>\n",
       "      <th>Income (USD)</th>\n",
       "      <th>Income Stability</th>\n",
       "      <th>Property Age</th>\n",
       "      <th>Property Location</th>\n",
       "      <th>Property Price</th>\n",
       "      <th>Loan Sanction Amount (USD)</th>\n",
       "    </tr>\n",
       "  </thead>\n",
       "  <tbody>\n",
       "    <tr>\n",
       "      <th>Gender</th>\n",
       "      <td>1.000000</td>\n",
       "      <td>0.007706</td>\n",
       "      <td>-0.002445</td>\n",
       "      <td>-0.019000</td>\n",
       "      <td>-0.002512</td>\n",
       "      <td>0.009142</td>\n",
       "      <td>0.005931</td>\n",
       "      <td>0.003396</td>\n",
       "    </tr>\n",
       "    <tr>\n",
       "      <th>Age</th>\n",
       "      <td>0.007706</td>\n",
       "      <td>1.000000</td>\n",
       "      <td>-0.044086</td>\n",
       "      <td>-0.455855</td>\n",
       "      <td>-0.044085</td>\n",
       "      <td>-0.007770</td>\n",
       "      <td>-0.003274</td>\n",
       "      <td>-0.000115</td>\n",
       "    </tr>\n",
       "    <tr>\n",
       "      <th>Income (USD)</th>\n",
       "      <td>-0.002445</td>\n",
       "      <td>-0.044086</td>\n",
       "      <td>1.000000</td>\n",
       "      <td>0.080961</td>\n",
       "      <td>0.999986</td>\n",
       "      <td>-0.000199</td>\n",
       "      <td>0.358110</td>\n",
       "      <td>0.392897</td>\n",
       "    </tr>\n",
       "    <tr>\n",
       "      <th>Income Stability</th>\n",
       "      <td>-0.019000</td>\n",
       "      <td>-0.455855</td>\n",
       "      <td>0.080961</td>\n",
       "      <td>1.000000</td>\n",
       "      <td>0.081008</td>\n",
       "      <td>-0.001959</td>\n",
       "      <td>0.004813</td>\n",
       "      <td>-0.070969</td>\n",
       "    </tr>\n",
       "    <tr>\n",
       "      <th>Property Age</th>\n",
       "      <td>-0.002512</td>\n",
       "      <td>-0.044085</td>\n",
       "      <td>0.999986</td>\n",
       "      <td>0.081008</td>\n",
       "      <td>1.000000</td>\n",
       "      <td>-0.000233</td>\n",
       "      <td>0.358110</td>\n",
       "      <td>0.392892</td>\n",
       "    </tr>\n",
       "    <tr>\n",
       "      <th>Property Location</th>\n",
       "      <td>0.009142</td>\n",
       "      <td>-0.007770</td>\n",
       "      <td>-0.000199</td>\n",
       "      <td>-0.001959</td>\n",
       "      <td>-0.000233</td>\n",
       "      <td>1.000000</td>\n",
       "      <td>-0.000898</td>\n",
       "      <td>-0.001988</td>\n",
       "    </tr>\n",
       "    <tr>\n",
       "      <th>Property Price</th>\n",
       "      <td>0.005931</td>\n",
       "      <td>-0.003274</td>\n",
       "      <td>0.358110</td>\n",
       "      <td>0.004813</td>\n",
       "      <td>0.358110</td>\n",
       "      <td>-0.000898</td>\n",
       "      <td>1.000000</td>\n",
       "      <td>0.994429</td>\n",
       "    </tr>\n",
       "    <tr>\n",
       "      <th>Loan Sanction Amount (USD)</th>\n",
       "      <td>0.003396</td>\n",
       "      <td>-0.000115</td>\n",
       "      <td>0.392897</td>\n",
       "      <td>-0.070969</td>\n",
       "      <td>0.392892</td>\n",
       "      <td>-0.001988</td>\n",
       "      <td>0.994429</td>\n",
       "      <td>1.000000</td>\n",
       "    </tr>\n",
       "  </tbody>\n",
       "</table>\n",
       "</div>"
      ],
      "text/plain": [
       "                              Gender       Age  Income (USD)  \\\n",
       "Gender                      1.000000  0.007706     -0.002445   \n",
       "Age                         0.007706  1.000000     -0.044086   \n",
       "Income (USD)               -0.002445 -0.044086      1.000000   \n",
       "Income Stability           -0.019000 -0.455855      0.080961   \n",
       "Property Age               -0.002512 -0.044085      0.999986   \n",
       "Property Location           0.009142 -0.007770     -0.000199   \n",
       "Property Price              0.005931 -0.003274      0.358110   \n",
       "Loan Sanction Amount (USD)  0.003396 -0.000115      0.392897   \n",
       "\n",
       "                            Income Stability  Property Age  Property Location  \\\n",
       "Gender                             -0.019000     -0.002512           0.009142   \n",
       "Age                                -0.455855     -0.044085          -0.007770   \n",
       "Income (USD)                        0.080961      0.999986          -0.000199   \n",
       "Income Stability                    1.000000      0.081008          -0.001959   \n",
       "Property Age                        0.081008      1.000000          -0.000233   \n",
       "Property Location                  -0.001959     -0.000233           1.000000   \n",
       "Property Price                      0.004813      0.358110          -0.000898   \n",
       "Loan Sanction Amount (USD)         -0.070969      0.392892          -0.001988   \n",
       "\n",
       "                            Property Price  Loan Sanction Amount (USD)  \n",
       "Gender                            0.005931                    0.003396  \n",
       "Age                              -0.003274                   -0.000115  \n",
       "Income (USD)                      0.358110                    0.392897  \n",
       "Income Stability                  0.004813                   -0.070969  \n",
       "Property Age                      0.358110                    0.392892  \n",
       "Property Location                -0.000898                   -0.001988  \n",
       "Property Price                    1.000000                    0.994429  \n",
       "Loan Sanction Amount (USD)        0.994429                    1.000000  "
      ]
     },
     "metadata": {},
     "output_type": "display_data"
    },
    {
     "name": "stdout",
     "output_type": "stream",
     "text": [
      "Running time 0.021925926208496094\n"
     ]
    },
    {
     "data": {
      "text/plain": [
       "<AxesSubplot:>"
      ]
     },
     "execution_count": 15,
     "metadata": {},
     "output_type": "execute_result"
    },
    {
     "data": {
      "image/png": "[encoded data removed]",
      "text/plain": [
       "<Figure size 640x480 with 2 Axes>"
      ]
     },
     "metadata": {},
     "output_type": "display_data"
    }
   ],
   "source": [
    "# Heatmap\n",
    "import seaborn as sns\n",
    "\n",
    "normalized_data = normalize_data(df.copy())\n",
    "sns.heatmap(normalized_data.corr())"
   ]
  },
  {
   "cell_type": "markdown",
   "metadata": {
    "id": "fzgR-i-gE1hc"
   },
   "source": [
    "# Apply machine learning model"
   ]
  },
  {
   "cell_type": "markdown",
   "metadata": {
    "id": "ppt3beFBjnID"
   },
   "source": [
    "## Train-test split"
   ]
  },
  {
   "cell_type": "code",
   "execution_count": 16,
   "metadata": {
    "id": "dodR58Ha3wgf"
   },
   "outputs": [],
   "source": [
    "from sklearn.model_selection import train_test_split\n",
    "from sklearn.metrics import mean_absolute_error"
   ]
  },
  {
   "cell_type": "code",
   "execution_count": 17,
   "metadata": {},
   "outputs": [
    {
     "data": {
      "text/plain": [
       "0         21026.420753\n",
       "1         60595.183366\n",
       "2         39181.648002\n",
       "3        128497.710865\n",
       "4         39386.919336\n",
       "             ...      \n",
       "47292     78800.491330\n",
       "47293     72483.293359\n",
       "47294     52462.861498\n",
       "47295     22909.596763\n",
       "47296      5941.989388\n",
       "Name: Loan Sanction Amount (USD), Length: 47251, dtype: float64"
      ]
     },
     "execution_count": 17,
     "metadata": {},
     "output_type": "execute_result"
    }
   ],
   "source": [
    "df[\"Loan Sanction Amount (USD)\"]"
   ]
  },
  {
   "cell_type": "code",
   "execution_count": 18,
   "metadata": {
    "id": "mBo9kxbmSZiF"
   },
   "outputs": [],
   "source": [
    "from sklearn.preprocessing import MinMaxScaler, StandardScaler\n",
    "def prepare_X_y(df):\n",
    "    # Split data into X and y. Return two dataframes\n",
    "    columns = df.columns.tolist()     # Columns name\n",
    "    columns.remove('Loan Sanction Amount (USD)')           # Remove y label (column charges in this case)\n",
    "    X = df[columns]# Todo: Select features\n",
    "    y = df[\"Loan Sanction Amount (USD)\"]# Todo: Select label\n",
    "    return X, y\n",
    "\n",
    "X, y = prepare_X_y(normalized_data)\n"
   ]
  },
  {
   "cell_type": "markdown",
   "metadata": {},
   "source": [
    "### Scale data về khoảng 0-1 với MinMaxScale vì các feature numerical có range khá cao \n",
    "Không scale theo standardization vì các giá trị 0 trong các feature này vẫn có ý nghĩa riêng"
   ]
  },
  {
   "cell_type": "code",
   "execution_count": 19,
   "metadata": {},
   "outputs": [
    {
     "data": {
      "text/html": [
       "<div>\n",
       "<style scoped>\n",
       "    .dataframe tbody tr th:only-of-type {\n",
       "        vertical-align: middle;\n",
       "    }\n",
       "\n",
       "    .dataframe tbody tr th {\n",
       "        vertical-align: top;\n",
       "    }\n",
       "\n",
       "    .dataframe thead th {\n",
       "        text-align: right;\n",
       "    }\n",
       "</style>\n",
       "<table border=\"1\" class=\"dataframe\">\n",
       "  <thead>\n",
       "    <tr style=\"text-align: right;\">\n",
       "      <th></th>\n",
       "      <th>Gender</th>\n",
       "      <th>Age</th>\n",
       "      <th>Income (USD)</th>\n",
       "      <th>Income Stability</th>\n",
       "      <th>Property Age</th>\n",
       "      <th>Property Location</th>\n",
       "      <th>Property Price</th>\n",
       "      <th>Loan Sanction Amount (USD)</th>\n",
       "    </tr>\n",
       "  </thead>\n",
       "  <tbody>\n",
       "    <tr>\n",
       "      <th>count</th>\n",
       "      <td>47251.000000</td>\n",
       "      <td>47251.000000</td>\n",
       "      <td>47251.000000</td>\n",
       "      <td>47251.000000</td>\n",
       "      <td>47251.000000</td>\n",
       "      <td>47251.000000</td>\n",
       "      <td>4.725100e+04</td>\n",
       "      <td>47251.000000</td>\n",
       "    </tr>\n",
       "    <tr>\n",
       "      <th>mean</th>\n",
       "      <td>0.499566</td>\n",
       "      <td>40.005185</td>\n",
       "      <td>2586.498103</td>\n",
       "      <td>0.910986</td>\n",
       "      <td>2586.467247</td>\n",
       "      <td>0.979006</td>\n",
       "      <td>1.350981e+05</td>\n",
       "      <td>46474.467952</td>\n",
       "    </tr>\n",
       "    <tr>\n",
       "      <th>std</th>\n",
       "      <td>0.500005</td>\n",
       "      <td>16.086562</td>\n",
       "      <td>1557.676706</td>\n",
       "      <td>0.284767</td>\n",
       "      <td>1557.737980</td>\n",
       "      <td>0.808280</td>\n",
       "      <td>9.459404e+04</td>\n",
       "      <td>32545.590334</td>\n",
       "    </tr>\n",
       "    <tr>\n",
       "      <th>min</th>\n",
       "      <td>0.000000</td>\n",
       "      <td>18.000000</td>\n",
       "      <td>372.700000</td>\n",
       "      <td>0.000000</td>\n",
       "      <td>370.700000</td>\n",
       "      <td>0.000000</td>\n",
       "      <td>7.859620e+03</td>\n",
       "      <td>254.586578</td>\n",
       "    </tr>\n",
       "    <tr>\n",
       "      <th>25%</th>\n",
       "      <td>0.000000</td>\n",
       "      <td>25.000000</td>\n",
       "      <td>1653.735000</td>\n",
       "      <td>1.000000</td>\n",
       "      <td>1652.820000</td>\n",
       "      <td>0.000000</td>\n",
       "      <td>6.251069e+04</td>\n",
       "      <td>21775.599375</td>\n",
       "    </tr>\n",
       "    <tr>\n",
       "      <th>50%</th>\n",
       "      <td>0.000000</td>\n",
       "      <td>40.000000</td>\n",
       "      <td>2245.460000</td>\n",
       "      <td>1.000000</td>\n",
       "      <td>2244.810000</td>\n",
       "      <td>1.000000</td>\n",
       "      <td>1.130936e+05</td>\n",
       "      <td>38818.433721</td>\n",
       "    </tr>\n",
       "    <tr>\n",
       "      <th>75%</th>\n",
       "      <td>1.000000</td>\n",
       "      <td>55.000000</td>\n",
       "      <td>3128.610000</td>\n",
       "      <td>1.000000</td>\n",
       "      <td>3128.570000</td>\n",
       "      <td>2.000000</td>\n",
       "      <td>1.819546e+05</td>\n",
       "      <td>62574.719455</td>\n",
       "    </tr>\n",
       "    <tr>\n",
       "      <th>max</th>\n",
       "      <td>1.000000</td>\n",
       "      <td>65.000000</td>\n",
       "      <td>54662.750000</td>\n",
       "      <td>1.000000</td>\n",
       "      <td>54647.750000</td>\n",
       "      <td>2.000000</td>\n",
       "      <td>1.077967e+06</td>\n",
       "      <td>366131.165218</td>\n",
       "    </tr>\n",
       "  </tbody>\n",
       "</table>\n",
       "</div>"
      ],
      "text/plain": [
       "             Gender           Age  Income (USD)  Income Stability  \\\n",
       "count  47251.000000  47251.000000  47251.000000      47251.000000   \n",
       "mean       0.499566     40.005185   2586.498103          0.910986   \n",
       "std        0.500005     16.086562   1557.676706          0.284767   \n",
       "min        0.000000     18.000000    372.700000          0.000000   \n",
       "25%        0.000000     25.000000   1653.735000          1.000000   \n",
       "50%        0.000000     40.000000   2245.460000          1.000000   \n",
       "75%        1.000000     55.000000   3128.610000          1.000000   \n",
       "max        1.000000     65.000000  54662.750000          1.000000   \n",
       "\n",
       "       Property Age  Property Location  Property Price  \\\n",
       "count  47251.000000       47251.000000    4.725100e+04   \n",
       "mean    2586.467247           0.979006    1.350981e+05   \n",
       "std     1557.737980           0.808280    9.459404e+04   \n",
       "min      370.700000           0.000000    7.859620e+03   \n",
       "25%     1652.820000           0.000000    6.251069e+04   \n",
       "50%     2244.810000           1.000000    1.130936e+05   \n",
       "75%     3128.570000           2.000000    1.819546e+05   \n",
       "max    54647.750000           2.000000    1.077967e+06   \n",
       "\n",
       "       Loan Sanction Amount (USD)  \n",
       "count                47251.000000  \n",
       "mean                 46474.467952  \n",
       "std                  32545.590334  \n",
       "min                    254.586578  \n",
       "25%                  21775.599375  \n",
       "50%                  38818.433721  \n",
       "75%                  62574.719455  \n",
       "max                 366131.165218  "
      ]
     },
     "execution_count": 19,
     "metadata": {},
     "output_type": "execute_result"
    }
   ],
   "source": [
    "normalized_data.describe()"
   ]
  },
  {
   "cell_type": "code",
   "execution_count": 20,
   "metadata": {},
   "outputs": [],
   "source": [
    "minmax_scaler = MinMaxScaler()\n",
    "X = minmax_scaler.fit_transform(X)"
   ]
  },
  {
   "cell_type": "code",
   "execution_count": 21,
   "metadata": {
    "id": "oanMcOPgScf7"
   },
   "outputs": [],
   "source": [
    "def split_train_test(X, y, train_size=0.7):\n",
    "    trainX, testX ,trainY, testY = train_test_split(X, y, train_size=train_size, random_state=20)\n",
    "    print('Training:' + str(trainX.shape))\n",
    "    print('Test:' + str(testX.shape))\n",
    "\n",
    "    return trainX, testX ,trainY, testY\n"
   ]
  },
  {
   "cell_type": "code",
   "execution_count": 22,
   "metadata": {
    "id": "NFvHM8hA4vlr"
   },
   "outputs": [
    {
     "name": "stdout",
     "output_type": "stream",
     "text": [
      "Training:(33075, 7)\n",
      "Test:(14176, 7)\n"
     ]
    }
   ],
   "source": [
    "TRAIN_SIZE = 0.7\n",
    "\n",
    "trainX, testX ,trainY, testY = split_train_test(X, y, train_size=TRAIN_SIZE)"
   ]
  },
  {
   "cell_type": "code",
   "execution_count": 23,
   "metadata": {},
   "outputs": [
    {
     "data": {
      "text/plain": [
       "array([[0.        , 0.        , 0.03447556, 1.        , 0.03448382,\n",
       "        0.        , 0.05541328],\n",
       "       [0.        , 0.76595745, 0.04240096, 1.        , 0.04241111,\n",
       "        0.        , 0.08361561],\n",
       "       [0.        , 0.46808511, 0.05292811, 1.        , 0.05266443,\n",
       "        1.        , 0.06231299],\n",
       "       [0.        , 0.82978723, 0.17183241, 1.        , 0.17183672,\n",
       "        1.        , 0.16299117]])"
      ]
     },
     "execution_count": 23,
     "metadata": {},
     "output_type": "execute_result"
    }
   ],
   "source": [
    "trainX[1:5,]"
   ]
  },
  {
   "cell_type": "markdown",
   "metadata": {
    "id": "1xECUjRuFy2e"
   },
   "source": [
    "## Basic Linear Regression"
   ]
  },
  {
   "cell_type": "code",
   "execution_count": 24,
   "metadata": {
    "id": "6aIK-of7E6Wv"
   },
   "outputs": [
    {
     "name": "stdout",
     "output_type": "stream",
     "text": [
      "mean absolute error of linear model on train set  134.85265457041763\n",
      "mean absolute error of linear model on test set  160.91343855069917\n",
      "Coef của LinearRegression  là\n",
      "[-2.35945505e+02 -3.71094298e+03  3.00019644e+04 -1.11497599e+04\n",
      "  2.56902096e+04 -1.22115558e+02  3.59648907e+05]\n",
      "intercept của LinearRegression là: \n",
      "13504.303863996189\n"
     ]
    }
   ],
   "source": [
    "from sklearn.linear_model import LinearRegression, Ridge, Lasso, ElasticNet\n",
    "\n",
    "\n",
    "def build_linear_model(X, y):\n",
    "    model = LinearRegression(fit_intercept=True)   \n",
    "    model.fit(trainX, trainY) \n",
    "\n",
    "    return model\n",
    "\n",
    "model = build_linear_model(trainX, trainY)\n",
    "# Compare on training dataset\n",
    "pred = model.predict(trainX)   \n",
    "print(\"mean absolute error of linear model on train set \", mean_absolute_error(y_pred=pred, y_true=trainY) )\n",
    "pred = model.predict(testX)   \n",
    "print(\"mean absolute error of linear model on test set \", mean_absolute_error(y_pred=pred, y_true=testY) )\n",
    "\n",
    "print(\"Coef của LinearRegression  là\")\n",
    "\n",
    "print(model.coef_) # print coefficient\n",
    "print(\"intercept của LinearRegression là: \")\n",
    "print(model.intercept_) # print intercept_\n"
   ]
  },
  {
   "cell_type": "code",
   "execution_count": 25,
   "metadata": {
    "id": "snbiK5iHFJb_"
   },
   "outputs": [
    {
     "name": "stdout",
     "output_type": "stream",
     "text": [
      "mean absolute error of linear model on train set  134.40707296338064\n",
      "mean absolute error of linear model on test set  160.4695927700682\n",
      "Coef của Lasso là\n",
      "[-2.35602044e+02 -3.70909575e+03  4.65241322e+04 -1.11464126e+04\n",
      "  9.04296506e+03 -1.21510220e+02  3.59650934e+05]\n",
      "intercept của Lasso là \n",
      "13505.515460710092\n"
     ]
    }
   ],
   "source": [
    "from sklearn.linear_model import LinearRegression\n",
    "\n",
    "\n",
    "def build_lasso_model(X, y):\n",
    "    model = Lasso(alpha=0.1/1 ,max_iter=10000,fit_intercept=True) # Todo: use sklearn model and config your parameters\n",
    "    # Todo: fit your model with X, y\n",
    "    model.fit(trainX, trainY)\n",
    "\n",
    "    return model\n",
    "\n",
    "model = build_lasso_model(trainX, trainY)\n",
    "# Compare on training dataset\n",
    "pred = model.predict(trainX)   \n",
    "print(\"mean absolute error of linear model on train set \", mean_absolute_error(y_pred=pred, y_true=trainY) )\n",
    "pred = model.predict(testX)   \n",
    "print(\"mean absolute error of linear model on test set \", mean_absolute_error(y_pred=pred, y_true=testY) )\n",
    "\n",
    "print(\"Coef của Lasso là\")\n",
    "\n",
    "print(model.coef_) # print coefficient\n",
    "print(\"intercept của Lasso là \")\n",
    "print(model.intercept_) # print intercept_\n"
   ]
  },
  {
   "cell_type": "code",
   "execution_count": 26,
   "metadata": {
    "id": "_xH5lqi35WAJ"
   },
   "outputs": [
    {
     "name": "stdout",
     "output_type": "stream",
     "text": [
      "mean absolute error of linear model on train set  131.54447048702852\n",
      "mean absolute error of linear model on test set  157.6911697017725\n",
      "Coef của Ridge là\n",
      "[-2.35844567e+02 -3.71061714e+03  2.78774148e+04 -1.11492140e+04\n",
      "  2.78712919e+04 -1.22069590e+02  3.59503345e+05]\n",
      "intercept của Ridge là \n",
      "13518.500510010112\n"
     ]
    }
   ],
   "source": [
    "from sklearn.linear_model import LinearRegression\n",
    "\n",
    "\n",
    "def build_ridge_model(X, y):\n",
    "    model = Ridge(alpha=0.1/1,fit_intercept=True) # Todo: use sklearn model and config your parameters\n",
    "    # Todo: fit your model with X, y\n",
    "    model.fit(trainX, trainY)\n",
    "    return model\n",
    "\n",
    "model = build_ridge_model(trainX, trainY)\n",
    "# Compare on training dataset\n",
    "pred = model.predict(trainX)   \n",
    "print(\"mean absolute error of linear model on train set \", mean_absolute_error(y_pred=pred, y_true=trainY) )\n",
    "pred = model.predict(testX)   \n",
    "print(\"mean absolute error of linear model on test set \", mean_absolute_error(y_pred=pred, y_true=testY) )\n",
    "\n",
    "print(\"Coef của Ridge là\")\n",
    "\n",
    "print(model.coef_) # print coefficient\n",
    "print(\"intercept của Ridge là \")\n",
    "print(model.intercept_) # print intercept_\n"
   ]
  },
  {
   "cell_type": "code",
   "execution_count": 27,
   "metadata": {
    "id": "hOZ7NPAG53rg"
   },
   "outputs": [
    {
     "name": "stdout",
     "output_type": "stream",
     "text": [
      "mean absolute error of linear model on train set  131.2129746613895\n",
      "mean absolute error of linear model on test set  157.40560461397766\n",
      "Coef của ElasticNet là\n",
      "[-2.35782880e+02 -3.71039746e+03  2.78930937e+04 -1.11488490e+04\n",
      "  2.78927600e+04 -1.22042871e+02  3.59408276e+05]\n",
      "intercept của ElasticNet là \n",
      "13527.820320413164\n"
     ]
    }
   ],
   "source": [
    "from sklearn.linear_model import LinearRegression\n",
    "\n",
    "\n",
    "def build_elastic_model(X, y):\n",
    "    model = ElasticNet(alpha=0.1/10000 ,l1_ratio=0.5,max_iter=10000,fit_intercept=True)\n",
    "    # Todo: fit your model with X, y\n",
    "    model.fit(trainX, trainY)\n",
    "    return model\n",
    "\n",
    "model = build_elastic_model(trainX, trainY)\n",
    "# Compare on training dataset\n",
    "pred = model.predict(trainX)   \n",
    "print(\"mean absolute error of linear model on train set \", mean_absolute_error(y_pred=pred, y_true=trainY) )\n",
    "pred = model.predict(testX)   \n",
    "print(\"mean absolute error of linear model on test set \", mean_absolute_error(y_pred=pred, y_true=testY) )\n",
    "\n",
    "print(\"Coef của ElasticNet là\")\n",
    "\n",
    "print(model.coef_) # print coefficient\n",
    "print(\"intercept của ElasticNet là \")\n",
    "print(model.intercept_) # print intercept_\n"
   ]
  },
  {
   "cell_type": "markdown",
   "metadata": {},
   "source": [
    "### Cross validation test"
   ]
  },
  {
   "cell_type": "code",
   "execution_count": 28,
   "metadata": {
    "scrolled": true
   },
   "outputs": [
    {
     "name": "stdout",
     "output_type": "stream",
     "text": [
      "7.09 ns ± 0.109 ns per loop (mean ± std. dev. of 7 runs, 100000000 loops each)\n",
      "LinearRegression - RMSE: 1255.17\n",
      "Test set RMSE: 1862.02\n",
      "Ridge - RMSE: 1255.27\n",
      "Test set RMSE: 1862.32\n",
      "Lasso - RMSE: 1255.18\n",
      "Test set RMSE: 1862.06\n",
      "ElasticNet - RMSE: 1255.34\n",
      "Test set RMSE: 1862.56\n"
     ]
    }
   ],
   "source": [
    "%timeit my_variable = 42\n",
    "from sklearn.linear_model import LinearRegression, Ridge, Lasso, ElasticNet\n",
    "from sklearn.model_selection import cross_val_score\n",
    "from sklearn.metrics import mean_squared_error\n",
    "import numpy as np\n",
    "trainX, testX ,trainY, testY\n",
    "# Load the data\n",
    "data = pd.read_csv('final_house_loan.csv')\n",
    "\n",
    "# Split the data into training and testing sets\n",
    "#X_train, X_test, y_train, y_test = train_test_split(data.drop('Loan Sanction Amount (USD)', axis=1), \n",
    "#                                                    data['Loan Sanction Amount (USD)'], \n",
    "#                                                    test_size=0.2, random_state=42)\n",
    "\n",
    "# Define a function to train and evaluate each model using cross-validation\n",
    "def train_and_evaluate_model(model, trainX, trainY, cv=5):\n",
    "    # Train the model using cross-validation\n",
    "    scores = cross_val_score(model, trainX, trainY, cv=cv, scoring='neg_mean_squared_error')\n",
    "    # Compute the root mean squared error\n",
    "    rmse = np.sqrt(-scores.mean())\n",
    "    # Print the model name and RMSE\n",
    "    print(f\"{type(model).__name__} - RMSE: {rmse:.2f}\")\n",
    "    # Fit the model on the full training set\n",
    "    model.fit(trainX, trainY)\n",
    "    # Compute the test set RMSE\n",
    "    y_pred = model.predict(testX)\n",
    "    test_rmse = np.sqrt(mean_squared_error(testY, y_pred))\n",
    "    # Print the test set RMSE\n",
    "    print(f\"Test set RMSE: {test_rmse:.2f}\")\n",
    "    return model\n",
    "\n",
    "# Train and evaluate each model\n",
    "lr = train_and_evaluate_model(LinearRegression(), trainX, trainY)\n",
    "ridge = train_and_evaluate_model(Ridge(alpha=0.1/1), trainX, trainY) #0.0010\n",
    "lasso = train_and_evaluate_model(Lasso(alpha=0.1/1), trainX, trainY) #0.00001\n",
    "elasticnet = train_and_evaluate_model(ElasticNet(alpha=0.1/10000 ,l1_ratio=0.5,max_iter=10000,fit_intercept=True), trainX, trainY) #0.00001\n"
   ]
  },
  {
   "cell_type": "markdown",
   "metadata": {},
   "source": [
    "Linear Regression:\n",
    "\n",
    "Ưu điểm: Mô hình Hồi quy tuyến tính có RMSE tập huấn luyện thấp nhất, cho thấy đây là một mô hình cơ bản và hiệu quả cho tập dữ liệu này.\n",
    "Nhược điểm: Tuy nhiên, RMSE tập kiểm tra của nó cao hơn so với các mô hình Ridge, Lasso và ElasticNet, cho thấy nó nhạy cảm hơn đối với hiện tượng quá khớp và không tổng quát hóa tốt cho dữ liệu mới.\n",
    "\n",
    "Ridge Regression:\n",
    "\n",
    "Ưu điểm: Mô hình Hồi quy Ridge có RMSE tập huấn luyện cao hơn mô hình Hồi quy tuyến tính một chút, nhưng RMSE tập kiểm tra lại thấp hơn, cho thấy nó tốt hơn trong việc tổng quát hóa dữ liệu mới và ít nhạy cảm hơn đối với hiện tượng quá khớp.\n",
    "Nhược điểm: Tuy nhiên, mô hình Hồi quy Ridge không thực hiện việc lựa chọn đặc trưng và không thể hoàn toàn loại bỏ các đặc trưng, điều này có thể là một bất lợi nếu có quá nhiều đặc trưng vô nghĩa hoặc trùng lặp trong tập dữ liệu.\n",
    "\n",
    "Lasso Regression:\n",
    "\n",
    "Ưu điểm: Mô hình Hồi quy Lasso có RMSE tập kiểm tra cao nhất trong bốn mô hình, nhưng lại có RMSE tập huấn luyện thấp nhất, cho thấy nó rất hiệu quả trong việc giảm hiện tượng quá khớp và lựa chọn đặc trưng bằng cách đặt một số hệ số đặc trưng bằng không.\n",
    "Nhược điểm: Tuy nhiên, nếu có quá nhiều đặc trưng quan trọng trong tập dữ liệu, mô hình Hồi quy Lasso có thể loại bỏ một số trong số chúng và dẫn đến một mô hình không tối ưu.\n",
    "\n",
    "ElasticNet Regression:\n",
    "\n",
    "Ưu điểm: Mô hình Hồi quy ElasticNet kết hợp các ưu điểm của Hồi quy Ridge và Lasso bằng cách sử dụng một sự kết hợp của chế độ điều chuẩn L1 và L2, cho phép nó thực hiện cả việc lựa chọn đặc trưng và thu nhỏ đặc trưng.\n",
    "Nhược điểm: Tuy nhiên, điều chỉnh các tham số L1 và L2 có thể khá là khó khăn và cần nhiều phép thử cho 1 bộ dữ liệu nhất định"
   ]
  },
  {
   "cell_type": "raw",
   "metadata": {},
   "source": [
    "## Parameter Note\n",
    "Ridge \n",
    "7.77 ns ± 0.279 ns per loop (mean ± std. dev. of 7 runs, 100000000 loops each) 0.1/100      1862.02\n",
    "7.16 ns ± 0.321 ns per loop alpha = 0.1/10                  1862.04\n",
    "*** 7.04 ns ± 0.329 ns per loop  alpha = 0.1                1862.32\n",
    "lasso\n",
    "7.55 ns ± 0.128 ns per loop alpha = 0.2                     1862.11\n",
    "*** 7.36 ns ± 0.131 ns per loop alpha = 0.1                 1862.06\n",
    "7.46 ns ± 0.0638 ns per loop alpha = 0.1/10                 1862.02\n",
    "7.56 ns ± 0.237 ns per loop alpha = 0.1/100                 1862.02\n",
    "elastic  (Peak at 1862)                                     Test RMSE\n",
    "6.66 ns ± 0.212 ns per loop alpha=0.1/1000 ,l1_ratio=0.8 1865.53\n",
    "alpha=0.1/10000 ,  l1_ratio=0.5 1862.56 -> convert struggle \n",
    "***7.41 ns ± 0.155 ns per loop alpha=0.1/10000 ,  l1_ratio=0.5 1862.56\n",
    "7.36 ns ± 0.0589 ns per loop alpha=0.1/1000 ,  l1_ratio=0.5 1877.32\n",
    "7.42 ns ± 0.174 ns per loop alpha=0.1/100      l1_ratio=0.5 2695.54\n",
    "7.36 ns ± 0.197 ns per loop alpha=0.1/10,      l1_ratio=0.5 12599.92 \n",
    "7.71 ns ± 0.156 ns per loop alpha=0.1/1,       l1_ratio=0.5 28053.12\n",
    "7.34 ns ± 0.25 ns per loop  alpha=0.1/1,       l1_ratio=0.2 29596.98 \n",
    "7.12 ns ± 0.384 ns per loop alpha=0.1/1,   l1_ratio=0.1 29902.68\n",
    "7.2 ns ± 0.372 ns per loop alpha=0.1/1,        l1_ratio=0.05  30033.41\n",
    "7.37 ns ± 0.1 ns per loop  alpha=0.1/10,       l1_ratio=0.1 17251.72"
   ]
  },
  {
   "cell_type": "markdown",
   "metadata": {
    "id": "4SDs25IOFoBw"
   },
   "source": [
    "## Polynomial Transform "
   ]
  },
  {
   "cell_type": "markdown",
   "metadata": {
    "id": "mkeldd8AF_Ju"
   },
   "source": [
    "When the data feature does not conform to a linear function, a linear regression cannot be applied directly to the original data. Then, there are many possibilities that the data feature conforms to the polynomial function. Scikit-Learn supports converting data features to polynomials through ``PolynomialFeatures``.\n",
    "\n",
    "$$\n",
    "y = a_0 + a_1 x + a_2 x^2 + a_3 x^3 + \\cdots\n",
    "$$\n",
    "\n",
    "The formula above uses the transformation of the value $x$ from one dimension to the other, with the aim of being able to use linear regression to find complex relationships between $x$ and $y$."
   ]
  },
  {
   "cell_type": "code",
   "execution_count": 29,
   "metadata": {
    "id": "PXhjw_utFxzS"
   },
   "outputs": [
    {
     "name": "stdout",
     "output_type": "stream",
     "text": [
      "mean absolute error of linear model (with poly transform) on train set  123.7186378527345\n",
      "mean absolute error of linear model (with poly transform) on test set  148.73699819782442\n"
     ]
    }
   ],
   "source": [
    "#Linear Regression with Polynomial Transform\n",
    "from sklearn.preprocessing import PolynomialFeatures\n",
    "from sklearn.pipeline import make_pipeline\n",
    "\n",
    "def build_pipeline(X, y):\n",
    "    poly_model = make_pipeline(PolynomialFeatures(2, include_bias=False), LinearRegression())\n",
    "    poly_model.fit(X, y)   \n",
    "\n",
    "    return poly_model\n",
    "# Compare on training dataset\n",
    "poly_model = build_pipeline(trainX, trainY)\n",
    "# Compare on training dataset\n",
    "poly_pred = poly_model.predict(trainX)   \n",
    "print(\"mean absolute error of linear model (with poly transform) on train set \", \n",
    "      mean_absolute_error(y_pred=poly_pred, y_true=trainY) )\n",
    "\n",
    "poly_pred = poly_model.predict(testX)\n",
    "print(\"mean absolute error of linear model (with poly transform) on test set \",\n",
    "      mean_absolute_error(y_pred=poly_pred, y_true=testY))"
   ]
  },
  {
   "cell_type": "code",
   "execution_count": 30,
   "metadata": {},
   "outputs": [],
   "source": [
    "from sklearn.preprocessing import PolynomialFeatures\n",
    "from sklearn.metrics import mean_squared_error, r2_score\n",
    "import matplotlib.pyplot as plt\n",
    "\n",
    "\n",
    "degrees = range(1, 8)\n",
    "\n",
    "\n",
    "# Loop over the degrees and fit the models\n",
    "test_mse=[]\n",
    "for degree in degrees:\n",
    "    poly_model = make_pipeline(PolynomialFeatures(degree, include_bias=False), LinearRegression())\n",
    "    poly_model.fit(X, y)   \n",
    "\n",
    "    y_test_pred = poly_model.predict(testX)\n",
    "    \n",
    "    test_mse.append(mean_absolute_error(testY, y_test_pred))\n"
   ]
  },
  {
   "cell_type": "code",
   "execution_count": 31,
   "metadata": {},
   "outputs": [
    {
     "data": {
      "image/png": "[encoded data removed]",
      "text/plain": [
       "<Figure size 800x800 with 1 Axes>"
      ]
     },
     "metadata": {},
     "output_type": "display_data"
    }
   ],
   "source": [
    "# Plot the metrics as the degree of the polynomial features increases\n",
    "fig, ax = plt.subplots(figsize=(8, 8))\n",
    "ax.plot(degrees, test_mse, label='Testing MSE')\n",
    "ax.set_xlabel('Degree of Polynomial Features')\n",
    "ax.set_ylabel('mean_absolute_error')\n",
    "ax.legend()\n",
    "\n",
    "plt.show()"
   ]
  },
  {
   "cell_type": "markdown",
   "metadata": {},
   "source": [
    "### Có thể thấy khi số parameters càng cao (bắt đầu từ 3) thì mean absolute error bắt đầu từ cực tiểu tăng dần khi parameters càng tăng -> overfitting"
   ]
  }
 ],
 "metadata": {
  "colab": {
   "authorship_tag": "ABX9TyOPDirer5hA1Mu53HldXIaP",
   "provenance": []
  },
  "kernelspec": {
   "display_name": "Python 3 (ipykernel)",
   "language": "python",
   "name": "python3"
  },
  "language_info": {
   "codemirror_mode": {
    "name": "ipython",
    "version": 3
   },
   "file_extension": ".py",
   "mimetype": "text/x-python",
   "name": "python",
   "nbconvert_exporter": "python",
   "pygments_lexer": "ipython3",
   "version": "3.7.15"
  }
 },
 "nbformat": 4,
 "nbformat_minor": 1
}
